{
 "cells": [
  {
   "cell_type": "markdown",
   "metadata": {
    "deletable": true,
    "editable": true
   },
   "source": [
    "# 深度学习\n",
    "\n",
    "Author: [shikanon](!https://github.com/shikanon)"
   ]
  },
  {
   "cell_type": "markdown",
   "metadata": {
    "deletable": true,
    "editable": true
   },
   "source": [
    "## 一、基础篇\n",
    "\n",
    "神经网络中的每个*神经元* 对其所有的输入进行加权求和，并添加一个被称为*偏置（bias）* 的常数，然后通过一些非线性激活函数来反馈结果。\n",
    "\n",
    "### 1. softmax\n",
    "softmax主要用来做多分类问题，是logistic回归模型在多分类问题上的推广，softmax 公式：\n",
    "<img src='http://img.blog.csdn.net/20161013124320607'>\n",
    "\n",
    "当k=2时，转换为逻辑回归形式。\n",
    "\n",
    "softmax 公式示意图：\n",
    "<img src='./img/softmax-regression-scalargraph.png' style='width: 50%;'>\n",
    "\n",
    "\n",
    "softmax一般作为神经网络最后一层，作为输出层进行多分类，Softmax的输出的每个值都是>=0，并且其总和为1，所以可以认为其为概率分布。\n",
    "\n",
    "softmax 示意图\n",
    "<img src='https://pic3.zhimg.com/v2-998ddf16795db98b980443db952731c2_b.jpg'>\n",
    "\n",
    "\n"
   ]
  },
  {
   "cell_type": "code",
   "execution_count": 2,
   "metadata": {
    "collapsed": false,
    "deletable": true,
    "editable": true
   },
   "outputs": [
    {
     "name": "stderr",
     "output_type": "stream",
     "text": [
      "Using TensorFlow backend.\n"
     ]
    }
   ],
   "source": [
    "from IPython.display import SVG\n",
    "from keras.datasets import mnist\n",
    "from keras.models import Sequential\n",
    "from keras.layers import Dense, Dropout, Activation, Reshape\n",
    "from keras.optimizers import SGD, Adam\n",
    "from keras.utils.visualize_util import model_to_dot\n",
    "from keras.utils import np_utils\n",
    "import tensorflow as tf"
   ]
  },
  {
   "cell_type": "code",
   "execution_count": 3,
   "metadata": {
    "collapsed": false,
    "deletable": true,
    "editable": true
   },
   "outputs": [
    {
     "name": "stdout",
     "output_type": "stream",
     "text": [
      "原数据结构：\n",
      "((60000, 28, 28), (60000,))\n",
      "((10000, 28, 28), (10000,))\n",
      "变换后的数据结构：\n",
      "((60000, 784), (60000, 10))\n",
      "((10000, 784), (10000, 10))\n"
     ]
    }
   ],
   "source": [
    "#设置随机数种子,保证实验可重复\n",
    "import numpy as np\n",
    "np.random.seed(0)\n",
    "#设置线程\n",
    "THREADS_NUM = 20\n",
    "tf.ConfigProto(intra_op_parallelism_threads=THREADS_NUM)\n",
    "\n",
    "(X_train, Y_train),(X_test, Y_test) = mnist.load_data()\n",
    "print('原数据结构：')\n",
    "print(X_train.shape, Y_train.shape)\n",
    "print(X_test.shape, Y_test.shape)\n",
    "\n",
    "#数据变换\n",
    "#分为10个类别\n",
    "nb_classes = 10\n",
    "\n",
    "x_train_1 = X_train.reshape(60000, 784)\n",
    "#x_train_1 /= 255\n",
    "#x_train_1 = x_train_1.astype('float32')\n",
    "y_train_1 = np_utils.to_categorical(Y_train, nb_classes)\n",
    "print('变换后的数据结构：')\n",
    "print(x_train_1.shape, y_train_1.shape)\n",
    "\n",
    "x_test_1 = X_test.reshape(10000, 784)\n",
    "y_test_1 = np_utils.to_categorical(Y_test, nb_classes)\n",
    "print(x_test_1.shape, y_test_1.shape)"
   ]
  },
  {
   "cell_type": "code",
   "execution_count": 5,
   "metadata": {
    "collapsed": false,
    "deletable": true,
    "editable": true
   },
   "outputs": [
    {
     "name": "stdout",
     "output_type": "stream",
     "text": [
      "____________________________________________________________________________________________________\n",
      "Layer (type)                     Output Shape          Param #     Connected to                     \n",
      "====================================================================================================\n",
      "dense_1 (Dense)                  (None, 10)            7850        dense_input_1[0][0]              \n",
      "____________________________________________________________________________________________________\n",
      "activation_1 (Activation)        (None, 10)            0           dense_1[0][0]                    \n",
      "====================================================================================================\n",
      "Total params: 7,850\n",
      "Trainable params: 7,850\n",
      "Non-trainable params: 0\n",
      "____________________________________________________________________________________________________\n"
     ]
    }
   ],
   "source": [
    "# 构建一个softmax模型\n",
    "# neural network with 1 layer of 10 softmax neurons\n",
    "#\n",
    "# · · · · · · · · · ·       (input data, flattened pixels)       X [batch, 784]        # 784 = 28 * 28\n",
    "# \\x/x\\x/x\\x/x\\x/x\\x/    -- fully connected layer (softmax)      W [784, 10]     b[10]\n",
    "#   · · · · · · · ·                                              Y [batch, 10]\n",
    "\n",
    "# The model is:\n",
    "#\n",
    "# Y = softmax( X * W + b)\n",
    "#              X: matrix for 100 grayscale images of 28x28 pixels, flattened (there are 100 images in a mini-batch)\n",
    "#              W: weight matrix with 784 lines and 10 columns\n",
    "#              b: bias vector with 10 dimensions\n",
    "#              +: add with broadcasting: adds the vector to each line of the matrix (numpy)\n",
    "#              softmax(matrix) applies softmax on each line\n",
    "#              softmax(line) applies an exp to each value then divides by the norm of the resulting line\n",
    "#              Y: output matrix with 100 lines and 10 columns\n",
    "\n",
    "model = Sequential()\n",
    "model.add(Dense(nb_classes, input_shape=(784,)))#全连接，输入784维度, 输出10维度，需要和输入输出对应\n",
    "model.add(Activation('softmax'))\n",
    "\n",
    "sgd = SGD(lr=0.005)\n",
    "#binary_crossentropy，就是交叉熵函数\n",
    "model.compile(loss='binary_crossentropy',\n",
    "              optimizer=sgd,\n",
    "              metrics=['accuracy'])\n",
    "\n",
    "#model 概要\n",
    "model.summary()"
   ]
  },
  {
   "cell_type": "code",
   "execution_count": 6,
   "metadata": {
    "collapsed": false,
    "deletable": true,
    "editable": true
   },
   "outputs": [
    {
     "data": {
      "image/svg+xml": [
       "<svg height=\"194pt\" viewBox=\"0.00 0.00 170.00 194.00\" width=\"170pt\" xmlns=\"http://www.w3.org/2000/svg\" xmlns:xlink=\"http://www.w3.org/1999/xlink\">\n",
       "<g class=\"graph\" id=\"graph0\" transform=\"scale(1 1) rotate(0) translate(4 190)\">\n",
       "<title>G</title>\n",
       "<polygon fill=\"white\" points=\"-4,5 -4,-190 167,-190 167,5 -4,5\" stroke=\"white\"/>\n",
       "<!-- 45635152 -->\n",
       "<g class=\"node\" id=\"node1\"><title>45635152</title>\n",
       "<polygon fill=\"none\" points=\"-0.5,-149 -0.5,-185 162.5,-185 162.5,-149 -0.5,-149\" stroke=\"black\"/>\n",
       "<text font-family=\"Times,serif\" font-size=\"14.00\" text-anchor=\"middle\" x=\"81\" y=\"-163.3\">dense_input_1: InputLayer</text>\n",
       "</g>\n",
       "<!-- 51061456 -->\n",
       "<g class=\"node\" id=\"node2\"><title>51061456</title>\n",
       "<polygon fill=\"none\" points=\"30,-75 30,-111 132,-111 132,-75 30,-75\" stroke=\"black\"/>\n",
       "<text font-family=\"Times,serif\" font-size=\"14.00\" text-anchor=\"middle\" x=\"81\" y=\"-89.3\">dense_1: Dense</text>\n",
       "</g>\n",
       "<!-- 45635152&#45;&gt;51061456 -->\n",
       "<g class=\"edge\" id=\"edge1\"><title>45635152-&gt;51061456</title>\n",
       "<path d=\"M81,-148.937C81,-140.807 81,-130.876 81,-121.705\" fill=\"none\" stroke=\"black\"/>\n",
       "<polygon fill=\"black\" points=\"84.5001,-121.441 81,-111.441 77.5001,-121.441 84.5001,-121.441\" stroke=\"black\"/>\n",
       "</g>\n",
       "<!-- 51061840 -->\n",
       "<g class=\"node\" id=\"node3\"><title>51061840</title>\n",
       "<polygon fill=\"none\" points=\"7,-1 7,-37 155,-37 155,-1 7,-1\" stroke=\"black\"/>\n",
       "<text font-family=\"Times,serif\" font-size=\"14.00\" text-anchor=\"middle\" x=\"81\" y=\"-15.3\">activation_1: Activation</text>\n",
       "</g>\n",
       "<!-- 51061456&#45;&gt;51061840 -->\n",
       "<g class=\"edge\" id=\"edge2\"><title>51061456-&gt;51061840</title>\n",
       "<path d=\"M81,-74.937C81,-66.8072 81,-56.8761 81,-47.7047\" fill=\"none\" stroke=\"black\"/>\n",
       "<polygon fill=\"black\" points=\"84.5001,-47.4406 81,-37.4407 77.5001,-47.4407 84.5001,-47.4406\" stroke=\"black\"/>\n",
       "</g>\n",
       "</g>\n",
       "</svg>"
      ],
      "text/plain": [
       "<IPython.core.display.SVG object>"
      ]
     },
     "execution_count": 6,
     "metadata": {},
     "output_type": "execute_result"
    }
   ],
   "source": [
    "SVG(model_to_dot(model).create(prog='dot', format='svg'))"
   ]
  },
  {
   "cell_type": "code",
   "execution_count": 8,
   "metadata": {
    "collapsed": false,
    "deletable": true,
    "editable": true
   },
   "outputs": [],
   "source": [
    "from keras.callbacks import Callback, TensorBoard\n",
    "import tensorflow as tf\n",
    "\n",
    "#构建一个记录的loss的回调函数\n",
    "class LossHistory(Callback):\n",
    "    def on_train_begin(self, logs={}):\n",
    "        self.losses = []\n",
    "\n",
    "    def on_batch_end(self, batch, logs={}):\n",
    "        self.losses.append(logs.get('loss'))\n",
    "\n",
    "# 构建一个自定义的TensorBoard类，专门用来记录batch中的数据变化\n",
    "class BatchTensorBoard(TensorBoard):\n",
    "    def __init__(self,log_dir='./logs',\n",
    "                 histogram_freq=0,\n",
    "                 write_graph=True,\n",
    "                 write_images=False):\n",
    "        super(BatchTensorBoard, self).__init__()\n",
    "        self.log_dir = log_dir\n",
    "        self.histogram_freq = histogram_freq\n",
    "        self.merged = None\n",
    "        self.write_graph = write_graph\n",
    "        self.write_images = write_images\n",
    "        self.batch = 0\n",
    "        self.batch_queue = set()\n",
    "    \n",
    "    def on_epoch_end(self, epoch, logs=None):\n",
    "        pass\n",
    "    \n",
    "    def on_batch_end(self,batch,logs=None):\n",
    "        logs = logs or {}\n",
    "        \n",
    "        self.batch = self.batch + 1\n",
    "        \n",
    "        for name, value in logs.items():\n",
    "            if name in ['batch', 'size']:\n",
    "                continue\n",
    "            summary = tf.Summary()\n",
    "            summary_value = summary.value.add()\n",
    "            summary_value.simple_value = float(value)\n",
    "            summary_value.tag = \"batch_\" + name\n",
    "            if (name,self.batch) in self.batch_queue:\n",
    "                continue\n",
    "            self.writer.add_summary(summary, self.batch)\n",
    "            self.batch_queue.add((name,self.batch))\n",
    "        self.writer.flush()"
   ]
  },
  {
   "cell_type": "code",
   "execution_count": 54,
   "metadata": {
    "collapsed": false,
    "deletable": true,
    "editable": true
   },
   "outputs": [
    {
     "data": {
      "text/plain": [
       "<keras.callbacks.History at 0xa86d650>"
      ]
     },
     "execution_count": 54,
     "metadata": {},
     "output_type": "execute_result"
    }
   ],
   "source": [
    "tensorboard = TensorBoard(log_dir='/home/tensorflow/log/softmax/epoch')\n",
    "my_tensorboard = BatchTensorBoard(log_dir='/home/tensorflow/log/softmax/batch')\n",
    "\n",
    "model.fit(x_train_1, y_train_1,\n",
    "          nb_epoch=20,\n",
    "          verbose=0,\n",
    "          batch_size=100,\n",
    "          callbacks=[tensorboard, my_tensorboard])"
   ]
  },
  {
   "cell_type": "markdown",
   "metadata": {
    "deletable": true,
    "editable": true
   },
   "source": [
    "### 损失函数\n",
    "\n",
    "**损失函数（loss function）**，是指一种将一个事件（在一个样本空间中的一个元素）映射到一个表达与其事件相关的经济成本或机会成本的实数上的一种函数，在统计学中损失函数是一种衡量损失和错误（这种损失与“错误地”估计有关，如费用或者设备的损失）程度的函数。\n",
    "\n",
    "**交叉熵（cross-entropy）**就是神经网络中常用的损失函数。\n",
    "\n",
    "交叉熵性质：\n",
    "\n",
    "（1）非负性。\n",
    "\n",
    "（2）当真实输出a与期望输出y接近的时候，代价函数接近于0.(比如y=0，a～0；y=1，a~1时，代价函数都接近0)。\n",
    "\n",
    "<img src='http://img.mp.itc.cn/upload/20170124/9fe5ab61209c490297769b729a471c81_th.jpeg'>\n",
    "\n",
    "一个比较简单的理解就是使得 预测值Yi和真实值Y' 对接近，即两者的乘积越大，coss-entropy越小。\n",
    "\n",
    "交叉熵和准确度变化图像可以看 **TensorBoard** 。\n",
    "\n",
    "### 梯度下降\n",
    "\n",
    "如果对于所有的权重和所有的偏置计算交叉熵的偏导数，就得到一个对于给定图像、标签和当前权重和偏置的「梯度」，如图所示：\n",
    "\n",
    "<img src='http://img.mp.itc.cn/upload/20170124/b90ff98a395b46e392c21c6ebca0c7d6_th.jpeg'>\n",
    "\n",
    "我们希望损失函数最小，也就是需要到达交叉熵最小的凹点的低部。在上图中，交叉熵被表示为一个具有两个权重的函数。\n",
    "\n",
    "而学习速率，即在梯度下降中的步伐大小。"
   ]
  },
  {
   "cell_type": "code",
   "execution_count": 72,
   "metadata": {
    "collapsed": false,
    "deletable": true,
    "editable": true
   },
   "outputs": [
    {
     "name": "stdout",
     "output_type": "stream",
     "text": [
      "['loss', 'acc']\n",
      " 9800/10000 [============================>.] - ETA: 0s \b\b\b\b\b\b\b\b\b\b\b\b\b\b\b\b\b\b\b\b\b\b\b\b\b\b\b\b\b\b\b\b\b\b\b\b\b\b\b\b\b\b\b\b\b\b\b\b\b\b\b\b\b\b\b\b\b\b\b\b\b\b\b\b\b\b\b\b\b\b\b\b\b\b\b\b\b\b\b\b\b\b\b\b\b\b\b\b\b\b\b\b\b\b\b\b\b\b\b\b\b\b\b\b\b\b\b\b\b\b\b\b\b\b\b\b\b\b\b\b\b\b\b\b\b\b\b\b\b\b\b\b\b\b\b\b\b\b\b\b\b\b\b\b\b\b\b\b\b\b\b\b\b\b\b\b\b\b\b\b\b\b\b\b\b\b\b\b\b\b\b\b\b\b\b\b\b\b\b\b\b\b\b\b\b\b\b\b\b\b\b\b\b\b\b\b\b\b\b\b\b\b\b\b\b\b\b\b\b\b\b\b\b\b\b\b\b\b\b\b\b\b\b\b\b\b\b\b\b\b\b\b\b\b\b\b\b\b\b\b\b\b\b\b\b\b\b\b\b\b\b\b\b\b\b\b\b\b\b\b\b\b\b\b\b\b\b\b\b\b\b\b\b\b\b\b\b\b\b\b\b\b\b\b\b\b\b\b\b\b\b\b\b\b\b\b\b\b\b\b\b\b\b\b\b\b\b\b\b\b\b\b\b\b\b\b\b\b\b\b\b\b\b\b\b\b\b\b\b\b\b\b\b\b\b\b\b\b\b\b\b\b\b\b\b\b\b\b\b\b\b\b\b\b\b\b\b\b\b\b\b\b\b\b\b\b\b\b\b\b\b\b\b\b\b\b\b\b\b\b\b\b\b\b\b\b\b\b\b\b\b\b\b\b\b\b\b\b\b\b\b\b\b\b\b\b\b\b\b\b\b\b\b\b\b\b\b\b\b\b\b\b\b\b\b\b\b\b\b\b\b\b\b\b\b\b\b\b\b\b\b\b\b\b\b\b\b\b\b\b\b\b\b\b\b\b\b\b\b\b\b\b\b\b\b\b\b\b\b\b\b\b\b\b\b\b\b\b\b\b\b\b\b\b\b\b\b\b\b\b\b\b\b\b\b\b\b\b\b\b\b\b\b\b\b\b\b\b\b\b\b\b\b\b\b\b\b\b\b\b\b\b\b\b\b\b\b\b\b\b\b\b\b\b\b\b\b\b\b\b\b\b\b\b\b\b\b\b\b\b\b\b\b\b\b\b\b\b\b\b\b\b\b\b\b\b\b\b\b\b\b\b\b\b\b\b\b\b\b\b\b\b\b\b\b\b\b\b\b\b\b\b\b\b\b\b\b\b\b\b\b\b\b\b\b\b\b\b\b\b\b\b\b\b\b\b\b\b\b\b\b\b\b\b\b\b\b\b\b\b\b\b\b\b\b\b\b\b\b\b\b\b\b\b\b\b\b\b\b\b\b\b\b\b\b\b\b\b\b\b\b\b\b\b\b\b\b\b\b\b\b\b\b\b\b\b\b\b\b\b\b\b\b\b\b\b\b\b\b\b\b\b\b\b\b\b\b\b\b\b\b\b\b"
     ]
    },
    {
     "data": {
      "text/plain": [
       "[0.87580669939517974, 0.94387999653816224]"
      ]
     },
     "execution_count": 72,
     "metadata": {},
     "output_type": "execute_result"
    }
   ],
   "source": [
    "#模型的测试误差指标\n",
    "print(model.metrics_names)\n",
    "# 对测试数据进行测试\n",
    "model.evaluate(x_test_1, y_test_1,\n",
    "          verbose=1,\n",
    "          batch_size=100)"
   ]
  },
  {
   "cell_type": "markdown",
   "metadata": {
    "deletable": true,
    "editable": true
   },
   "source": [
    "-----------------\n",
    "\n",
    "上面，我们探索了softmax对多分类的支持和理解，知道softmax可以作为一个输出成层进行多分类任务。\n",
    "\n",
    "但是，这种分类任务解决的都是线性因素形成的问题，对于非线性的，特别是异或问题，如何解决呢？\n",
    "\n",
    "这时，一种包含多层隐含层的深度神经网络的概念被提出。\n",
    "\n",
    "### 3. 激活函数\n",
    "\n",
    "**激活函数（activation function）**可以使得模型加入非线性因素的。\n",
    "\n",
    "解决非线性问题有两个办法：线性变换、引入非线性函数。\n",
    "\n",
    "**（1）线性变换(linear transformation)**\n",
    "\n",
    "原本一个线性不可分的模型如：X^2 + Y^2 = 1\n",
    "<img src='https://pic4.zhimg.com/7c88498a754cc7766217e2a57370be03_b.jpg'>\n",
    "\n",
    "将坐标轴进行高维变换，变成X^2和 Y^2，这是表达式变为了X + Y = 1，这是他就变成了一个线性可分的问题。\n",
    "<img src='https://pic1.zhimg.com/04cccf522b8d0fb403c64bd6db53d204_b.jpg'>\n",
    "\n",
    "**（2）引入非线性函数**\n",
    "\n",
    "一个典型的异或问题：\n",
    "<img src='https://pic3.zhimg.com/8a5b88d6beda0c6ed79721ca709030fa_b.jpg'>\n",
    "x = 1, y = 1, 则 z = 0\n",
    "x = 0, y = 0, 则 z = 0\n",
    "x = 1, y = 0, 则 z = 1\n",
    "x = 0, y = 1, 则 z = 1\n",
    "\n",
    "如何构建一个f()，使得：f(x,y)=z呢？\n",
    "\n",
    "...\n",
    "\n",
    "----------------\n",
    "\n",
    "经典的神经网络解决方案：\n",
    "\n",
    "<img src='https://pic4.zhimg.com/d45f15128c401f6d7b8ae8a0b2fb2967_b.jpg'>\n",
    "\n",
    "(线上的数值为权重值，单元圈中的数值为阈值)\n",
    "\n",
    "构建两个隐藏层，使用逻辑回归函数。\n",
    "\n",
    "第一层激活单元（阈值为t）\n",
    "\n",
    "```\n",
    "if a >= t:\n",
    "    h(a) = a\n",
    "else:\n",
    "    h(a) = 0\n",
    "```\n",
    "\n",
    "第二层的阈值为1.5,第三层阈值为0.5\n",
    "\n",
    "最后一层输出的权重值:\n",
    "\n",
    "<img src='https://pic4.zhimg.com/2c54fea477b3960172874202e7c47657_b.jpg'>\n",
    "\n",
    "图形化解释：\n",
    "\n",
    "经过变换后的数据是线性可分的（n维，比如本例中可以用平面）\n",
    "<img src='https://pic1.zhimg.com/3bf44923c05ef7e4ba6407aee8d2d938_b.jpg'>\n",
    "\n",
    "\n",
    "一个可视化演示网址：\n",
    "\n",
    "http://playground.tensorflow.org/\n",
    "\n",
    "可以自己建立一个小型神经网络帮助理解。\n",
    "\n",
    "\n",
    "### 3. sigmoid\n",
    "\n",
    "sigmoid是一个用来做二分类的\"S\"形逻辑回归曲线\n",
    "\n",
    "sigmoid公式：\n",
    "<img src='http://d.hiphotos.baidu.com/baike/s%3D99/sign=a46bd6f1dd33c895a27e9472d01340df/0df3d7ca7bcb0a4659502a5f6f63f6246b60af62.jpg'>\n",
    "\n",
    "sigmoid图像：\n",
    "<img src='http://img.blog.csdn.net/20161013123019537'>\n",
    "\n",
    "其抑制两头,对中间细微变化敏感，因此sigmoid函数作为最简单常用的神经网络激活层被使用。\n",
    "\n",
    "优点：\n",
    "\n",
    "（1）输出范围(0,1)，数据在传递的过程中不容易发散\n",
    "\n",
    "（2）单向递增\n",
    "\n",
    "（3）易求导\n",
    "\n",
    "sigmod有个缺点，sigmoid函数反向传播时，很容易就会出现梯度消失,在接近饱和区的时候，导数趋向0，会变得非常缓慢。因此，在优化器选择时选用Adam优化器。\n",
    "\n",
    "Adam 也是基于梯度下降的方法，但是每次迭代参数的学习步长都有一个确定的范围，不会因为很大的梯度导致很大的学习步长，参数的值比较稳定。有利于降低模型收敛到局部最优的风险，而SGD容易收敛到局部最优，**如果下面代码中的optimizer改成SGD的化，在一次epoch后就acc值不会改变了，陷入局部最优**\n",
    "\n"
   ]
  },
  {
   "cell_type": "code",
   "execution_count": 46,
   "metadata": {
    "collapsed": false,
    "deletable": true,
    "editable": true
   },
   "outputs": [
    {
     "name": "stdout",
     "output_type": "stream",
     "text": [
      "____________________________________________________________________________________________________\n",
      "Layer (type)                     Output Shape          Param #     Connected to                     \n",
      "====================================================================================================\n",
      "dense_23 (Dense)                 (None, 200)           157000      dense_input_7[0][0]              \n",
      "____________________________________________________________________________________________________\n",
      "activation_23 (Activation)       (None, 200)           0           dense_23[0][0]                   \n",
      "____________________________________________________________________________________________________\n",
      "dense_24 (Dense)                 (None, 100)           20100       activation_23[0][0]              \n",
      "____________________________________________________________________________________________________\n",
      "activation_24 (Activation)       (None, 100)           0           dense_24[0][0]                   \n",
      "____________________________________________________________________________________________________\n",
      "dense_25 (Dense)                 (None, 60)            6060        activation_24[0][0]              \n",
      "____________________________________________________________________________________________________\n",
      "activation_25 (Activation)       (None, 60)            0           dense_25[0][0]                   \n",
      "____________________________________________________________________________________________________\n",
      "dense_26 (Dense)                 (None, 30)            1830        activation_25[0][0]              \n",
      "____________________________________________________________________________________________________\n",
      "activation_26 (Activation)       (None, 30)            0           dense_26[0][0]                   \n",
      "____________________________________________________________________________________________________\n",
      "dense_27 (Dense)                 (None, 10)            310         activation_26[0][0]              \n",
      "____________________________________________________________________________________________________\n",
      "activation_27 (Activation)       (None, 10)            0           dense_27[0][0]                   \n",
      "====================================================================================================\n",
      "Total params: 185,300\n",
      "Trainable params: 185,300\n",
      "Non-trainable params: 0\n",
      "____________________________________________________________________________________________________\n"
     ]
    }
   ],
   "source": [
    "\n",
    "# 构建一个五层sigmod全连接神经网络\n",
    "# neural network with 5 layers\n",
    "#\n",
    "# · · · · · · · · · ·       (input data, flattened pixels)       X [batch, 784]   # 784 = 28*28\n",
    "# \\x/x\\x/x\\x/x\\x/x\\x/    -- fully connected layer (sigmoid)      W1 [784, 200]      B1[200]\n",
    "#  · · · · · · · · ·                                             Y1 [batch, 200]\n",
    "#   \\x/x\\x/x\\x/x\\x/      -- fully connected layer (sigmoid)      W2 [200, 100]      B2[100]\n",
    "#    · · · · · · ·                                               Y2 [batch, 100]\n",
    "#    \\x/x\\x/x\\x/         -- fully connected layer (sigmoid)      W3 [100, 60]       B3[60]\n",
    "#     · · · · ·                                                  Y3 [batch, 60]\n",
    "#     \\x/x\\x/            -- fully connected layer (sigmoid)      W4 [60, 30]        B4[30]\n",
    "#      · · ·                                                     Y4 [batch, 30]\n",
    "#      \\x/               -- fully connected layer (softmax)      W5 [30, 10]        B5[10]\n",
    "#       ·                                                        Y5 [batch, 10]\n",
    "\n",
    "model = Sequential()\n",
    "model.add(Dense(200, input_shape=(784,)))#全连接，输入784维度, 输出10维度，需要和输入输出对应\n",
    "model.add(Activation('sigmoid'))\n",
    "model.add(Dense(100))# 除了首层需要设置输入维度，其他层只需要输入输出维度就可以了，输入维度自动继承上层。\n",
    "model.add(Activation('sigmoid'))\n",
    "model.add(Dense(60))\n",
    "model.add(Activation('sigmoid'))\n",
    "model.add(Dense(30))            #model.add(Activation('sigmoid'))和model.add(Dense(30))可以合并写出\n",
    "model.add(Activation('sigmoid'))#model.add(Dense(30,activation='softmax'))\n",
    "model.add(Dense(10))\n",
    "model.add(Activation('softmax'))\n",
    "\n",
    "sgd = Adam(lr=0.003)\n",
    "model.compile(loss='binary_crossentropy',\n",
    "              optimizer=sgd,\n",
    "              metrics=['accuracy'])\n",
    "\n",
    "#model 概要\n",
    "model.summary()"
   ]
  },
  {
   "cell_type": "code",
   "execution_count": 77,
   "metadata": {
    "collapsed": false,
    "deletable": true,
    "editable": true
   },
   "outputs": [
    {
     "data": {
      "image/svg+xml": [
       "<svg height=\"786pt\" viewBox=\"0.00 0.00 178.00 786.00\" width=\"178pt\" xmlns=\"http://www.w3.org/2000/svg\" xmlns:xlink=\"http://www.w3.org/1999/xlink\">\n",
       "<g class=\"graph\" id=\"graph0\" transform=\"scale(1 1) rotate(0) translate(4 782)\">\n",
       "<title>G</title>\n",
       "<polygon fill=\"white\" points=\"-4,5 -4,-782 175,-782 175,5 -4,5\" stroke=\"white\"/>\n",
       "<!-- 225252368 -->\n",
       "<g class=\"node\" id=\"node1\"><title>225252368</title>\n",
       "<polygon fill=\"none\" points=\"0,-741 0,-777 170,-777 170,-741 0,-741\" stroke=\"black\"/>\n",
       "<text font-family=\"Times,serif\" font-size=\"14.00\" text-anchor=\"middle\" x=\"85\" y=\"-755.3\">dense_input_11: InputLayer</text>\n",
       "</g>\n",
       "<!-- 225255312 -->\n",
       "<g class=\"node\" id=\"node2\"><title>225255312</title>\n",
       "<polygon fill=\"none\" points=\"30.5,-667 30.5,-703 139.5,-703 139.5,-667 30.5,-667\" stroke=\"black\"/>\n",
       "<text font-family=\"Times,serif\" font-size=\"14.00\" text-anchor=\"middle\" x=\"85\" y=\"-681.3\">dense_23: Dense</text>\n",
       "</g>\n",
       "<!-- 225252368&#45;&gt;225255312 -->\n",
       "<g class=\"edge\" id=\"edge1\"><title>225252368-&gt;225255312</title>\n",
       "<path d=\"M85,-740.937C85,-732.807 85,-722.876 85,-713.705\" fill=\"none\" stroke=\"black\"/>\n",
       "<polygon fill=\"black\" points=\"88.5001,-713.441 85,-703.441 81.5001,-713.441 88.5001,-713.441\" stroke=\"black\"/>\n",
       "</g>\n",
       "<!-- 217245712 -->\n",
       "<g class=\"node\" id=\"node3\"><title>217245712</title>\n",
       "<polygon fill=\"none\" points=\"7.5,-593 7.5,-629 162.5,-629 162.5,-593 7.5,-593\" stroke=\"black\"/>\n",
       "<text font-family=\"Times,serif\" font-size=\"14.00\" text-anchor=\"middle\" x=\"85\" y=\"-607.3\">activation_23: Activation</text>\n",
       "</g>\n",
       "<!-- 225255312&#45;&gt;217245712 -->\n",
       "<g class=\"edge\" id=\"edge2\"><title>225255312-&gt;217245712</title>\n",
       "<path d=\"M85,-666.937C85,-658.807 85,-648.876 85,-639.705\" fill=\"none\" stroke=\"black\"/>\n",
       "<polygon fill=\"black\" points=\"88.5001,-639.441 85,-629.441 81.5001,-639.441 88.5001,-639.441\" stroke=\"black\"/>\n",
       "</g>\n",
       "<!-- 225255120 -->\n",
       "<g class=\"node\" id=\"node4\"><title>225255120</title>\n",
       "<polygon fill=\"none\" points=\"30.5,-519 30.5,-555 139.5,-555 139.5,-519 30.5,-519\" stroke=\"black\"/>\n",
       "<text font-family=\"Times,serif\" font-size=\"14.00\" text-anchor=\"middle\" x=\"85\" y=\"-533.3\">dense_24: Dense</text>\n",
       "</g>\n",
       "<!-- 217245712&#45;&gt;225255120 -->\n",
       "<g class=\"edge\" id=\"edge3\"><title>217245712-&gt;225255120</title>\n",
       "<path d=\"M85,-592.937C85,-584.807 85,-574.876 85,-565.705\" fill=\"none\" stroke=\"black\"/>\n",
       "<polygon fill=\"black\" points=\"88.5001,-565.441 85,-555.441 81.5001,-565.441 88.5001,-565.441\" stroke=\"black\"/>\n",
       "</g>\n",
       "<!-- 225253328 -->\n",
       "<g class=\"node\" id=\"node5\"><title>225253328</title>\n",
       "<polygon fill=\"none\" points=\"7.5,-445 7.5,-481 162.5,-481 162.5,-445 7.5,-445\" stroke=\"black\"/>\n",
       "<text font-family=\"Times,serif\" font-size=\"14.00\" text-anchor=\"middle\" x=\"85\" y=\"-459.3\">activation_24: Activation</text>\n",
       "</g>\n",
       "<!-- 225255120&#45;&gt;225253328 -->\n",
       "<g class=\"edge\" id=\"edge4\"><title>225255120-&gt;225253328</title>\n",
       "<path d=\"M85,-518.937C85,-510.807 85,-500.876 85,-491.705\" fill=\"none\" stroke=\"black\"/>\n",
       "<polygon fill=\"black\" points=\"88.5001,-491.441 85,-481.441 81.5001,-491.441 88.5001,-491.441\" stroke=\"black\"/>\n",
       "</g>\n",
       "<!-- 260545424 -->\n",
       "<g class=\"node\" id=\"node6\"><title>260545424</title>\n",
       "<polygon fill=\"none\" points=\"30.5,-371 30.5,-407 139.5,-407 139.5,-371 30.5,-371\" stroke=\"black\"/>\n",
       "<text font-family=\"Times,serif\" font-size=\"14.00\" text-anchor=\"middle\" x=\"85\" y=\"-385.3\">dense_25: Dense</text>\n",
       "</g>\n",
       "<!-- 225253328&#45;&gt;260545424 -->\n",
       "<g class=\"edge\" id=\"edge5\"><title>225253328-&gt;260545424</title>\n",
       "<path d=\"M85,-444.937C85,-436.807 85,-426.876 85,-417.705\" fill=\"none\" stroke=\"black\"/>\n",
       "<polygon fill=\"black\" points=\"88.5001,-417.441 85,-407.441 81.5001,-417.441 88.5001,-417.441\" stroke=\"black\"/>\n",
       "</g>\n",
       "<!-- 260455504 -->\n",
       "<g class=\"node\" id=\"node7\"><title>260455504</title>\n",
       "<polygon fill=\"none\" points=\"7.5,-297 7.5,-333 162.5,-333 162.5,-297 7.5,-297\" stroke=\"black\"/>\n",
       "<text font-family=\"Times,serif\" font-size=\"14.00\" text-anchor=\"middle\" x=\"85\" y=\"-311.3\">activation_25: Activation</text>\n",
       "</g>\n",
       "<!-- 260545424&#45;&gt;260455504 -->\n",
       "<g class=\"edge\" id=\"edge6\"><title>260545424-&gt;260455504</title>\n",
       "<path d=\"M85,-370.937C85,-362.807 85,-352.876 85,-343.705\" fill=\"none\" stroke=\"black\"/>\n",
       "<polygon fill=\"black\" points=\"88.5001,-343.441 85,-333.441 81.5001,-343.441 88.5001,-343.441\" stroke=\"black\"/>\n",
       "</g>\n",
       "<!-- 260345104 -->\n",
       "<g class=\"node\" id=\"node8\"><title>260345104</title>\n",
       "<polygon fill=\"none\" points=\"30.5,-223 30.5,-259 139.5,-259 139.5,-223 30.5,-223\" stroke=\"black\"/>\n",
       "<text font-family=\"Times,serif\" font-size=\"14.00\" text-anchor=\"middle\" x=\"85\" y=\"-237.3\">dense_26: Dense</text>\n",
       "</g>\n",
       "<!-- 260455504&#45;&gt;260345104 -->\n",
       "<g class=\"edge\" id=\"edge7\"><title>260455504-&gt;260345104</title>\n",
       "<path d=\"M85,-296.937C85,-288.807 85,-278.876 85,-269.705\" fill=\"none\" stroke=\"black\"/>\n",
       "<polygon fill=\"black\" points=\"88.5001,-269.441 85,-259.441 81.5001,-269.441 88.5001,-269.441\" stroke=\"black\"/>\n",
       "</g>\n",
       "<!-- 260394896 -->\n",
       "<g class=\"node\" id=\"node9\"><title>260394896</title>\n",
       "<polygon fill=\"none\" points=\"7.5,-149 7.5,-185 162.5,-185 162.5,-149 7.5,-149\" stroke=\"black\"/>\n",
       "<text font-family=\"Times,serif\" font-size=\"14.00\" text-anchor=\"middle\" x=\"85\" y=\"-163.3\">activation_26: Activation</text>\n",
       "</g>\n",
       "<!-- 260345104&#45;&gt;260394896 -->\n",
       "<g class=\"edge\" id=\"edge8\"><title>260345104-&gt;260394896</title>\n",
       "<path d=\"M85,-222.937C85,-214.807 85,-204.876 85,-195.705\" fill=\"none\" stroke=\"black\"/>\n",
       "<polygon fill=\"black\" points=\"88.5001,-195.441 85,-185.441 81.5001,-195.441 88.5001,-195.441\" stroke=\"black\"/>\n",
       "</g>\n",
       "<!-- 260426320 -->\n",
       "<g class=\"node\" id=\"node10\"><title>260426320</title>\n",
       "<polygon fill=\"none\" points=\"30.5,-75 30.5,-111 139.5,-111 139.5,-75 30.5,-75\" stroke=\"black\"/>\n",
       "<text font-family=\"Times,serif\" font-size=\"14.00\" text-anchor=\"middle\" x=\"85\" y=\"-89.3\">dense_27: Dense</text>\n",
       "</g>\n",
       "<!-- 260394896&#45;&gt;260426320 -->\n",
       "<g class=\"edge\" id=\"edge9\"><title>260394896-&gt;260426320</title>\n",
       "<path d=\"M85,-148.937C85,-140.807 85,-130.876 85,-121.705\" fill=\"none\" stroke=\"black\"/>\n",
       "<polygon fill=\"black\" points=\"88.5001,-121.441 85,-111.441 81.5001,-121.441 88.5001,-121.441\" stroke=\"black\"/>\n",
       "</g>\n",
       "<!-- 260518928 -->\n",
       "<g class=\"node\" id=\"node11\"><title>260518928</title>\n",
       "<polygon fill=\"none\" points=\"7.5,-1 7.5,-37 162.5,-37 162.5,-1 7.5,-1\" stroke=\"black\"/>\n",
       "<text font-family=\"Times,serif\" font-size=\"14.00\" text-anchor=\"middle\" x=\"85\" y=\"-15.3\">activation_27: Activation</text>\n",
       "</g>\n",
       "<!-- 260426320&#45;&gt;260518928 -->\n",
       "<g class=\"edge\" id=\"edge10\"><title>260426320-&gt;260518928</title>\n",
       "<path d=\"M85,-74.937C85,-66.8072 85,-56.8761 85,-47.7047\" fill=\"none\" stroke=\"black\"/>\n",
       "<polygon fill=\"black\" points=\"88.5001,-47.4406 85,-37.4407 81.5001,-47.4407 88.5001,-47.4406\" stroke=\"black\"/>\n",
       "</g>\n",
       "</g>\n",
       "</svg>"
      ],
      "text/plain": [
       "<IPython.core.display.SVG object>"
      ]
     },
     "execution_count": 77,
     "metadata": {},
     "output_type": "execute_result"
    }
   ],
   "source": [
    "SVG(model_to_dot(model).create(prog='dot', format='svg'))"
   ]
  },
  {
   "cell_type": "code",
   "execution_count": 78,
   "metadata": {
    "collapsed": false,
    "deletable": true,
    "editable": true
   },
   "outputs": [
    {
     "data": {
      "text/plain": [
       "<keras.callbacks.History at 0xf868a90>"
      ]
     },
     "execution_count": 78,
     "metadata": {},
     "output_type": "execute_result"
    }
   ],
   "source": [
    "tensorboard2 = TensorBoard(log_dir='/home/tensorflow/log/five_layer/epoch', histogram_freq=0)\n",
    "my_tensorboard2 = BatchTensorBoard(log_dir='/home/tensorflow/log/five_layer/batch')\n",
    "model.fit(x_train_1, y_train_1,\n",
    "          nb_epoch=20,\n",
    "          verbose=0,\n",
    "          batch_size=100,\n",
    "          callbacks=[my_tensorboard2, tensorboard2])"
   ]
  },
  {
   "cell_type": "code",
   "execution_count": 79,
   "metadata": {
    "collapsed": false,
    "deletable": true,
    "editable": true
   },
   "outputs": [
    {
     "name": "stdout",
     "output_type": "stream",
     "text": [
      "['loss', 'acc']\n",
      " 9800/10000 [============================>.] - ETA: 0s \b\b\b\b\b\b\b\b\b\b\b\b\b\b\b\b\b\b\b\b\b\b\b\b\b\b\b\b\b\b\b\b\b\b\b\b\b\b\b\b\b\b\b\b\b\b\b\b\b\b\b\b\b\b\b\b\b\b\b\b\b\b\b\b\b\b\b\b\b\b\b\b\b\b\b\b\b\b\b\b\b\b\b\b\b\b\b\b\b\b\b\b\b\b\b\b\b\b\b\b\b\b\b\b\b\b\b\b\b\b\b\b\b\b\b\b\b\b\b\b\b\b\b\b\b\b\b\b\b\b\b\b\b\b\b\b\b\b\b\b\b\b\b\b\b\b\b\b\b\b\b\b\b\b\b\b\b\b\b\b\b\b\b\b\b\b\b\b\b\b\b\b\b\b\b\b\b\b\b\b\b\b\b\b\b\b\b\b\b\b\b\b\b\b\b\b\b\b\b\b\b\b\b\b\b\b\b\b\b\b\b\b\b\b\b\b\b\b\b\b\b\b\b\b\b\b\b\b\b\b\b\b\b\b\b\b\b\b\b\b\b\b\b\b\b\b\b\b\b\b\b\b\b\b\b\b\b\b\b\b\b\b\b\b\b\b\b\b\b\b\b\b\b\b\b\b\b\b\b\b\b\b\b\b\b\b\b\b\b\b\b\b\b\b\b\b\b\b\b\b\b\b\b\b\b\b\b\b\b\b\b\b\b\b\b\b\b\b\b\b\b\b\b\b\b\b\b\b\b\b\b\b\b\b\b\b\b\b\b\b\b\b\b\b\b\b\b\b\b\b\b\b\b\b\b\b\b\b\b\b\b\b\b\b\b\b\b\b\b\b\b\b\b\b\b\b\b\b\b\b\b\b\b\b\b\b\b\b\b\b\b\b\b\b\b\b\b\b\b\b\b\b\b\b\b\b\b\b\b\b\b\b\b\b\b\b\b\b\b\b\b\b\b\b\b\b\b\b\b\b\b\b\b\b\b\b\b\b\b\b\b\b\b\b\b\b\b\b\b\b\b\b\b\b\b\b\b\b\b\b\b\b\b\b\b\b\b\b\b\b\b\b\b\b\b\b\b\b\b\b\b\b\b\b\b\b\b\b\b\b\b\b\b\b\b\b\b\b\b\b\b\b\b\b\b\b\b\b\b\b\b\b\b\b\b\b\b\b\b\b\b\b\b\b\b\b\b\b\b\b\b\b\b\b\b\b\b\b\b\b\b\b\b\b\b\b\b\b\b\b\b\b\b\b\b\b\b\b\b\b\b\b\b\b\b\b\b\b\b\b\b\b\b\b\b\b\b\b\b\b\b\b\b\b\b\b\b\b\b\b\b\b\b\b\b\b\b\b\b\b\b\b\b\b\b\b\b\b\b\b\b\b\b\b\b\b\b\b\b\b\b\b\b\b\b\b\b\b\b\b\b\b\b\b\b\b\b\b\b\b\b\b\b\b\b\b\b\b\b\b\b\b\b\b\b\b\b\b\b\b\b\b\b\b\b\b\b\b\b\b\b\b\b\b\b\b\b\b\b\b\b\b\b\b\b\b\b\b\b\b\b\b\b\b\b\b\b\b\b\b\b\b\b\b\b\b\b\b\b\b\b\b\b\b\b\b\b\b\b\b\b\b\b\b\b\b\b\b\b\b\b\b\b\b\b\b\b\b\b\b\b\b\b\b\b\b\b\b\b\b\b\b\b\b\b\b\b\b\b\b\b\b\b\b\b\b\b\b\b\b\b\b\b\b\b\b\b\b\b\b\b\b\b\b\b\b\b\b\b\b\b\b\b\b\b\b\b\b\b\b\b\b\b\b\b\b\b\b\b\b\b\b\b\b\b\b\b\b\b\b\b\b\b\b\b\b\b\b\b\b\b\b\b\b\b\b\b\b\b\b\b\b\b\b\b\b\b\b\b\b\b\b\b\b\b\b\b\b\b\b\b\b\b\b\b\b\b\b\b\b\b\b\b\b\b\b\b\b\b\b\b\b\b\b\b\b\b\b\b\b\b\b\b\b\b\b\b\b\b\b\b\b\b\b\b\b\b\b\b\b\b\b\b\b\b\b\b\b\b\b\b\b\b\b\b\b\b\b\b\b\b\b\b\b\b\b\b\b\b\b\b\b\b\b\b\b\b\b\b\b\b\b\b\b\b\b\b\b\b\b\b\b\b\b\b\b\b\b\b\b\b\b\b\b\b\b\b\b\b\b\b\b\b\b\b\b\b\b\b\b\b\b\b\b\b\b\b\b\b\b\b\b\b\b\b\b\b\b\b\b\b\b\b\b\b\b\b\b\b\b\b\b\b\b\b\b\b\b\b\b\b\b\b\b\b\b\b\b\b\b\b\b\b\b\b\b\b\b\b\b\b\b\b\b\b\b\b\b\b\b\b\b\b\b\b\b\b\b\b\b\b\b\b\b\b\b\b\b\b\b\b\b\b\b\b\b\b\b\b\b\b\b\b\b\b\b\b\b\b\b\b\b\b\b\b\b\b\b\b\b\b\b\b\b\b\b\b\b\b\b\b\b\b\b\b\b\b\b\b\b\b\b\b\b\b\b\b\b\b\b\b\b\b\b\b\b\b\b\b\b\b\b\b\b\b\b\b\b\b\b\b\b\b\b\b\b\b\b\b\b\b\b\b\b\b\b\b\b\b\b\b\b\b\b\b\b\b\b\b\b\b\b\b\b\b\b\b\b\b\b\b\b\b\b\b\b\b\b\b\b\b\b\b\b\b\b\b\b\b\b\b\b\b\b\b\b\b\b\b\b\b\b\b\b\b\b\b\b\b\b\b\b\b\b\b\b\b\b\b\b\b\b\b\b\b\b\b\b\b\b\b\b\b\b\b\b\b\b\b\b\b\b\b\b\b\b\b\b\b\b\b\b\b\b\b\b\b\b\b\b\b\b\b\b\b\b\b\b\b\b\b\b\b\b\b\b\b\b\b\b\b\b\b\b\b\b\b\b\b\b\b\b\b\b\b\b\b\b\b\b\b\b\b\b\b\b\b\b\b\b\b\b\b\b\b\b\b\b\b\b\b"
     ]
    },
    {
     "data": {
      "text/plain": [
       "[0.036339853547979147, 0.98736999988555907]"
      ]
     },
     "execution_count": 79,
     "metadata": {},
     "output_type": "execute_result"
    }
   ],
   "source": [
    "#模型的测试误差指标\n",
    "print(model.metrics_names)\n",
    "# 对测试数据进行测试\n",
    "model.evaluate(x_test_1, y_test_1,\n",
    "          verbose=1,\n",
    "          batch_size=100)"
   ]
  },
  {
   "cell_type": "markdown",
   "metadata": {
    "deletable": true,
    "editable": true
   },
   "source": [
    "--------------------\n",
    "\n",
    "根据上面，我们可以看出，深度越深，效果越好。\n",
    "\n",
    "但是，对于深层网络，sigmoid函数反向传播时，很容易就会出现梯度消失的情况从而无法完成深层网络的训练。在sigmoid接近饱和区时，变换非常缓慢，导数趋于0，减缓收敛速度。\n",
    "\n",
    "### 4. ReLu\n",
    "\n",
    "修正线性单元(Rectified linear unit,ReLU)公式：\n",
    "\n",
    "<img src='https://wikimedia.org/api/rest_v1/media/math/render/svg/3748c43adcce6520cc09f8e5259f6b9db371cbe8'>\n",
    "\n",
    "其图像：\n",
    "\n",
    "<img src='http://img.it610.com/image/info5/bed97ea828ee413482b82cff26411518.jpg'>\n",
    "\n",
    "ReLU具有线性、非饱和性，而其非饱和性使得网络可以自行引入稀疏性。\n",
    "\n",
    "ReLU的使用解决了sigmoid梯度下降慢，深层网络的信息丢失的问题。\n",
    "\n",
    "ReLU在训练时是非常脆弱的，并且可能会“死”。例如，经过ReLU神经元的一个大梯度可能导致权重更新后该神经元接收到任何数据点都不会再激活。如果发生这种情况，之后通过该单位点的梯度将永远是零。也就是说，ReLU可能会在训练过程中不可逆地死亡，并且破坏数据流形。如果学习率太高，大部分网络将会“死亡”（即，在整个训练过程中神经元都没有激活）。而设置一个适当的学习率，可以在一定程度上避免这一问题。\n",
    "\n",
    "### 5. 学习速率\n",
    "\n",
    "上面说梯度下降的时候，说过学习速率其实就是梯度下降的步伐。因此，为了到达山谷，需要控制步伐的大小，即学习速率。\n",
    "\n",
    "学习速率大小的调节一般取决于 loss 的变化幅度。\n"
   ]
  },
  {
   "cell_type": "code",
   "execution_count": 62,
   "metadata": {
    "collapsed": false,
    "deletable": true,
    "editable": true
   },
   "outputs": [
    {
     "name": "stdout",
     "output_type": "stream",
     "text": [
      "____________________________________________________________________________________________________\n",
      "Layer (type)                     Output Shape          Param #     Connected to                     \n",
      "====================================================================================================\n",
      "dense_14 (Dense)                 (None, 200)           157000      dense_input_6[0][0]              \n",
      "____________________________________________________________________________________________________\n",
      "activation_14 (Activation)       (None, 200)           0           dense_14[0][0]                   \n",
      "____________________________________________________________________________________________________\n",
      "dense_15 (Dense)                 (None, 100)           20100       activation_14[0][0]              \n",
      "____________________________________________________________________________________________________\n",
      "activation_15 (Activation)       (None, 100)           0           dense_15[0][0]                   \n",
      "____________________________________________________________________________________________________\n",
      "dense_16 (Dense)                 (None, 60)            6060        activation_15[0][0]              \n",
      "____________________________________________________________________________________________________\n",
      "activation_16 (Activation)       (None, 60)            0           dense_16[0][0]                   \n",
      "____________________________________________________________________________________________________\n",
      "dense_17 (Dense)                 (None, 30)            1830        activation_16[0][0]              \n",
      "____________________________________________________________________________________________________\n",
      "activation_17 (Activation)       (None, 30)            0           dense_17[0][0]                   \n",
      "____________________________________________________________________________________________________\n",
      "dense_18 (Dense)                 (None, 10)            310         activation_17[0][0]              \n",
      "____________________________________________________________________________________________________\n",
      "activation_18 (Activation)       (None, 10)            0           dense_18[0][0]                   \n",
      "====================================================================================================\n",
      "Total params: 185,300\n",
      "Trainable params: 185,300\n",
      "Non-trainable params: 0\n",
      "____________________________________________________________________________________________________\n"
     ]
    }
   ],
   "source": [
    "# neural network with 5 layers\n",
    "#\n",
    "# · · · · · · · · · ·       (input data, flattened pixels)       X [batch, 784]   # 784 = 28*28\n",
    "# \\x/x\\x/x\\x/x\\x/x\\x/    -- fully connected layer (relu)         W1 [784, 200]      B1[200]\n",
    "#  · · · · · · · · ·                                             Y1 [batch, 200]\n",
    "#   \\x/x\\x/x\\x/x\\x/      -- fully connected layer (relu)         W2 [200, 100]      B2[100]\n",
    "#    · · · · · · ·                                               Y2 [batch, 100]\n",
    "#    \\x/x\\x/x\\x/         -- fully connected layer (relu)         W3 [100, 60]       B3[60]\n",
    "#     · · · · ·                                                  Y3 [batch, 60]\n",
    "#     \\x/x\\x/            -- fully connected layer (relu)         W4 [60, 30]        B4[30]\n",
    "#      · · ·                                                     Y4 [batch, 30]\n",
    "#      \\x/               -- fully connected layer (softmax)      W5 [30, 10]        B5[10]\n",
    "#       ·                                                        Y5 [batch, 10]\n",
    "model = Sequential()\n",
    "model.add(Dense(200, input_shape=(784,)))#全连接，输入784维度, 输出10维度，需要和输入输出对应\n",
    "model.add(Activation('relu'))# 将激活函数sigmoid改为ReLU\n",
    "model.add(Dense(100))\n",
    "model.add(Activation('relu'))\n",
    "model.add(Dense(60))\n",
    "model.add(Activation('relu'))\n",
    "model.add(Dense(30))            \n",
    "model.add(Activation('relu'))\n",
    "model.add(Dense(10))\n",
    "model.add(Activation('softmax'))\n",
    "\n",
    "sgd = Adam(lr=0.003)\n",
    "model.compile(loss='binary_crossentropy',\n",
    "              optimizer=sgd,\n",
    "              metrics=['accuracy'])\n",
    "\n",
    "#model 概要\n",
    "model.summary()"
   ]
  },
  {
   "cell_type": "code",
   "execution_count": 63,
   "metadata": {
    "collapsed": false,
    "deletable": true,
    "editable": true
   },
   "outputs": [
    {
     "data": {
      "image/svg+xml": [
       "<svg height=\"786pt\" viewBox=\"0.00 0.00 170.00 786.00\" width=\"170pt\" xmlns=\"http://www.w3.org/2000/svg\" xmlns:xlink=\"http://www.w3.org/1999/xlink\">\n",
       "<g class=\"graph\" id=\"graph0\" transform=\"scale(1 1) rotate(0) translate(4 782)\">\n",
       "<title>G</title>\n",
       "<polygon fill=\"white\" points=\"-4,5 -4,-782 167,-782 167,5 -4,5\" stroke=\"white\"/>\n",
       "<!-- 185226768 -->\n",
       "<g class=\"node\" id=\"node1\"><title>185226768</title>\n",
       "<polygon fill=\"none\" points=\"-0.5,-741 -0.5,-777 162.5,-777 162.5,-741 -0.5,-741\" stroke=\"black\"/>\n",
       "<text font-family=\"Times,serif\" font-size=\"14.00\" text-anchor=\"middle\" x=\"81\" y=\"-755.3\">dense_input_6: InputLayer</text>\n",
       "</g>\n",
       "<!-- 185226448 -->\n",
       "<g class=\"node\" id=\"node2\"><title>185226448</title>\n",
       "<polygon fill=\"none\" points=\"26.5,-667 26.5,-703 135.5,-703 135.5,-667 26.5,-667\" stroke=\"black\"/>\n",
       "<text font-family=\"Times,serif\" font-size=\"14.00\" text-anchor=\"middle\" x=\"81\" y=\"-681.3\">dense_14: Dense</text>\n",
       "</g>\n",
       "<!-- 185226768&#45;&gt;185226448 -->\n",
       "<g class=\"edge\" id=\"edge1\"><title>185226768-&gt;185226448</title>\n",
       "<path d=\"M81,-740.937C81,-732.807 81,-722.876 81,-713.705\" fill=\"none\" stroke=\"black\"/>\n",
       "<polygon fill=\"black\" points=\"84.5001,-713.441 81,-703.441 77.5001,-713.441 84.5001,-713.441\" stroke=\"black\"/>\n",
       "</g>\n",
       "<!-- 115909136 -->\n",
       "<g class=\"node\" id=\"node3\"><title>115909136</title>\n",
       "<polygon fill=\"none\" points=\"3.5,-593 3.5,-629 158.5,-629 158.5,-593 3.5,-593\" stroke=\"black\"/>\n",
       "<text font-family=\"Times,serif\" font-size=\"14.00\" text-anchor=\"middle\" x=\"81\" y=\"-607.3\">activation_14: Activation</text>\n",
       "</g>\n",
       "<!-- 185226448&#45;&gt;115909136 -->\n",
       "<g class=\"edge\" id=\"edge2\"><title>185226448-&gt;115909136</title>\n",
       "<path d=\"M81,-666.937C81,-658.807 81,-648.876 81,-639.705\" fill=\"none\" stroke=\"black\"/>\n",
       "<polygon fill=\"black\" points=\"84.5001,-639.441 81,-629.441 77.5001,-639.441 84.5001,-639.441\" stroke=\"black\"/>\n",
       "</g>\n",
       "<!-- 175815056 -->\n",
       "<g class=\"node\" id=\"node4\"><title>175815056</title>\n",
       "<polygon fill=\"none\" points=\"26.5,-519 26.5,-555 135.5,-555 135.5,-519 26.5,-519\" stroke=\"black\"/>\n",
       "<text font-family=\"Times,serif\" font-size=\"14.00\" text-anchor=\"middle\" x=\"81\" y=\"-533.3\">dense_15: Dense</text>\n",
       "</g>\n",
       "<!-- 115909136&#45;&gt;175815056 -->\n",
       "<g class=\"edge\" id=\"edge3\"><title>115909136-&gt;175815056</title>\n",
       "<path d=\"M81,-592.937C81,-584.807 81,-574.876 81,-565.705\" fill=\"none\" stroke=\"black\"/>\n",
       "<polygon fill=\"black\" points=\"84.5001,-565.441 81,-555.441 77.5001,-565.441 84.5001,-565.441\" stroke=\"black\"/>\n",
       "</g>\n",
       "<!-- 185226576 -->\n",
       "<g class=\"node\" id=\"node5\"><title>185226576</title>\n",
       "<polygon fill=\"none\" points=\"3.5,-445 3.5,-481 158.5,-481 158.5,-445 3.5,-445\" stroke=\"black\"/>\n",
       "<text font-family=\"Times,serif\" font-size=\"14.00\" text-anchor=\"middle\" x=\"81\" y=\"-459.3\">activation_15: Activation</text>\n",
       "</g>\n",
       "<!-- 175815056&#45;&gt;185226576 -->\n",
       "<g class=\"edge\" id=\"edge4\"><title>175815056-&gt;185226576</title>\n",
       "<path d=\"M81,-518.937C81,-510.807 81,-500.876 81,-491.705\" fill=\"none\" stroke=\"black\"/>\n",
       "<polygon fill=\"black\" points=\"84.5001,-491.441 81,-481.441 77.5001,-491.441 84.5001,-491.441\" stroke=\"black\"/>\n",
       "</g>\n",
       "<!-- 201311056 -->\n",
       "<g class=\"node\" id=\"node6\"><title>201311056</title>\n",
       "<polygon fill=\"none\" points=\"26.5,-371 26.5,-407 135.5,-407 135.5,-371 26.5,-371\" stroke=\"black\"/>\n",
       "<text font-family=\"Times,serif\" font-size=\"14.00\" text-anchor=\"middle\" x=\"81\" y=\"-385.3\">dense_16: Dense</text>\n",
       "</g>\n",
       "<!-- 185226576&#45;&gt;201311056 -->\n",
       "<g class=\"edge\" id=\"edge5\"><title>185226576-&gt;201311056</title>\n",
       "<path d=\"M81,-444.937C81,-436.807 81,-426.876 81,-417.705\" fill=\"none\" stroke=\"black\"/>\n",
       "<polygon fill=\"black\" points=\"84.5001,-417.441 81,-407.441 77.5001,-417.441 84.5001,-417.441\" stroke=\"black\"/>\n",
       "</g>\n",
       "<!-- 185393232 -->\n",
       "<g class=\"node\" id=\"node7\"><title>185393232</title>\n",
       "<polygon fill=\"none\" points=\"3.5,-297 3.5,-333 158.5,-333 158.5,-297 3.5,-297\" stroke=\"black\"/>\n",
       "<text font-family=\"Times,serif\" font-size=\"14.00\" text-anchor=\"middle\" x=\"81\" y=\"-311.3\">activation_16: Activation</text>\n",
       "</g>\n",
       "<!-- 201311056&#45;&gt;185393232 -->\n",
       "<g class=\"edge\" id=\"edge6\"><title>201311056-&gt;185393232</title>\n",
       "<path d=\"M81,-370.937C81,-362.807 81,-352.876 81,-343.705\" fill=\"none\" stroke=\"black\"/>\n",
       "<polygon fill=\"black\" points=\"84.5001,-343.441 81,-333.441 77.5001,-343.441 84.5001,-343.441\" stroke=\"black\"/>\n",
       "</g>\n",
       "<!-- 201334928 -->\n",
       "<g class=\"node\" id=\"node8\"><title>201334928</title>\n",
       "<polygon fill=\"none\" points=\"26.5,-223 26.5,-259 135.5,-259 135.5,-223 26.5,-223\" stroke=\"black\"/>\n",
       "<text font-family=\"Times,serif\" font-size=\"14.00\" text-anchor=\"middle\" x=\"81\" y=\"-237.3\">dense_17: Dense</text>\n",
       "</g>\n",
       "<!-- 185393232&#45;&gt;201334928 -->\n",
       "<g class=\"edge\" id=\"edge7\"><title>185393232-&gt;201334928</title>\n",
       "<path d=\"M81,-296.937C81,-288.807 81,-278.876 81,-269.705\" fill=\"none\" stroke=\"black\"/>\n",
       "<polygon fill=\"black\" points=\"84.5001,-269.441 81,-259.441 77.5001,-269.441 84.5001,-269.441\" stroke=\"black\"/>\n",
       "</g>\n",
       "<!-- 201400144 -->\n",
       "<g class=\"node\" id=\"node9\"><title>201400144</title>\n",
       "<polygon fill=\"none\" points=\"3.5,-149 3.5,-185 158.5,-185 158.5,-149 3.5,-149\" stroke=\"black\"/>\n",
       "<text font-family=\"Times,serif\" font-size=\"14.00\" text-anchor=\"middle\" x=\"81\" y=\"-163.3\">activation_17: Activation</text>\n",
       "</g>\n",
       "<!-- 201334928&#45;&gt;201400144 -->\n",
       "<g class=\"edge\" id=\"edge8\"><title>201334928-&gt;201400144</title>\n",
       "<path d=\"M81,-222.937C81,-214.807 81,-204.876 81,-195.705\" fill=\"none\" stroke=\"black\"/>\n",
       "<polygon fill=\"black\" points=\"84.5001,-195.441 81,-185.441 77.5001,-195.441 84.5001,-195.441\" stroke=\"black\"/>\n",
       "</g>\n",
       "<!-- 175816976 -->\n",
       "<g class=\"node\" id=\"node10\"><title>175816976</title>\n",
       "<polygon fill=\"none\" points=\"26.5,-75 26.5,-111 135.5,-111 135.5,-75 26.5,-75\" stroke=\"black\"/>\n",
       "<text font-family=\"Times,serif\" font-size=\"14.00\" text-anchor=\"middle\" x=\"81\" y=\"-89.3\">dense_18: Dense</text>\n",
       "</g>\n",
       "<!-- 201400144&#45;&gt;175816976 -->\n",
       "<g class=\"edge\" id=\"edge9\"><title>201400144-&gt;175816976</title>\n",
       "<path d=\"M81,-148.937C81,-140.807 81,-130.876 81,-121.705\" fill=\"none\" stroke=\"black\"/>\n",
       "<polygon fill=\"black\" points=\"84.5001,-121.441 81,-111.441 77.5001,-121.441 84.5001,-121.441\" stroke=\"black\"/>\n",
       "</g>\n",
       "<!-- 176018000 -->\n",
       "<g class=\"node\" id=\"node11\"><title>176018000</title>\n",
       "<polygon fill=\"none\" points=\"3.5,-1 3.5,-37 158.5,-37 158.5,-1 3.5,-1\" stroke=\"black\"/>\n",
       "<text font-family=\"Times,serif\" font-size=\"14.00\" text-anchor=\"middle\" x=\"81\" y=\"-15.3\">activation_18: Activation</text>\n",
       "</g>\n",
       "<!-- 175816976&#45;&gt;176018000 -->\n",
       "<g class=\"edge\" id=\"edge10\"><title>175816976-&gt;176018000</title>\n",
       "<path d=\"M81,-74.937C81,-66.8072 81,-56.8761 81,-47.7047\" fill=\"none\" stroke=\"black\"/>\n",
       "<polygon fill=\"black\" points=\"84.5001,-47.4406 81,-37.4407 77.5001,-47.4407 84.5001,-47.4406\" stroke=\"black\"/>\n",
       "</g>\n",
       "</g>\n",
       "</svg>"
      ],
      "text/plain": [
       "<IPython.core.display.SVG object>"
      ]
     },
     "execution_count": 63,
     "metadata": {},
     "output_type": "execute_result"
    }
   ],
   "source": [
    "SVG(model_to_dot(model).create(prog='dot', format='svg'))"
   ]
  },
  {
   "cell_type": "code",
   "execution_count": 64,
   "metadata": {
    "collapsed": false,
    "deletable": true,
    "editable": true
   },
   "outputs": [
    {
     "data": {
      "text/plain": [
       "<keras.callbacks.History at 0xb7fead0>"
      ]
     },
     "execution_count": 64,
     "metadata": {},
     "output_type": "execute_result"
    }
   ],
   "source": [
    "tensorboard3 = TensorBoard(log_dir='/home/tensorflow/log/five_layer_relu/epoch', histogram_freq=0)\n",
    "my_tensorboard3 = BatchTensorBoard(log_dir='/home/tensorflow/log/five_layer_relu/batch')\n",
    "model.fit(x_train_1, y_train_1,\n",
    "          nb_epoch=20,\n",
    "          verbose=0,\n",
    "          batch_size=100,\n",
    "          callbacks=[my_tensorboard3, tensorboard3])"
   ]
  },
  {
   "cell_type": "code",
   "execution_count": null,
   "metadata": {
    "collapsed": true
   },
   "outputs": [],
   "source": [
    "#模型的测试误差指标\n",
    "print(model.metrics_names)\n",
    "# 对测试数据进行测试\n",
    "model.evaluate(x_test_1, y_test_1,\n",
    "          verbose=1,\n",
    "          batch_size=100)"
   ]
  },
  {
   "cell_type": "markdown",
   "metadata": {
    "deletable": true,
    "editable": true
   },
   "source": [
    "### 7.Dropout\n",
    "\n",
    "--------------------\n",
    "\n",
    "运行目录下的mnist_2.1_five_layers_relu_lrdecay.py\n",
    "\n",
    "效果图：\n",
    "\n",
    "<img src='./img/mnist_2.1_five_layers_relu_lrdecay.png' style='width: 50%'>\n",
    "\n",
    "可以看到在4000次迭代之后，test loss 和 train loss 差距越来越大，模型开始过拟合。\n",
    "\n",
    "Dropout是指对于神经网络单元按照一定的概率将其暂时从网络中丢弃,从而解决过拟合问题。\n",
    "\n",
    "<img src='./img/dropout-1.png' style='width: 50%'>"
   ]
  },
  {
   "cell_type": "code",
   "execution_count": 13,
   "metadata": {
    "collapsed": false
   },
   "outputs": [
    {
     "name": "stdout",
     "output_type": "stream",
     "text": [
      "____________________________________________________________________________________________________\n",
      "Layer (type)                     Output Shape          Param #     Connected to                     \n",
      "====================================================================================================\n",
      "dense_11 (Dense)                 (None, 200)           157000      dense_input_3[0][0]              \n",
      "____________________________________________________________________________________________________\n",
      "activation_11 (Activation)       (None, 200)           0           dense_11[0][0]                   \n",
      "____________________________________________________________________________________________________\n",
      "dropout_9 (Dropout)              (None, 200)           0           activation_11[0][0]              \n",
      "____________________________________________________________________________________________________\n",
      "dense_12 (Dense)                 (None, 100)           20100       dropout_9[0][0]                  \n",
      "____________________________________________________________________________________________________\n",
      "activation_12 (Activation)       (None, 100)           0           dense_12[0][0]                   \n",
      "____________________________________________________________________________________________________\n",
      "dropout_10 (Dropout)             (None, 100)           0           activation_12[0][0]              \n",
      "____________________________________________________________________________________________________\n",
      "dense_13 (Dense)                 (None, 60)            6060        dropout_10[0][0]                 \n",
      "____________________________________________________________________________________________________\n",
      "activation_13 (Activation)       (None, 60)            0           dense_13[0][0]                   \n",
      "____________________________________________________________________________________________________\n",
      "dropout_11 (Dropout)             (None, 60)            0           activation_13[0][0]              \n",
      "____________________________________________________________________________________________________\n",
      "dense_14 (Dense)                 (None, 30)            1830        dropout_11[0][0]                 \n",
      "____________________________________________________________________________________________________\n",
      "activation_14 (Activation)       (None, 30)            0           dense_14[0][0]                   \n",
      "____________________________________________________________________________________________________\n",
      "dropout_12 (Dropout)             (None, 30)            0           activation_14[0][0]              \n",
      "____________________________________________________________________________________________________\n",
      "dense_15 (Dense)                 (None, 10)            310         dropout_12[0][0]                 \n",
      "____________________________________________________________________________________________________\n",
      "activation_15 (Activation)       (None, 10)            0           dense_15[0][0]                   \n",
      "====================================================================================================\n",
      "Total params: 185,300\n",
      "Trainable params: 185,300\n",
      "Non-trainable params: 0\n",
      "____________________________________________________________________________________________________\n"
     ]
    }
   ],
   "source": [
    "# neural network with 5 layers\n",
    "#\n",
    "# · · · · · · · · · ·       (input data, flattened pixels)       X [batch, 784]   # 784 = 28*28\n",
    "# \\x/x\\x/x\\x/x\\x/x\\x/ ✞  -- fully connected layer (relu+dropout) W1 [784, 200]      B1[200]\n",
    "#  · · · · · · · · ·                                             Y1 [batch, 200]\n",
    "#   \\x/x\\x/x\\x/x\\x/ ✞    -- fully connected layer (relu+dropout) W2 [200, 100]      B2[100]\n",
    "#    · · · · · · ·                                               Y2 [batch, 100]\n",
    "#    \\x/x\\x/x\\x/ ✞       -- fully connected layer (relu+dropout) W3 [100, 60]       B3[60]\n",
    "#     · · · · ·                                                  Y3 [batch, 60]\n",
    "#     \\x/x\\x/ ✞          -- fully connected layer (relu+dropout) W4 [60, 30]        B4[30]\n",
    "#      · · ·                                                     Y4 [batch, 30]\n",
    "#      \\x/               -- fully connected layer (softmax)      W5 [30, 10]        B5[10]\n",
    "#       ·                                                        Y5 [batch, 10]\n",
    "model = Sequential()\n",
    "model.add(Dense(200, input_shape=(784,)))#全连接，输入784维度, 输出10维度，需要和输入输出对应\n",
    "model.add(Activation('relu'))# 将激活函数sigmoid改为ReLU\n",
    "model.add(Dropout(0.25))# 添加一个dropout层, 随机移除25%的单元\n",
    "model.add(Dense(100))\n",
    "model.add(Activation('relu'))\n",
    "model.add(Dropout(0.25))\n",
    "model.add(Dense(60))\n",
    "model.add(Activation('relu'))\n",
    "model.add(Dropout(0.25))\n",
    "model.add(Dense(30))            \n",
    "model.add(Activation('relu'))\n",
    "model.add(Dropout(0.25))\n",
    "model.add(Dense(10))\n",
    "model.add(Activation('softmax'))\n",
    "\n",
    "sgd = Adam(lr=0.003)\n",
    "model.compile(loss='binary_crossentropy',\n",
    "              optimizer=sgd,\n",
    "              metrics=['accuracy'])\n",
    "\n",
    "#model 概要\n",
    "model.summary()"
   ]
  },
  {
   "cell_type": "code",
   "execution_count": 14,
   "metadata": {
    "collapsed": false
   },
   "outputs": [
    {
     "data": {
      "image/svg+xml": [
       "<svg height=\"1082pt\" viewBox=\"0.00 0.00 170.00 1082.00\" width=\"170pt\" xmlns=\"http://www.w3.org/2000/svg\" xmlns:xlink=\"http://www.w3.org/1999/xlink\">\n",
       "<g class=\"graph\" id=\"graph0\" transform=\"scale(1 1) rotate(0) translate(4 1078)\">\n",
       "<title>G</title>\n",
       "<polygon fill=\"white\" points=\"-4,5 -4,-1078 167,-1078 167,5 -4,5\" stroke=\"white\"/>\n",
       "<!-- 158561232 -->\n",
       "<g class=\"node\" id=\"node1\"><title>158561232</title>\n",
       "<polygon fill=\"none\" points=\"-0.5,-1037 -0.5,-1073 162.5,-1073 162.5,-1037 -0.5,-1037\" stroke=\"black\"/>\n",
       "<text font-family=\"Times,serif\" font-size=\"14.00\" text-anchor=\"middle\" x=\"81\" y=\"-1051.3\">dense_input_3: InputLayer</text>\n",
       "</g>\n",
       "<!-- 158560656 -->\n",
       "<g class=\"node\" id=\"node2\"><title>158560656</title>\n",
       "<polygon fill=\"none\" points=\"26.5,-963 26.5,-999 135.5,-999 135.5,-963 26.5,-963\" stroke=\"black\"/>\n",
       "<text font-family=\"Times,serif\" font-size=\"14.00\" text-anchor=\"middle\" x=\"81\" y=\"-977.3\">dense_11: Dense</text>\n",
       "</g>\n",
       "<!-- 158561232&#45;&gt;158560656 -->\n",
       "<g class=\"edge\" id=\"edge1\"><title>158561232-&gt;158560656</title>\n",
       "<path d=\"M81,-1036.94C81,-1028.81 81,-1018.88 81,-1009.7\" fill=\"none\" stroke=\"black\"/>\n",
       "<polygon fill=\"black\" points=\"84.5001,-1009.44 81,-999.441 77.5001,-1009.44 84.5001,-1009.44\" stroke=\"black\"/>\n",
       "</g>\n",
       "<!-- 158560784 -->\n",
       "<g class=\"node\" id=\"node3\"><title>158560784</title>\n",
       "<polygon fill=\"none\" points=\"3.5,-889 3.5,-925 158.5,-925 158.5,-889 3.5,-889\" stroke=\"black\"/>\n",
       "<text font-family=\"Times,serif\" font-size=\"14.00\" text-anchor=\"middle\" x=\"81\" y=\"-903.3\">activation_11: Activation</text>\n",
       "</g>\n",
       "<!-- 158560656&#45;&gt;158560784 -->\n",
       "<g class=\"edge\" id=\"edge2\"><title>158560656-&gt;158560784</title>\n",
       "<path d=\"M81,-962.937C81,-954.807 81,-944.876 81,-935.705\" fill=\"none\" stroke=\"black\"/>\n",
       "<polygon fill=\"black\" points=\"84.5001,-935.441 81,-925.441 77.5001,-935.441 84.5001,-935.441\" stroke=\"black\"/>\n",
       "</g>\n",
       "<!-- 158560464 -->\n",
       "<g class=\"node\" id=\"node4\"><title>158560464</title>\n",
       "<polygon fill=\"none\" points=\"18.5,-815 18.5,-851 143.5,-851 143.5,-815 18.5,-815\" stroke=\"black\"/>\n",
       "<text font-family=\"Times,serif\" font-size=\"14.00\" text-anchor=\"middle\" x=\"81\" y=\"-829.3\">dropout_9: Dropout</text>\n",
       "</g>\n",
       "<!-- 158560784&#45;&gt;158560464 -->\n",
       "<g class=\"edge\" id=\"edge3\"><title>158560784-&gt;158560464</title>\n",
       "<path d=\"M81,-888.937C81,-880.807 81,-870.876 81,-861.705\" fill=\"none\" stroke=\"black\"/>\n",
       "<polygon fill=\"black\" points=\"84.5001,-861.441 81,-851.441 77.5001,-861.441 84.5001,-861.441\" stroke=\"black\"/>\n",
       "</g>\n",
       "<!-- 186444880 -->\n",
       "<g class=\"node\" id=\"node5\"><title>186444880</title>\n",
       "<polygon fill=\"none\" points=\"26.5,-741 26.5,-777 135.5,-777 135.5,-741 26.5,-741\" stroke=\"black\"/>\n",
       "<text font-family=\"Times,serif\" font-size=\"14.00\" text-anchor=\"middle\" x=\"81\" y=\"-755.3\">dense_12: Dense</text>\n",
       "</g>\n",
       "<!-- 158560464&#45;&gt;186444880 -->\n",
       "<g class=\"edge\" id=\"edge4\"><title>158560464-&gt;186444880</title>\n",
       "<path d=\"M81,-814.937C81,-806.807 81,-796.876 81,-787.705\" fill=\"none\" stroke=\"black\"/>\n",
       "<polygon fill=\"black\" points=\"84.5001,-787.441 81,-777.441 77.5001,-787.441 84.5001,-787.441\" stroke=\"black\"/>\n",
       "</g>\n",
       "<!-- 186510672 -->\n",
       "<g class=\"node\" id=\"node6\"><title>186510672</title>\n",
       "<polygon fill=\"none\" points=\"3.5,-667 3.5,-703 158.5,-703 158.5,-667 3.5,-667\" stroke=\"black\"/>\n",
       "<text font-family=\"Times,serif\" font-size=\"14.00\" text-anchor=\"middle\" x=\"81\" y=\"-681.3\">activation_12: Activation</text>\n",
       "</g>\n",
       "<!-- 186444880&#45;&gt;186510672 -->\n",
       "<g class=\"edge\" id=\"edge5\"><title>186444880-&gt;186510672</title>\n",
       "<path d=\"M81,-740.937C81,-732.807 81,-722.876 81,-713.705\" fill=\"none\" stroke=\"black\"/>\n",
       "<polygon fill=\"black\" points=\"84.5001,-713.441 81,-703.441 77.5001,-713.441 84.5001,-713.441\" stroke=\"black\"/>\n",
       "</g>\n",
       "<!-- 182326928 -->\n",
       "<g class=\"node\" id=\"node7\"><title>182326928</title>\n",
       "<polygon fill=\"none\" points=\"15.5,-593 15.5,-629 146.5,-629 146.5,-593 15.5,-593\" stroke=\"black\"/>\n",
       "<text font-family=\"Times,serif\" font-size=\"14.00\" text-anchor=\"middle\" x=\"81\" y=\"-607.3\">dropout_10: Dropout</text>\n",
       "</g>\n",
       "<!-- 186510672&#45;&gt;182326928 -->\n",
       "<g class=\"edge\" id=\"edge6\"><title>186510672-&gt;182326928</title>\n",
       "<path d=\"M81,-666.937C81,-658.807 81,-648.876 81,-639.705\" fill=\"none\" stroke=\"black\"/>\n",
       "<polygon fill=\"black\" points=\"84.5001,-639.441 81,-629.441 77.5001,-639.441 84.5001,-639.441\" stroke=\"black\"/>\n",
       "</g>\n",
       "<!-- 182356048 -->\n",
       "<g class=\"node\" id=\"node8\"><title>182356048</title>\n",
       "<polygon fill=\"none\" points=\"26.5,-519 26.5,-555 135.5,-555 135.5,-519 26.5,-519\" stroke=\"black\"/>\n",
       "<text font-family=\"Times,serif\" font-size=\"14.00\" text-anchor=\"middle\" x=\"81\" y=\"-533.3\">dense_13: Dense</text>\n",
       "</g>\n",
       "<!-- 182326928&#45;&gt;182356048 -->\n",
       "<g class=\"edge\" id=\"edge7\"><title>182326928-&gt;182356048</title>\n",
       "<path d=\"M81,-592.937C81,-584.807 81,-574.876 81,-565.705\" fill=\"none\" stroke=\"black\"/>\n",
       "<polygon fill=\"black\" points=\"84.5001,-565.441 81,-555.441 77.5001,-565.441 84.5001,-565.441\" stroke=\"black\"/>\n",
       "</g>\n",
       "<!-- 182491280 -->\n",
       "<g class=\"node\" id=\"node9\"><title>182491280</title>\n",
       "<polygon fill=\"none\" points=\"3.5,-445 3.5,-481 158.5,-481 158.5,-445 3.5,-445\" stroke=\"black\"/>\n",
       "<text font-family=\"Times,serif\" font-size=\"14.00\" text-anchor=\"middle\" x=\"81\" y=\"-459.3\">activation_13: Activation</text>\n",
       "</g>\n",
       "<!-- 182356048&#45;&gt;182491280 -->\n",
       "<g class=\"edge\" id=\"edge8\"><title>182356048-&gt;182491280</title>\n",
       "<path d=\"M81,-518.937C81,-510.807 81,-500.876 81,-491.705\" fill=\"none\" stroke=\"black\"/>\n",
       "<polygon fill=\"black\" points=\"84.5001,-491.441 81,-481.441 77.5001,-491.441 84.5001,-491.441\" stroke=\"black\"/>\n",
       "</g>\n",
       "<!-- 180144016 -->\n",
       "<g class=\"node\" id=\"node10\"><title>180144016</title>\n",
       "<polygon fill=\"none\" points=\"15.5,-371 15.5,-407 146.5,-407 146.5,-371 15.5,-371\" stroke=\"black\"/>\n",
       "<text font-family=\"Times,serif\" font-size=\"14.00\" text-anchor=\"middle\" x=\"81\" y=\"-385.3\">dropout_11: Dropout</text>\n",
       "</g>\n",
       "<!-- 182491280&#45;&gt;180144016 -->\n",
       "<g class=\"edge\" id=\"edge9\"><title>182491280-&gt;180144016</title>\n",
       "<path d=\"M81,-444.937C81,-436.807 81,-426.876 81,-417.705\" fill=\"none\" stroke=\"black\"/>\n",
       "<polygon fill=\"black\" points=\"84.5001,-417.441 81,-407.441 77.5001,-417.441 84.5001,-417.441\" stroke=\"black\"/>\n",
       "</g>\n",
       "<!-- 180170128 -->\n",
       "<g class=\"node\" id=\"node11\"><title>180170128</title>\n",
       "<polygon fill=\"none\" points=\"26.5,-297 26.5,-333 135.5,-333 135.5,-297 26.5,-297\" stroke=\"black\"/>\n",
       "<text font-family=\"Times,serif\" font-size=\"14.00\" text-anchor=\"middle\" x=\"81\" y=\"-311.3\">dense_14: Dense</text>\n",
       "</g>\n",
       "<!-- 180144016&#45;&gt;180170128 -->\n",
       "<g class=\"edge\" id=\"edge10\"><title>180144016-&gt;180170128</title>\n",
       "<path d=\"M81,-370.937C81,-362.807 81,-352.876 81,-343.705\" fill=\"none\" stroke=\"black\"/>\n",
       "<polygon fill=\"black\" points=\"84.5001,-343.441 81,-333.441 77.5001,-343.441 84.5001,-343.441\" stroke=\"black\"/>\n",
       "</g>\n",
       "<!-- 180199312 -->\n",
       "<g class=\"node\" id=\"node12\"><title>180199312</title>\n",
       "<polygon fill=\"none\" points=\"3.5,-223 3.5,-259 158.5,-259 158.5,-223 3.5,-223\" stroke=\"black\"/>\n",
       "<text font-family=\"Times,serif\" font-size=\"14.00\" text-anchor=\"middle\" x=\"81\" y=\"-237.3\">activation_14: Activation</text>\n",
       "</g>\n",
       "<!-- 180170128&#45;&gt;180199312 -->\n",
       "<g class=\"edge\" id=\"edge11\"><title>180170128-&gt;180199312</title>\n",
       "<path d=\"M81,-296.937C81,-288.807 81,-278.876 81,-269.705\" fill=\"none\" stroke=\"black\"/>\n",
       "<polygon fill=\"black\" points=\"84.5001,-269.441 81,-259.441 77.5001,-269.441 84.5001,-269.441\" stroke=\"black\"/>\n",
       "</g>\n",
       "<!-- 171554448 -->\n",
       "<g class=\"node\" id=\"node13\"><title>171554448</title>\n",
       "<polygon fill=\"none\" points=\"15.5,-149 15.5,-185 146.5,-185 146.5,-149 15.5,-149\" stroke=\"black\"/>\n",
       "<text font-family=\"Times,serif\" font-size=\"14.00\" text-anchor=\"middle\" x=\"81\" y=\"-163.3\">dropout_12: Dropout</text>\n",
       "</g>\n",
       "<!-- 180199312&#45;&gt;171554448 -->\n",
       "<g class=\"edge\" id=\"edge12\"><title>180199312-&gt;171554448</title>\n",
       "<path d=\"M81,-222.937C81,-214.807 81,-204.876 81,-195.705\" fill=\"none\" stroke=\"black\"/>\n",
       "<polygon fill=\"black\" points=\"84.5001,-195.441 81,-185.441 77.5001,-195.441 84.5001,-195.441\" stroke=\"black\"/>\n",
       "</g>\n",
       "<!-- 171592144 -->\n",
       "<g class=\"node\" id=\"node14\"><title>171592144</title>\n",
       "<polygon fill=\"none\" points=\"26.5,-75 26.5,-111 135.5,-111 135.5,-75 26.5,-75\" stroke=\"black\"/>\n",
       "<text font-family=\"Times,serif\" font-size=\"14.00\" text-anchor=\"middle\" x=\"81\" y=\"-89.3\">dense_15: Dense</text>\n",
       "</g>\n",
       "<!-- 171554448&#45;&gt;171592144 -->\n",
       "<g class=\"edge\" id=\"edge13\"><title>171554448-&gt;171592144</title>\n",
       "<path d=\"M81,-148.937C81,-140.807 81,-130.876 81,-121.705\" fill=\"none\" stroke=\"black\"/>\n",
       "<polygon fill=\"black\" points=\"84.5001,-121.441 81,-111.441 77.5001,-121.441 84.5001,-121.441\" stroke=\"black\"/>\n",
       "</g>\n",
       "<!-- 171705936 -->\n",
       "<g class=\"node\" id=\"node15\"><title>171705936</title>\n",
       "<polygon fill=\"none\" points=\"3.5,-1 3.5,-37 158.5,-37 158.5,-1 3.5,-1\" stroke=\"black\"/>\n",
       "<text font-family=\"Times,serif\" font-size=\"14.00\" text-anchor=\"middle\" x=\"81\" y=\"-15.3\">activation_15: Activation</text>\n",
       "</g>\n",
       "<!-- 171592144&#45;&gt;171705936 -->\n",
       "<g class=\"edge\" id=\"edge14\"><title>171592144-&gt;171705936</title>\n",
       "<path d=\"M81,-74.937C81,-66.8072 81,-56.8761 81,-47.7047\" fill=\"none\" stroke=\"black\"/>\n",
       "<polygon fill=\"black\" points=\"84.5001,-47.4406 81,-37.4407 77.5001,-47.4407 84.5001,-47.4406\" stroke=\"black\"/>\n",
       "</g>\n",
       "</g>\n",
       "</svg>"
      ],
      "text/plain": [
       "<IPython.core.display.SVG object>"
      ]
     },
     "execution_count": 14,
     "metadata": {},
     "output_type": "execute_result"
    }
   ],
   "source": [
    "SVG(model_to_dot(model).create(prog='dot', format='svg'))"
   ]
  },
  {
   "cell_type": "code",
   "execution_count": 15,
   "metadata": {
    "collapsed": false
   },
   "outputs": [
    {
     "data": {
      "text/plain": [
       "<keras.callbacks.History at 0xa340f10>"
      ]
     },
     "execution_count": 15,
     "metadata": {},
     "output_type": "execute_result"
    }
   ],
   "source": [
    "tensorboard4 = TensorBoard(log_dir='/home/tensorflow/log/five_layer_dropout/epoch')\n",
    "my_tensorboard4 = BatchTensorBoard(log_dir='/home/tensorflow/log/five_layer_dropout/batch')\n",
    "\n",
    "model.fit(x_train_1, y_train_1,\n",
    "          nb_epoch=20,\n",
    "          verbose=0,\n",
    "          batch_size=100,\n",
    "          callbacks=[tensorboard4, my_tensorboard4])"
   ]
  },
  {
   "cell_type": "code",
   "execution_count": 16,
   "metadata": {
    "collapsed": false
   },
   "outputs": [
    {
     "name": "stdout",
     "output_type": "stream",
     "text": [
      "['loss', 'acc']\n",
      " 9900/10000 [============================>.] - ETA: 0s\b\b\b\b\b\b\b\b\b\b\b\b\b\b\b\b\b\b\b\b\b\b\b\b\b\b\b\b\b\b\b\b\b\b\b\b\b\b\b\b\b\b\b\b\b\b\b\b\b\b\b\b\b\b\b\b\b\b\b\b\b\b\b\b\b\b\b\b\b\b\b\b\b\b\b\b\b\b\b\b\b\b\b\b\b\b\b\b\b\b\b\b\b\b\b\b\b\b\b\b\b\b\b\b\b\b\b\b\b\b\b\b\b\b\b\b\b\b\b\b\b\b\b\b\b\b\b\b\b\b\b\b\b\b\b\b\b\b\b\b\b\b\b\b\b\b\b\b\b\b\b\b\b\b\b\b\b\b\b\b\b\b\b\b\b\b\b\b\b\b\b\b\b\b\b\b\b\b\b\b\b\b\b\b\b\b\b\b\b\b\b\b\b\b\b\b\b\b\b\b\b\b\b\b\b\b\b\b\b\b\b\b\b\b\b\b\b\b\b\b\b\b\b\b\b\b\b\b\b\b\b\b\b\b\b\b\b\b\b\b\b\b\b\b\b\b\b\b\b\b\b\b\b\b\b\b\b\b\b\b\b\b\b\b\b\b\b\b\b\b\b\b\b\b\b\b\b\b\b\b\b\b\b\b\b\b\b\b\b\b\b\b\b\b\b\b\b\b\b\b\b\b\b\b\b\b\b\b\b\b\b\b\b\b\b\b\b\b\b\b\b\b\b\b\b\b\b\b\b\b\b\b\b\b\b\b\b\b\b\b\b\b\b\b\b\b\b\b\b\b\b\b\b\b\b\b\b\b\b\b\b\b\b\b\b\b\b\b\b\b\b\b\b\b\b\b\b\b\b\b\b\b\b\b\b\b\b\b\b\b\b\b\b\b\b\b\b\b\b\b\b\b\b\b\b\b\b\b\b\b\b\b\b\b\b\b\b\b\b\b\b\b\b\b\b\b\b\b\b\b\b\b\b\b\b\b\b\b\b\b\b\b\b\b\b\b\b\b\b\b\b\b\b\b\b\b\b\b\b\b\b\b\b\b\b\b\b\b\b\b\b\b\b\b\b\b\b\b\b\b\b\b\b\b\b\b\b\b\b\b\b\b\b\b\b\b\b\b\b\b\b\b\b\b\b\b\b\b\b\b\b\b\b\b\b\b\b\b\b\b\b\b\b\b\b\b\b\b\b\b\b\b\b\b\b\b\b\b\b\b\b\b\b\b\b\b\b\b\b\b\b\b\b\b\b\b\b\b\b\b\b\b\b\b\b\b\b\b\b\b\b\b\b\b\b\b\b\b\b\b\b\b\b\b\b\b\b\b\b\b\b\b\b\b\b\b\b\b\b\b\b\b\b\b\b\b\b\b\b\b\b\b\b\b\b\b\b\b\b\b\b\b\b\b\b\b\b\b\b\b\b\b\b\b\b\b\b\b\b\b\b\b\b\b\b\b\b\b\b\b\b\b\b\b\b\b\b\b\b\b\b\b\b\b\b\b\b\b\b\b\b\b\b\b\b\b\b\b\b\b\b\b\b\b\b\b\b\b\b\b\b\b\b\b\b\b\b\b\b\b\b\b\b\b\b\b\b\b\b\b\b\b\b\b\b\b\b\b\b\b\b\b\b\b\b\b\b\b\b\b\b\b\b\b\b\b\b\b\b\b\b\b\b\b\b\b\b\b\b\b\b\b\b\b\b\b\b\b\b\b\b\b\b\b\b\b\b\b\b\b\b\b\b\b\b\b\b\b\b\b\b\b\b\b\b\b\b\b\b\b\b\b\b\b\b\b\b\b\b\b\b\b\b\b\b\b\b\b\b\b\b\b\b\b\b\b\b\b\b\b\b\b\b\b\b\b\b\b\b\b\b\b\b\b\b\b\b\b\b\b\b\b\b\b\b\b\b\b\b\b\b\b\b\b\b\b\b\b\b\b\b\b\b\b\b\b\b\b\b\b\b\b\b\b\b\b\b\b\b\b\b\b\b\b\b\b\b\b\b\b\b\b\b\b\b\b\b\b\b\b\b\b\b\b\b\b\b\b\b\b\b\b\b\b\b\b\b\b\b\b\b\b\b\b\b\b\b\b\b\b\b\b\b\b\b\b\b\b\b\b\b\b\b\b\b\b\b\b\b\b\b\b\b\b\b\b\b\b\b\b\b\b\b\b\b\b\b\b\b\b\b\b\b\b\b\b\b\b\b\b\b\b\b\b\b\b\b\b\b\b\b\b\b\b\b\b\b\b\b\b\b\b\b\b\b\b\b\b\b\b\b\b\b\b\b\b\b\b\b\b\b\b\b\b\b\b\b\b\b\b\b\b\b\b\b\b\b\b\b\b\b\b\b\b\b\b\b\b\b\b\b\b\b\b\b\b\b\b\b\b\b\b\b\b\b\b\b\b\b\b\b\b\b\b\b\b\b\b\b\b\b\b\b\b\b\b\b\b\b\b\b\b\b\b\b\b\b\b\b\b\b\b\b\b\b\b\b\b\b\b\b\b\b\b\b\b\b\b\b\b\b\b\b\b\b\b\b\b\b\b\b\b\b\b\b\b\b\b\b\b\b\b\b\b\b\b\b\b\b\b\b\b\b\b\b\b\b\b\b\b\b\b\b\b\b\b\b\b\b\b\b\b\b\b\b\b\b\b\b\b\b\b\b\b\b\b\b\b\b\b\b\b\b\b\b\b\b\b\b\b\b\b\b\b\b\b\b\b\b\b\b\b\b\b\b\b\b\b\b\b\b\b\b\b\b\b\b\b\b\b\b\b\b\b\b\b\b\b\b\b\b\b\b\b\b\b\b\b\b\b\b\b\b\b\b\b\b\b\b\b\b\b\b\b\b\b\b\b\b\b\b\b\b\b\b\b\b\b\b\b\b\b\b\b\b\b\b\b\b\b\b\b\b\b\b\b\b\b\b\b\b\b\b\b\b\b\b\b\b\b\b\b\b\b\b\b\b\b\b\b\b\b\b\b\b\b\b\b\b\b\b\b\b\b\b\b\b\b\b\b\b\b\b\b\b\b\b\b\b\b"
     ]
    },
    {
     "data": {
      "text/plain": [
       "[2.8421609926223756, 0.82270000338554383]"
      ]
     },
     "execution_count": 16,
     "metadata": {},
     "output_type": "execute_result"
    }
   ],
   "source": [
    "#模型的测试误差指标\n",
    "print(model.metrics_names)\n",
    "# 对测试数据进行测试\n",
    "model.evaluate(x_test_1, y_test_1,\n",
    "          verbose=1,\n",
    "          batch_size=100)"
   ]
  },
  {
   "cell_type": "code",
   "execution_count": null,
   "metadata": {
    "collapsed": true
   },
   "outputs": [],
   "source": []
  }
 ],
 "metadata": {
  "kernelspec": {
   "display_name": "Python 2",
   "language": "python",
   "name": "python2"
  },
  "language_info": {
   "codemirror_mode": {
    "name": "ipython",
    "version": 2
   },
   "file_extension": ".py",
   "mimetype": "text/x-python",
   "name": "python",
   "nbconvert_exporter": "python",
   "pygments_lexer": "ipython2",
   "version": "2.7.5"
  }
 },
 "nbformat": 4,
 "nbformat_minor": 2
}
