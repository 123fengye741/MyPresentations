{
 "cells": [
  {
   "cell_type": "markdown",
   "metadata": {
    "deletable": true,
    "editable": true
   },
   "source": [
    "# 深度学习\n",
    "\n",
    "----------------\n",
    "\n",
    "### Author: [shikanon](!https://github.com/shikanon)\n",
    "### CreateTime: 2017/2/13\n",
    "\n",
    "----------------\n",
    "\n",
    "- **目录**\n",
    " + [1.softmax](#1.-softmax)\n",
    " + [2.损失函数](#损失函数)\n",
    " + [3.激活函数](#3.-激活函数)\n",
    " + [4.sigmoid](#4.-sigmoid)\n",
    " + [5.ReLu](#5.-ReLu)\n",
    " + [6.学习速率](#6.-学习速率)\n",
    " + [7.Dropout](#7.Dropout)"
   ]
  },
  {
   "cell_type": "markdown",
   "metadata": {
    "deletable": true,
    "editable": true
   },
   "source": [
    "## 一、基础篇\n",
    "\n",
    "神经网络中的每个**神经元** 对其所有的输入进行**加权求和**，并添加一个被称为**偏置（bias）** 的常数，然后通过一些**非线性激活函数**来反馈结果。\n",
    "\n",
    "### 1. softmax\n",
    "softmax主要用来做多分类问题，是logistic回归模型在多分类问题上的推广，softmax 公式：\n",
    "<img src='./img/softmax-formula.png'>\n",
    "\n",
    "当k=2时，转换为逻辑回归形式。\n",
    "\n",
    "\n",
    "\n",
    "softmax一般作为神经网络最后一层，作为输出层进行多分类，Softmax的输出的每个值都是>=0，并且其总和为1，所以可以认为其为概率分布。\n",
    "\n",
    "**softmax 示意图**\n",
    "<img src='./img/softmax-image.jpg'>\n",
    "\n",
    "**softmax 输出层示意图**\n",
    "<img src='./img/softmax-regression-scalargraph.png' style='width: 50%;'>"
   ]
  },
  {
   "cell_type": "code",
   "execution_count": 1,
   "metadata": {
    "collapsed": false,
    "deletable": true,
    "editable": true
   },
   "outputs": [
    {
     "name": "stdout",
     "output_type": "stream",
     "text": [
      "Populating the interactive namespace from numpy and matplotlib\n"
     ]
    }
   ],
   "source": [
    "%pylab inline"
   ]
  },
  {
   "cell_type": "code",
   "execution_count": 2,
   "metadata": {
    "collapsed": false,
    "deletable": true,
    "editable": true
   },
   "outputs": [
    {
     "name": "stderr",
     "output_type": "stream",
     "text": [
      "Using TensorFlow backend.\n"
     ]
    }
   ],
   "source": [
    "from IPython.display import SVG\n",
    "from keras.datasets import mnist\n",
    "from keras.models import Sequential\n",
    "from keras.layers import Dense, Dropout, Activation, Reshape\n",
    "from keras.optimizers import SGD, Adam\n",
    "from keras.utils.visualize_util import model_to_dot\n",
    "from keras.utils import np_utils\n",
    "import matplotlib.pyplot as plt\n",
    "import tensorflow as tf\n",
    "import pandas as pd"
   ]
  },
  {
   "cell_type": "code",
   "execution_count": 3,
   "metadata": {
    "collapsed": false,
    "deletable": true,
    "editable": true
   },
   "outputs": [
    {
     "name": "stdout",
     "output_type": "stream",
     "text": [
      "原数据结构：\n",
      "((60000, 28, 28), (60000,))\n",
      "((10000, 28, 28), (10000,))\n",
      "变换后的数据结构：\n",
      "((60000, 784), (60000, 10))\n",
      "((10000, 784), (10000, 10))\n"
     ]
    }
   ],
   "source": [
    "#设置随机数种子,保证实验可重复\n",
    "import numpy as np\n",
    "np.random.seed(0)\n",
    "#设置线程\n",
    "THREADS_NUM = 20\n",
    "tf.ConfigProto(intra_op_parallelism_threads=THREADS_NUM)\n",
    "\n",
    "(X_train, Y_train),(X_test, Y_test) = mnist.load_data()\n",
    "print('原数据结构：')\n",
    "print(X_train.shape, Y_train.shape)\n",
    "print(X_test.shape, Y_test.shape)\n",
    "\n",
    "#数据变换\n",
    "#分为10个类别\n",
    "nb_classes = 10\n",
    "\n",
    "x_train_1 = X_train.reshape(60000, 784)\n",
    "#x_train_1 /= 255\n",
    "#x_train_1 = x_train_1.astype('float32')\n",
    "y_train_1 = np_utils.to_categorical(Y_train, nb_classes)\n",
    "print('变换后的数据结构：')\n",
    "print(x_train_1.shape, y_train_1.shape)\n",
    "\n",
    "x_test_1 = X_test.reshape(10000, 784)\n",
    "y_test_1 = np_utils.to_categorical(Y_test, nb_classes)\n",
    "print(x_test_1.shape, y_test_1.shape)"
   ]
  },
  {
   "cell_type": "code",
   "execution_count": 5,
   "metadata": {
    "collapsed": false,
    "deletable": true,
    "editable": true
   },
   "outputs": [
    {
     "name": "stdout",
     "output_type": "stream",
     "text": [
      "____________________________________________________________________________________________________\n",
      "Layer (type)                     Output Shape          Param #     Connected to                     \n",
      "====================================================================================================\n",
      "dense_1 (Dense)                  (None, 10)            7850        dense_input_1[0][0]              \n",
      "____________________________________________________________________________________________________\n",
      "activation_1 (Activation)        (None, 10)            0           dense_1[0][0]                    \n",
      "====================================================================================================\n",
      "Total params: 7,850\n",
      "Trainable params: 7,850\n",
      "Non-trainable params: 0\n",
      "____________________________________________________________________________________________________\n"
     ]
    }
   ],
   "source": [
    "# 构建一个softmax模型\n",
    "# neural network with 1 layer of 10 softmax neurons\n",
    "#\n",
    "# · · · · · · · · · ·       (input data, flattened pixels)       X [batch, 784]        # 784 = 28 * 28\n",
    "# \\x/x\\x/x\\x/x\\x/x\\x/    -- fully connected layer (softmax)      W [784, 10]     b[10]\n",
    "#   · · · · · · · ·                                              Y [batch, 10]\n",
    "\n",
    "# The model is:\n",
    "#\n",
    "# Y = softmax( X * W + b)\n",
    "#              X: matrix for 100 grayscale images of 28x28 pixels, flattened (there are 100 images in a mini-batch)\n",
    "#              W: weight matrix with 784 lines and 10 columns\n",
    "#              b: bias vector with 10 dimensions\n",
    "#              +: add with broadcasting: adds the vector to each line of the matrix (numpy)\n",
    "#              softmax(matrix) applies softmax on each line\n",
    "#              softmax(line) applies an exp to each value then divides by the norm of the resulting line\n",
    "#              Y: output matrix with 100 lines and 10 columns\n",
    "\n",
    "model = Sequential()\n",
    "model.add(Dense(nb_classes, input_shape=(784,)))#全连接，输入784维度, 输出10维度，需要和输入输出对应\n",
    "model.add(Activation('softmax'))\n",
    "\n",
    "sgd = SGD(lr=0.005)\n",
    "#binary_crossentropy，就是交叉熵函数\n",
    "model.compile(loss='binary_crossentropy',\n",
    "              optimizer=sgd,\n",
    "              metrics=['accuracy'])\n",
    "\n",
    "#model 概要\n",
    "model.summary()"
   ]
  },
  {
   "cell_type": "code",
   "execution_count": 6,
   "metadata": {
    "collapsed": false,
    "deletable": true,
    "editable": true
   },
   "outputs": [
    {
     "data": {
      "image/svg+xml": [
       "<svg height=\"194pt\" viewBox=\"0.00 0.00 170.00 194.00\" width=\"170pt\" xmlns=\"http://www.w3.org/2000/svg\" xmlns:xlink=\"http://www.w3.org/1999/xlink\">\n",
       "<g class=\"graph\" id=\"graph0\" transform=\"scale(1 1) rotate(0) translate(4 190)\">\n",
       "<title>G</title>\n",
       "<polygon fill=\"white\" points=\"-4,5 -4,-190 167,-190 167,5 -4,5\" stroke=\"white\"/>\n",
       "<!-- 45635152 -->\n",
       "<g class=\"node\" id=\"node1\"><title>45635152</title>\n",
       "<polygon fill=\"none\" points=\"-0.5,-149 -0.5,-185 162.5,-185 162.5,-149 -0.5,-149\" stroke=\"black\"/>\n",
       "<text font-family=\"Times,serif\" font-size=\"14.00\" text-anchor=\"middle\" x=\"81\" y=\"-163.3\">dense_input_1: InputLayer</text>\n",
       "</g>\n",
       "<!-- 51061456 -->\n",
       "<g class=\"node\" id=\"node2\"><title>51061456</title>\n",
       "<polygon fill=\"none\" points=\"30,-75 30,-111 132,-111 132,-75 30,-75\" stroke=\"black\"/>\n",
       "<text font-family=\"Times,serif\" font-size=\"14.00\" text-anchor=\"middle\" x=\"81\" y=\"-89.3\">dense_1: Dense</text>\n",
       "</g>\n",
       "<!-- 45635152&#45;&gt;51061456 -->\n",
       "<g class=\"edge\" id=\"edge1\"><title>45635152-&gt;51061456</title>\n",
       "<path d=\"M81,-148.937C81,-140.807 81,-130.876 81,-121.705\" fill=\"none\" stroke=\"black\"/>\n",
       "<polygon fill=\"black\" points=\"84.5001,-121.441 81,-111.441 77.5001,-121.441 84.5001,-121.441\" stroke=\"black\"/>\n",
       "</g>\n",
       "<!-- 51061840 -->\n",
       "<g class=\"node\" id=\"node3\"><title>51061840</title>\n",
       "<polygon fill=\"none\" points=\"7,-1 7,-37 155,-37 155,-1 7,-1\" stroke=\"black\"/>\n",
       "<text font-family=\"Times,serif\" font-size=\"14.00\" text-anchor=\"middle\" x=\"81\" y=\"-15.3\">activation_1: Activation</text>\n",
       "</g>\n",
       "<!-- 51061456&#45;&gt;51061840 -->\n",
       "<g class=\"edge\" id=\"edge2\"><title>51061456-&gt;51061840</title>\n",
       "<path d=\"M81,-74.937C81,-66.8072 81,-56.8761 81,-47.7047\" fill=\"none\" stroke=\"black\"/>\n",
       "<polygon fill=\"black\" points=\"84.5001,-47.4406 81,-37.4407 77.5001,-47.4407 84.5001,-47.4406\" stroke=\"black\"/>\n",
       "</g>\n",
       "</g>\n",
       "</svg>"
      ],
      "text/plain": [
       "<IPython.core.display.SVG object>"
      ]
     },
     "execution_count": 6,
     "metadata": {},
     "output_type": "execute_result"
    }
   ],
   "source": [
    "SVG(model_to_dot(model).create(prog='dot', format='svg'))"
   ]
  },
  {
   "cell_type": "code",
   "execution_count": 4,
   "metadata": {
    "collapsed": false,
    "deletable": true,
    "editable": true
   },
   "outputs": [],
   "source": [
    "from keras.callbacks import Callback, TensorBoard\n",
    "import tensorflow as tf\n",
    "\n",
    "#构建一个记录的loss的回调函数\n",
    "class LossHistory(Callback):\n",
    "    def on_train_begin(self, logs={}):\n",
    "        self.losses = []\n",
    "\n",
    "    def on_batch_end(self, batch, logs={}):\n",
    "        self.losses.append(logs.get('loss'))\n",
    "\n",
    "# 构建一个自定义的TensorBoard类，专门用来记录batch中的数据变化\n",
    "class BatchTensorBoard(TensorBoard):\n",
    "    def __init__(self,log_dir='./logs',\n",
    "                 histogram_freq=0,\n",
    "                 write_graph=True,\n",
    "                 write_images=False):\n",
    "        super(BatchTensorBoard, self).__init__()\n",
    "        self.log_dir = log_dir\n",
    "        self.histogram_freq = histogram_freq\n",
    "        self.merged = None\n",
    "        self.write_graph = write_graph\n",
    "        self.write_images = write_images\n",
    "        self.batch = 0\n",
    "        self.batch_queue = set()\n",
    "    \n",
    "    def on_epoch_end(self, epoch, logs=None):\n",
    "        pass\n",
    "    \n",
    "    def on_batch_end(self,batch,logs=None):\n",
    "        logs = logs or {}\n",
    "        \n",
    "        self.batch = self.batch + 1\n",
    "        \n",
    "        for name, value in logs.items():\n",
    "            if name in ['batch', 'size']:\n",
    "                continue\n",
    "            summary = tf.Summary()\n",
    "            summary_value = summary.value.add()\n",
    "            summary_value.simple_value = float(value)\n",
    "            summary_value.tag = \"batch_\" + name\n",
    "            if (name,self.batch) in self.batch_queue:\n",
    "                continue\n",
    "            self.writer.add_summary(summary, self.batch)\n",
    "            self.batch_queue.add((name,self.batch))\n",
    "        self.writer.flush()"
   ]
  },
  {
   "cell_type": "code",
   "execution_count": 54,
   "metadata": {
    "collapsed": false,
    "deletable": true,
    "editable": true
   },
   "outputs": [
    {
     "data": {
      "text/plain": [
       "<keras.callbacks.History at 0xa86d650>"
      ]
     },
     "execution_count": 54,
     "metadata": {},
     "output_type": "execute_result"
    }
   ],
   "source": [
    "tensorboard = TensorBoard(log_dir='/home/tensorflow/log/softmax/epoch')\n",
    "my_tensorboard = BatchTensorBoard(log_dir='/home/tensorflow/log/softmax/batch')\n",
    "\n",
    "model.fit(x_train_1, y_train_1,\n",
    "          nb_epoch=20,\n",
    "          verbose=0,\n",
    "          batch_size=100,\n",
    "          callbacks=[tensorboard, my_tensorboard])"
   ]
  },
  {
   "cell_type": "markdown",
   "metadata": {
    "deletable": true,
    "editable": true
   },
   "source": [
    "### 损失函数\n",
    "\n",
    "**损失函数（loss function）**，是指一种将一个事件（在一个样本空间中的一个元素）映射到一个表达与其事件相关的经济成本或机会成本的实数上的一种函数，在统计学中损失函数是一种衡量损失和错误（这种损失与“错误地”估计有关，如费用或者设备的损失）程度的函数。\n",
    "\n",
    "**交叉熵（cross-entropy）**就是神经网络中常用的损失函数。\n",
    "\n",
    "交叉熵性质：\n",
    "\n",
    "（1）非负性。\n",
    "\n",
    "（2）当真实输出a与期望输出y接近的时候，代价函数接近于0.(比如y=0，a～0；y=1，a~1时，代价函数都接近0)。\n",
    "\n",
    "<img src='./img/cross-entropy.jpeg'>\n",
    "\n",
    "一个比较简单的理解就是使得 预测值Yi和真实值Y' 对接近，即两者的乘积越大，coss-entropy越小。\n",
    "\n",
    "交叉熵和准确度变化图像可以看 **TensorBoard** 。\n",
    "\n",
    "### 梯度下降\n",
    "\n",
    "如果对于所有的权重和所有的偏置计算交叉熵的偏导数，就得到一个对于给定图像、标签和当前权重和偏置的「梯度」，如图所示：\n",
    "\n",
    "<img src='./img/scg.jpeg'>\n",
    "\n",
    "我们希望损失函数最小，也就是需要到达交叉熵最小的凹点的低部。在上图中，交叉熵被表示为一个具有两个权重的函数。\n",
    "\n",
    "而学习速率，即在梯度下降中的步伐大小。"
   ]
  },
  {
   "cell_type": "code",
   "execution_count": 72,
   "metadata": {
    "collapsed": false,
    "deletable": true,
    "editable": true
   },
   "outputs": [
    {
     "name": "stdout",
     "output_type": "stream",
     "text": [
      "['loss', 'acc']\n",
      " 9800/10000 [============================>.] - ETA: 0s \b\b\b\b\b\b\b\b\b\b\b\b\b\b\b\b\b\b\b\b\b\b\b\b\b\b\b\b\b\b\b\b\b\b\b\b\b\b\b\b\b\b\b\b\b\b\b\b\b\b\b\b\b\b\b\b\b\b\b\b\b\b\b\b\b\b\b\b\b\b\b\b\b\b\b\b\b\b\b\b\b\b\b\b\b\b\b\b\b\b\b\b\b\b\b\b\b\b\b\b\b\b\b\b\b\b\b\b\b\b\b\b\b\b\b\b\b\b\b\b\b\b\b\b\b\b\b\b\b\b\b\b\b\b\b\b\b\b\b\b\b\b\b\b\b\b\b\b\b\b\b\b\b\b\b\b\b\b\b\b\b\b\b\b\b\b\b\b\b\b\b\b\b\b\b\b\b\b\b\b\b\b\b\b\b\b\b\b\b\b\b\b\b\b\b\b\b\b\b\b\b\b\b\b\b\b\b\b\b\b\b\b\b\b\b\b\b\b\b\b\b\b\b\b\b\b\b\b\b\b\b\b\b\b\b\b\b\b\b\b\b\b\b\b\b\b\b\b\b\b\b\b\b\b\b\b\b\b\b\b\b\b\b\b\b\b\b\b\b\b\b\b\b\b\b\b\b\b\b\b\b\b\b\b\b\b\b\b\b\b\b\b\b\b\b\b\b\b\b\b\b\b\b\b\b\b\b\b\b\b\b\b\b\b\b\b\b\b\b\b\b\b\b\b\b\b\b\b\b\b\b\b\b\b\b\b\b\b\b\b\b\b\b\b\b\b\b\b\b\b\b\b\b\b\b\b\b\b\b\b\b\b\b\b\b\b\b\b\b\b\b\b\b\b\b\b\b\b\b\b\b\b\b\b\b\b\b\b\b\b\b\b\b\b\b\b\b\b\b\b\b\b\b\b\b\b\b\b\b\b\b\b\b\b\b\b\b\b\b\b\b\b\b\b\b\b\b\b\b\b\b\b\b\b\b\b\b\b\b\b\b\b\b\b\b\b\b\b\b\b\b\b\b\b\b\b\b\b\b\b\b\b\b\b\b\b\b\b\b\b\b\b\b\b\b\b\b\b\b\b\b\b\b\b\b\b\b\b\b\b\b\b\b\b\b\b\b\b\b\b\b\b\b\b\b\b\b\b\b\b\b\b\b\b\b\b\b\b\b\b\b\b\b\b\b\b\b\b\b\b\b\b\b\b\b\b\b\b\b\b\b\b\b\b\b\b\b\b\b\b\b\b\b\b\b\b\b\b\b\b\b\b\b\b\b\b\b\b\b\b\b\b\b\b\b\b\b\b\b\b\b\b\b\b\b\b\b\b\b\b\b\b\b\b\b\b\b\b\b\b\b\b\b\b\b\b\b\b\b\b\b\b\b\b\b\b\b\b\b\b\b\b\b\b\b\b\b\b\b\b\b\b\b\b\b\b\b\b\b\b\b\b\b\b\b\b\b\b\b\b\b\b\b\b\b\b\b\b\b\b\b\b\b\b\b\b\b\b\b\b\b\b\b\b\b\b\b\b\b\b\b\b\b\b\b\b\b\b\b\b\b\b\b\b\b\b\b\b\b\b\b\b\b"
     ]
    },
    {
     "data": {
      "text/plain": [
       "[0.87580669939517974, 0.94387999653816224]"
      ]
     },
     "execution_count": 72,
     "metadata": {},
     "output_type": "execute_result"
    }
   ],
   "source": [
    "#模型的测试误差指标\n",
    "print(model.metrics_names)\n",
    "# 对测试数据进行测试\n",
    "model.evaluate(x_test_1, y_test_1,\n",
    "          verbose=1,\n",
    "          batch_size=100)"
   ]
  },
  {
   "cell_type": "markdown",
   "metadata": {
    "deletable": true,
    "editable": true
   },
   "source": [
    "-----------------\n",
    "\n",
    "上面，我们探索了softmax对多分类的支持和理解，知道softmax可以作为一个输出成层进行多分类任务。\n",
    "\n",
    "但是，这种分类任务解决的都是线性因素形成的问题，对于非线性的，特别是异或问题，如何解决呢？\n",
    "\n",
    "这时，一种包含多层隐含层的深度神经网络的概念被提出。\n",
    "\n",
    "### 3. 激活函数\n",
    "\n",
    "**激活函数（activation function）**可以使得模型加入非线性因素的。\n",
    "\n",
    "解决非线性问题有两个办法：线性变换、引入非线性函数。\n",
    "\n",
    "**（1）线性变换(linear transformation)**\n",
    "\n",
    "原本一个线性不可分的模型如：X^2 + Y^2 = 1\n",
    "\n",
    "其图形如下图所示："
   ]
  },
  {
   "cell_type": "code",
   "execution_count": 21,
   "metadata": {
    "collapsed": false,
    "deletable": true,
    "editable": true
   },
   "outputs": [
    {
     "data": {
      "text/plain": [
       "[<matplotlib.lines.Line2D at 0x86c7510>]"
      ]
     },
     "execution_count": 21,
     "metadata": {},
     "output_type": "execute_result"
    },
    {
     "data": {
      "image/png": "[encoded data removed]",
      "text/plain": [
       "<matplotlib.figure.Figure at 0x858d3d0>"
      ]
     },
     "metadata": {},
     "output_type": "display_data"
    }
   ],
   "source": [
    "fig = plt.figure(0)\n",
    "degree = np.random.rand(50)*np.pi*2\n",
    "x_1 = np.cos(degree)*np.random.rand(50)\n",
    "y_1 = np.sin(degree)*np.random.rand(50)\n",
    "x_2 = np.cos(degree)*(1+np.random.rand(50))\n",
    "y_2 = np.sin(degree)*(1+np.random.rand(50))\n",
    "\n",
    "# x_3 和 y_3 就是切分线\n",
    "t = np.linspace(0,np.pi*2,50)\n",
    "x_3 = np.cos(t)\n",
    "y_3 = np.sin(t)\n",
    "\n",
    "scatter(x_1,y_1,c='red',s=50,alpha=0.4,marker='o')\n",
    "scatter(x_2,y_2,c='black',s=50,alpha=0.4,marker='o')\n",
    "plot(x_3,y_3)"
   ]
  },
  {
   "cell_type": "markdown",
   "metadata": {
    "deletable": true,
    "editable": true
   },
   "source": [
    "\n",
    "将坐标轴进行高维变换，横坐标变成X^2，纵坐标变成 Y^2，这是表达式变为了 X + Y = 1，这样，原来的非线性问题，就变成了一个线性可分的问题，变成了一个简单的一元一次方程了。\n",
    "\n",
    "详细可以参见下图："
   ]
  },
  {
   "cell_type": "code",
   "execution_count": 31,
   "metadata": {
    "collapsed": false,
    "deletable": true,
    "editable": true
   },
   "outputs": [
    {
     "data": {
      "text/plain": [
       "[<matplotlib.lines.Line2D at 0x984bf10>]"
      ]
     },
     "execution_count": 31,
     "metadata": {},
     "output_type": "execute_result"
    },
    {
     "data": {
      "image/png": "[encoded data removed]",
      "text/plain": [
       "<matplotlib.figure.Figure at 0x95df350>"
      ]
     },
     "metadata": {},
     "output_type": "display_data"
    }
   ],
   "source": [
    "fig2 = plt.figure(1)\n",
    "#令新的横坐标变成x^2,纵坐标变成 Y^2\n",
    "x_4 = x_1**2\n",
    "y_4 = y_1**2\n",
    "x_5 = x_2**2\n",
    "y_5 = y_2**2\n",
    "\n",
    "# 这样就可以构建一个一元线性方程进行拟合\n",
    "x_6 = np.linspace(-1,2,50)\n",
    "y_6 = 1 - x_6\n",
    "\n",
    "scatter(x_4,y_4,c='red',s=50,alpha=0.4,marker='o')\n",
    "scatter(x_5,y_5,c='black',s=50,alpha=0.4,marker='o')\n",
    "plot(x_6,y_6)"
   ]
  },
  {
   "cell_type": "markdown",
   "metadata": {
    "deletable": true,
    "editable": true
   },
   "source": [
    "**（2）引入非线性函数**\n",
    "\n",
    "异或是一种基于二进制的位运算，用符号XOR 表示(Python中的异或操作符为 **^** )，其运算法则是对运算符两侧数的每一个二进制位，同值取0，异值取1。\n",
    "\n",
    "下面是一个典型的异或表："
   ]
  },
  {
   "cell_type": "code",
   "execution_count": 37,
   "metadata": {
    "collapsed": false,
    "deletable": true,
    "editable": true
   },
   "outputs": [
    {
     "data": {
      "text/html": [
       "<div>\n",
       "<table border=\"1\" class=\"dataframe\">\n",
       "  <thead>\n",
       "    <tr style=\"text-align: right;\">\n",
       "      <th></th>\n",
       "      <th>x</th>\n",
       "      <th>y</th>\n",
       "      <th>z</th>\n",
       "    </tr>\n",
       "  </thead>\n",
       "  <tbody>\n",
       "    <tr>\n",
       "      <th>0</th>\n",
       "      <td>1</td>\n",
       "      <td>1</td>\n",
       "      <td>0</td>\n",
       "    </tr>\n",
       "    <tr>\n",
       "      <th>1</th>\n",
       "      <td>0</td>\n",
       "      <td>0</td>\n",
       "      <td>0</td>\n",
       "    </tr>\n",
       "    <tr>\n",
       "      <th>2</th>\n",
       "      <td>1</td>\n",
       "      <td>0</td>\n",
       "      <td>1</td>\n",
       "    </tr>\n",
       "    <tr>\n",
       "      <th>3</th>\n",
       "      <td>0</td>\n",
       "      <td>1</td>\n",
       "      <td>1</td>\n",
       "    </tr>\n",
       "  </tbody>\n",
       "</table>\n",
       "</div>"
      ],
      "text/plain": [
       "   x  y  z\n",
       "0  1  1  0\n",
       "1  0  0  0\n",
       "2  1  0  1\n",
       "3  0  1  1"
      ]
     },
     "execution_count": 37,
     "metadata": {},
     "output_type": "execute_result"
    }
   ],
   "source": [
    "table = {'x':[1,0,1,0],'y':[1,0,0,1]}\n",
    "df = pd.DataFrame(table)\n",
    "df['z'] = df['x']^df['y']\n",
    "df"
   ]
  },
  {
   "cell_type": "markdown",
   "metadata": {
    "deletable": true,
    "editable": true
   },
   "source": [
    "x = 1, y = 1, 则 z = 0\n",
    "\n",
    "x = 0, y = 0, 则 z = 0\n",
    "\n",
    "x = 1, y = 0, 则 z = 1\n",
    "\n",
    "x = 0, y = 1, 则 z = 1\n",
    "\n",
    "...\n",
    "\n",
    "其图形如下："
   ]
  },
  {
   "cell_type": "code",
   "execution_count": 40,
   "metadata": {
    "collapsed": false,
    "deletable": true,
    "editable": true
   },
   "outputs": [
    {
     "data": {
      "image/png": "[encoded data removed]",
      "text/plain": [
       "<matplotlib.figure.Figure at 0xa4600d0>"
      ]
     },
     "metadata": {},
     "output_type": "display_data"
    }
   ],
   "source": [
    "fig3 = plt.figure(2)\n",
    "groups = df.groupby('z')\n",
    "for name, group in groups:\n",
    "    scatter(group['x'],group['y'],label=name,s=50,marker='o')"
   ]
  },
  {
   "cell_type": "markdown",
   "metadata": {
    "deletable": true,
    "editable": true
   },
   "source": [
    "那么如果可以构建一个函数拟合这样的图形呢？即如何构建一个f()，使得：f(x,y)=z呢？\n",
    "\n",
    "----------------\n",
    "\n",
    "为了解决问题，我们来构建一个两层的神经网络，该神经网络有两个激活函数，F(x,y)和 H(x,y), 具体如下图所示：\n",
    "\n",
    "<img src='./img/ORX_problem.png'>\n",
    "\n",
    "F(x,y)为一个阈值为1的阈值函数：\n",
    "\n",
    "即：当AX+BY>1时候,F(x,y) = 1;否则为0；\n",
    "```\n",
    "if AX+BY > 1:\n",
    "    F = 1\n",
    "else:\n",
    "    F = 0\n",
    "```\n",
    "\n",
    "H(x,y）为一个阈值为0的阈值函数：\n",
    "```\n",
    "if AX+BY > 0:\n",
    "    H = 1\n",
    "else:\n",
    "    H = 0\n",
    "```\n",
    "\n",
    "\n",
    "图中线的数字表示权重值，\n",
    "\n",
    "```\n",
    "- 对于(1,1)的点，第二层从左到右隐藏层的值分别为(1,1,1),最后输出为(1,1,1)*(1,-2,1)=0；\n",
    "\n",
    "- 对于(0,0)的点，第二层从左到右隐藏层的值分别为(0,0,0),最后输出为(0,0,0)*(1,-2,1)=0；\n",
    "\n",
    "- 对于(1,0)的点，第二层从左到右隐藏层的值分别为(1,0,0),最后输出为(1,0,0)*(1,-2,1)= 1；\n",
    "\n",
    "- 对于(0,1)的点，第二层从左到右隐藏层的值分别为(0,0,1),最后输出为(0,0,1)*(1,-2,1)= 1；```\n"
   ]
  },
  {
   "cell_type": "code",
   "execution_count": 67,
   "metadata": {
    "collapsed": false,
    "deletable": true,
    "editable": true
   },
   "outputs": [
    {
     "data": {
      "text/html": [
       "<div>\n",
       "<table border=\"1\" class=\"dataframe\">\n",
       "  <thead>\n",
       "    <tr style=\"text-align: right;\">\n",
       "      <th></th>\n",
       "      <th>output</th>\n",
       "      <th>x</th>\n",
       "      <th>y</th>\n",
       "      <th>z</th>\n",
       "    </tr>\n",
       "  </thead>\n",
       "  <tbody>\n",
       "    <tr>\n",
       "      <th>0</th>\n",
       "      <td>0</td>\n",
       "      <td>1</td>\n",
       "      <td>1</td>\n",
       "      <td>1</td>\n",
       "    </tr>\n",
       "    <tr>\n",
       "      <th>1</th>\n",
       "      <td>0</td>\n",
       "      <td>0</td>\n",
       "      <td>0</td>\n",
       "      <td>0</td>\n",
       "    </tr>\n",
       "    <tr>\n",
       "      <th>2</th>\n",
       "      <td>1</td>\n",
       "      <td>1</td>\n",
       "      <td>0</td>\n",
       "      <td>0</td>\n",
       "    </tr>\n",
       "    <tr>\n",
       "      <th>3</th>\n",
       "      <td>1</td>\n",
       "      <td>0</td>\n",
       "      <td>0</td>\n",
       "      <td>1</td>\n",
       "    </tr>\n",
       "  </tbody>\n",
       "</table>\n",
       "</div>"
      ],
      "text/plain": [
       "   output  x  y  z\n",
       "0       0  1  1  1\n",
       "1       0  0  0  0\n",
       "2       1  1  0  0\n",
       "3       1  0  0  1"
      ]
     },
     "execution_count": 67,
     "metadata": {},
     "output_type": "execute_result"
    }
   ],
   "source": [
    "first_hidder_layer_table = {'x':[1,0,1,0],'y':[1,0,0,0],'z':[1,0,0,1],'output':[0,0,1,1]}\n",
    "first_hidder_layer_data = pd.DataFrame(first_hidder_layer_table)\n",
    "first_hidder_layer_data"
   ]
  },
  {
   "cell_type": "markdown",
   "metadata": {
    "deletable": true,
    "editable": true
   },
   "source": [
    "---------------\n",
    "这样我们就构建出了一个可以计算拟合的函数了。\n",
    "\n",
    "我们观察一下第一个隐含层，其总共有三个维度，三个权重值，从输入层到第一层，实际上，就是从将一个二维的数组变成一个三维数组，从而实现线性切分。\n",
    "\n",
    "图形化解释："
   ]
  },
  {
   "cell_type": "code",
   "execution_count": 74,
   "metadata": {
    "collapsed": false,
    "deletable": true,
    "editable": true
   },
   "outputs": [
    {
     "data": {
      "text/plain": [
       "<matplotlib.text.Text at 0xb7b0d90>"
      ]
     },
     "execution_count": 74,
     "metadata": {},
     "output_type": "execute_result"
    },
    {
     "data": {
      "image/png": "[encoded data removed]",
      "text/plain": [
       "<matplotlib.figure.Figure at 0xb78f0d0>"
      ]
     },
     "metadata": {},
     "output_type": "display_data"
    }
   ],
   "source": [
    "from mpl_toolkits.mplot3d import Axes3D\n",
    "fig4 = plt.figure(3)\n",
    "ax = fig4.add_subplot(111, projection='3d')\n",
    "groups = first_hidder_layer_data.groupby('output')\n",
    "for name, group in groups:\n",
    "    ax.scatter(group['x'],group['y'],group['z'],label=name,c=np.random.choice(['black','blue']),s=50,marker='o')\n",
    "ax.set_xlabel('X Label')\n",
    "ax.set_ylabel('Y Label')\n",
    "ax.set_zlabel('Z Label')"
   ]
  },
  {
   "cell_type": "markdown",
   "metadata": {
    "deletable": true,
    "editable": true
   },
   "source": [
    "经过变换后的数据是线性可分的（n维，比如本例中可以用平面将两个不同颜色的点切分）\n",
    "\n",
    "更多的操作可以参考tensorflow提供的一个神经网络的网页小程序，通过自己调整程序参数可以更深刻理解神经网络、激活函数的作用。\n",
    "\n",
    "演示网址：\n",
    "\n",
    "http://playground.tensorflow.org/\n",
    "\n",
    "可以自己建立一个小型神经网络帮助理解。\n",
    "\n",
    "\n",
    "### 4. sigmoid\n",
    "\n",
    "sigmoid是一个用来做二分类的\"S\"形逻辑回归曲线\n",
    "\n",
    "sigmoid公式：\n",
    "<img src='./img/sigmoid-formula.jpg'>\n",
    "\n",
    "sigmoid图像：\n",
    "<img src='./img/sigmoid-img.jpg' style='weight=50%'>\n",
    "\n",
    "其抑制两头,对中间细微变化敏感，因此sigmoid函数作为最简单常用的神经网络激活层被使用。\n",
    "\n",
    "优点：\n",
    "\n",
    "（1）输出范围(0,1)，数据在传递的过程中不容易发散\n",
    "\n",
    "（2）单向递增\n",
    "\n",
    "（3）易求导\n",
    "\n",
    "sigmod有个缺点，sigmoid函数反向传播时，很容易就会出现梯度消失,在接近饱和区的时候，导数趋向0，会变得非常缓慢。因此，在优化器选择时选用Adam优化器。\n",
    "\n",
    "Adam 也是基于梯度下降的方法，但是每次迭代参数的学习步长都有一个确定的范围，不会因为很大的梯度导致很大的学习步长，参数的值比较稳定。有利于降低模型收敛到局部最优的风险，而SGD容易收敛到局部最优，**如果下面代码中的optimizer改成SGD的化，在一次epoch后就acc值不会改变了，陷入局部最优**\n",
    "\n"
   ]
  },
  {
   "cell_type": "code",
   "execution_count": 46,
   "metadata": {
    "collapsed": false,
    "deletable": true,
    "editable": true
   },
   "outputs": [
    {
     "name": "stdout",
     "output_type": "stream",
     "text": [
      "____________________________________________________________________________________________________\n",
      "Layer (type)                     Output Shape          Param #     Connected to                     \n",
      "====================================================================================================\n",
      "dense_23 (Dense)                 (None, 200)           157000      dense_input_7[0][0]              \n",
      "____________________________________________________________________________________________________\n",
      "activation_23 (Activation)       (None, 200)           0           dense_23[0][0]                   \n",
      "____________________________________________________________________________________________________\n",
      "dense_24 (Dense)                 (None, 100)           20100       activation_23[0][0]              \n",
      "____________________________________________________________________________________________________\n",
      "activation_24 (Activation)       (None, 100)           0           dense_24[0][0]                   \n",
      "____________________________________________________________________________________________________\n",
      "dense_25 (Dense)                 (None, 60)            6060        activation_24[0][0]              \n",
      "____________________________________________________________________________________________________\n",
      "activation_25 (Activation)       (None, 60)            0           dense_25[0][0]                   \n",
      "____________________________________________________________________________________________________\n",
      "dense_26 (Dense)                 (None, 30)            1830        activation_25[0][0]              \n",
      "____________________________________________________________________________________________________\n",
      "activation_26 (Activation)       (None, 30)            0           dense_26[0][0]                   \n",
      "____________________________________________________________________________________________________\n",
      "dense_27 (Dense)                 (None, 10)            310         activation_26[0][0]              \n",
      "____________________________________________________________________________________________________\n",
      "activation_27 (Activation)       (None, 10)            0           dense_27[0][0]                   \n",
      "====================================================================================================\n",
      "Total params: 185,300\n",
      "Trainable params: 185,300\n",
      "Non-trainable params: 0\n",
      "____________________________________________________________________________________________________\n"
     ]
    }
   ],
   "source": [
    "\n",
    "# 构建一个五层sigmod全连接神经网络\n",
    "# neural network with 5 layers\n",
    "#\n",
    "# · · · · · · · · · ·       (input data, flattened pixels)       X [batch, 784]   # 784 = 28*28\n",
    "# \\x/x\\x/x\\x/x\\x/x\\x/    -- fully connected layer (sigmoid)      W1 [784, 200]      B1[200]\n",
    "#  · · · · · · · · ·                                             Y1 [batch, 200]\n",
    "#   \\x/x\\x/x\\x/x\\x/      -- fully connected layer (sigmoid)      W2 [200, 100]      B2[100]\n",
    "#    · · · · · · ·                                               Y2 [batch, 100]\n",
    "#    \\x/x\\x/x\\x/         -- fully connected layer (sigmoid)      W3 [100, 60]       B3[60]\n",
    "#     · · · · ·                                                  Y3 [batch, 60]\n",
    "#     \\x/x\\x/            -- fully connected layer (sigmoid)      W4 [60, 30]        B4[30]\n",
    "#      · · ·                                                     Y4 [batch, 30]\n",
    "#      \\x/               -- fully connected layer (softmax)      W5 [30, 10]        B5[10]\n",
    "#       ·                                                        Y5 [batch, 10]\n",
    "\n",
    "model = Sequential()\n",
    "model.add(Dense(200, input_shape=(784,)))#全连接，输入784维度, 输出10维度，需要和输入输出对应\n",
    "model.add(Activation('sigmoid'))\n",
    "model.add(Dense(100))# 除了首层需要设置输入维度，其他层只需要输入输出维度就可以了，输入维度自动继承上层。\n",
    "model.add(Activation('sigmoid'))\n",
    "model.add(Dense(60))\n",
    "model.add(Activation('sigmoid'))\n",
    "model.add(Dense(30))            #model.add(Activation('sigmoid'))和model.add(Dense(30))可以合并写出\n",
    "model.add(Activation('sigmoid'))#model.add(Dense(30,activation='softmax'))\n",
    "model.add(Dense(10))\n",
    "model.add(Activation('softmax'))\n",
    "\n",
    "sgd = Adam(lr=0.003)\n",
    "model.compile(loss='binary_crossentropy',\n",
    "              optimizer=sgd,\n",
    "              metrics=['accuracy'])\n",
    "\n",
    "#model 概要\n",
    "model.summary()"
   ]
  },
  {
   "cell_type": "code",
   "execution_count": 77,
   "metadata": {
    "collapsed": false,
    "deletable": true,
    "editable": true
   },
   "outputs": [
    {
     "data": {
      "image/svg+xml": [
       "<svg height=\"786pt\" viewBox=\"0.00 0.00 178.00 786.00\" width=\"178pt\" xmlns=\"http://www.w3.org/2000/svg\" xmlns:xlink=\"http://www.w3.org/1999/xlink\">\n",
       "<g class=\"graph\" id=\"graph0\" transform=\"scale(1 1) rotate(0) translate(4 782)\">\n",
       "<title>G</title>\n",
       "<polygon fill=\"white\" points=\"-4,5 -4,-782 175,-782 175,5 -4,5\" stroke=\"white\"/>\n",
       "<!-- 225252368 -->\n",
       "<g class=\"node\" id=\"node1\"><title>225252368</title>\n",
       "<polygon fill=\"none\" points=\"0,-741 0,-777 170,-777 170,-741 0,-741\" stroke=\"black\"/>\n",
       "<text font-family=\"Times,serif\" font-size=\"14.00\" text-anchor=\"middle\" x=\"85\" y=\"-755.3\">dense_input_11: InputLayer</text>\n",
       "</g>\n",
       "<!-- 225255312 -->\n",
       "<g class=\"node\" id=\"node2\"><title>225255312</title>\n",
       "<polygon fill=\"none\" points=\"30.5,-667 30.5,-703 139.5,-703 139.5,-667 30.5,-667\" stroke=\"black\"/>\n",
       "<text font-family=\"Times,serif\" font-size=\"14.00\" text-anchor=\"middle\" x=\"85\" y=\"-681.3\">dense_23: Dense</text>\n",
       "</g>\n",
       "<!-- 225252368&#45;&gt;225255312 -->\n",
       "<g class=\"edge\" id=\"edge1\"><title>225252368-&gt;225255312</title>\n",
       "<path d=\"M85,-740.937C85,-732.807 85,-722.876 85,-713.705\" fill=\"none\" stroke=\"black\"/>\n",
       "<polygon fill=\"black\" points=\"88.5001,-713.441 85,-703.441 81.5001,-713.441 88.5001,-713.441\" stroke=\"black\"/>\n",
       "</g>\n",
       "<!-- 217245712 -->\n",
       "<g class=\"node\" id=\"node3\"><title>217245712</title>\n",
       "<polygon fill=\"none\" points=\"7.5,-593 7.5,-629 162.5,-629 162.5,-593 7.5,-593\" stroke=\"black\"/>\n",
       "<text font-family=\"Times,serif\" font-size=\"14.00\" text-anchor=\"middle\" x=\"85\" y=\"-607.3\">activation_23: Activation</text>\n",
       "</g>\n",
       "<!-- 225255312&#45;&gt;217245712 -->\n",
       "<g class=\"edge\" id=\"edge2\"><title>225255312-&gt;217245712</title>\n",
       "<path d=\"M85,-666.937C85,-658.807 85,-648.876 85,-639.705\" fill=\"none\" stroke=\"black\"/>\n",
       "<polygon fill=\"black\" points=\"88.5001,-639.441 85,-629.441 81.5001,-639.441 88.5001,-639.441\" stroke=\"black\"/>\n",
       "</g>\n",
       "<!-- 225255120 -->\n",
       "<g class=\"node\" id=\"node4\"><title>225255120</title>\n",
       "<polygon fill=\"none\" points=\"30.5,-519 30.5,-555 139.5,-555 139.5,-519 30.5,-519\" stroke=\"black\"/>\n",
       "<text font-family=\"Times,serif\" font-size=\"14.00\" text-anchor=\"middle\" x=\"85\" y=\"-533.3\">dense_24: Dense</text>\n",
       "</g>\n",
       "<!-- 217245712&#45;&gt;225255120 -->\n",
       "<g class=\"edge\" id=\"edge3\"><title>217245712-&gt;225255120</title>\n",
       "<path d=\"M85,-592.937C85,-584.807 85,-574.876 85,-565.705\" fill=\"none\" stroke=\"black\"/>\n",
       "<polygon fill=\"black\" points=\"88.5001,-565.441 85,-555.441 81.5001,-565.441 88.5001,-565.441\" stroke=\"black\"/>\n",
       "</g>\n",
       "<!-- 225253328 -->\n",
       "<g class=\"node\" id=\"node5\"><title>225253328</title>\n",
       "<polygon fill=\"none\" points=\"7.5,-445 7.5,-481 162.5,-481 162.5,-445 7.5,-445\" stroke=\"black\"/>\n",
       "<text font-family=\"Times,serif\" font-size=\"14.00\" text-anchor=\"middle\" x=\"85\" y=\"-459.3\">activation_24: Activation</text>\n",
       "</g>\n",
       "<!-- 225255120&#45;&gt;225253328 -->\n",
       "<g class=\"edge\" id=\"edge4\"><title>225255120-&gt;225253328</title>\n",
       "<path d=\"M85,-518.937C85,-510.807 85,-500.876 85,-491.705\" fill=\"none\" stroke=\"black\"/>\n",
       "<polygon fill=\"black\" points=\"88.5001,-491.441 85,-481.441 81.5001,-491.441 88.5001,-491.441\" stroke=\"black\"/>\n",
       "</g>\n",
       "<!-- 260545424 -->\n",
       "<g class=\"node\" id=\"node6\"><title>260545424</title>\n",
       "<polygon fill=\"none\" points=\"30.5,-371 30.5,-407 139.5,-407 139.5,-371 30.5,-371\" stroke=\"black\"/>\n",
       "<text font-family=\"Times,serif\" font-size=\"14.00\" text-anchor=\"middle\" x=\"85\" y=\"-385.3\">dense_25: Dense</text>\n",
       "</g>\n",
       "<!-- 225253328&#45;&gt;260545424 -->\n",
       "<g class=\"edge\" id=\"edge5\"><title>225253328-&gt;260545424</title>\n",
       "<path d=\"M85,-444.937C85,-436.807 85,-426.876 85,-417.705\" fill=\"none\" stroke=\"black\"/>\n",
       "<polygon fill=\"black\" points=\"88.5001,-417.441 85,-407.441 81.5001,-417.441 88.5001,-417.441\" stroke=\"black\"/>\n",
       "</g>\n",
       "<!-- 260455504 -->\n",
       "<g class=\"node\" id=\"node7\"><title>260455504</title>\n",
       "<polygon fill=\"none\" points=\"7.5,-297 7.5,-333 162.5,-333 162.5,-297 7.5,-297\" stroke=\"black\"/>\n",
       "<text font-family=\"Times,serif\" font-size=\"14.00\" text-anchor=\"middle\" x=\"85\" y=\"-311.3\">activation_25: Activation</text>\n",
       "</g>\n",
       "<!-- 260545424&#45;&gt;260455504 -->\n",
       "<g class=\"edge\" id=\"edge6\"><title>260545424-&gt;260455504</title>\n",
       "<path d=\"M85,-370.937C85,-362.807 85,-352.876 85,-343.705\" fill=\"none\" stroke=\"black\"/>\n",
       "<polygon fill=\"black\" points=\"88.5001,-343.441 85,-333.441 81.5001,-343.441 88.5001,-343.441\" stroke=\"black\"/>\n",
       "</g>\n",
       "<!-- 260345104 -->\n",
       "<g class=\"node\" id=\"node8\"><title>260345104</title>\n",
       "<polygon fill=\"none\" points=\"30.5,-223 30.5,-259 139.5,-259 139.5,-223 30.5,-223\" stroke=\"black\"/>\n",
       "<text font-family=\"Times,serif\" font-size=\"14.00\" text-anchor=\"middle\" x=\"85\" y=\"-237.3\">dense_26: Dense</text>\n",
       "</g>\n",
       "<!-- 260455504&#45;&gt;260345104 -->\n",
       "<g class=\"edge\" id=\"edge7\"><title>260455504-&gt;260345104</title>\n",
       "<path d=\"M85,-296.937C85,-288.807 85,-278.876 85,-269.705\" fill=\"none\" stroke=\"black\"/>\n",
       "<polygon fill=\"black\" points=\"88.5001,-269.441 85,-259.441 81.5001,-269.441 88.5001,-269.441\" stroke=\"black\"/>\n",
       "</g>\n",
       "<!-- 260394896 -->\n",
       "<g class=\"node\" id=\"node9\"><title>260394896</title>\n",
       "<polygon fill=\"none\" points=\"7.5,-149 7.5,-185 162.5,-185 162.5,-149 7.5,-149\" stroke=\"black\"/>\n",
       "<text font-family=\"Times,serif\" font-size=\"14.00\" text-anchor=\"middle\" x=\"85\" y=\"-163.3\">activation_26: Activation</text>\n",
       "</g>\n",
       "<!-- 260345104&#45;&gt;260394896 -->\n",
       "<g class=\"edge\" id=\"edge8\"><title>260345104-&gt;260394896</title>\n",
       "<path d=\"M85,-222.937C85,-214.807 85,-204.876 85,-195.705\" fill=\"none\" stroke=\"black\"/>\n",
       "<polygon fill=\"black\" points=\"88.5001,-195.441 85,-185.441 81.5001,-195.441 88.5001,-195.441\" stroke=\"black\"/>\n",
       "</g>\n",
       "<!-- 260426320 -->\n",
       "<g class=\"node\" id=\"node10\"><title>260426320</title>\n",
       "<polygon fill=\"none\" points=\"30.5,-75 30.5,-111 139.5,-111 139.5,-75 30.5,-75\" stroke=\"black\"/>\n",
       "<text font-family=\"Times,serif\" font-size=\"14.00\" text-anchor=\"middle\" x=\"85\" y=\"-89.3\">dense_27: Dense</text>\n",
       "</g>\n",
       "<!-- 260394896&#45;&gt;260426320 -->\n",
       "<g class=\"edge\" id=\"edge9\"><title>260394896-&gt;260426320</title>\n",
       "<path d=\"M85,-148.937C85,-140.807 85,-130.876 85,-121.705\" fill=\"none\" stroke=\"black\"/>\n",
       "<polygon fill=\"black\" points=\"88.5001,-121.441 85,-111.441 81.5001,-121.441 88.5001,-121.441\" stroke=\"black\"/>\n",
       "</g>\n",
       "<!-- 260518928 -->\n",
       "<g class=\"node\" id=\"node11\"><title>260518928</title>\n",
       "<polygon fill=\"none\" points=\"7.5,-1 7.5,-37 162.5,-37 162.5,-1 7.5,-1\" stroke=\"black\"/>\n",
       "<text font-family=\"Times,serif\" font-size=\"14.00\" text-anchor=\"middle\" x=\"85\" y=\"-15.3\">activation_27: Activation</text>\n",
       "</g>\n",
       "<!-- 260426320&#45;&gt;260518928 -->\n",
       "<g class=\"edge\" id=\"edge10\"><title>260426320-&gt;260518928</title>\n",
       "<path d=\"M85,-74.937C85,-66.8072 85,-56.8761 85,-47.7047\" fill=\"none\" stroke=\"black\"/>\n",
       "<polygon fill=\"black\" points=\"88.5001,-47.4406 85,-37.4407 81.5001,-47.4407 88.5001,-47.4406\" stroke=\"black\"/>\n",
       "</g>\n",
       "</g>\n",
       "</svg>"
      ],
      "text/plain": [
       "<IPython.core.display.SVG object>"
      ]
     },
     "execution_count": 77,
     "metadata": {},
     "output_type": "execute_result"
    }
   ],
   "source": [
    "SVG(model_to_dot(model).create(prog='dot', format='svg'))"
   ]
  },
  {
   "cell_type": "code",
   "execution_count": 78,
   "metadata": {
    "collapsed": false,
    "deletable": true,
    "editable": true
   },
   "outputs": [
    {
     "data": {
      "text/plain": [
       "<keras.callbacks.History at 0xf868a90>"
      ]
     },
     "execution_count": 78,
     "metadata": {},
     "output_type": "execute_result"
    }
   ],
   "source": [
    "tensorboard2 = TensorBoard(log_dir='/home/tensorflow/log/five_layer_sigmoid/epoch', histogram_freq=0)\n",
    "my_tensorboard2 = BatchTensorBoard(log_dir='/home/tensorflow/log/five_layer_sigmoid/batch')\n",
    "model.fit(x_train_1, y_train_1,\n",
    "          nb_epoch=20,\n",
    "          verbose=0,\n",
    "          batch_size=100,\n",
    "          callbacks=[my_tensorboard2, tensorboard2])"
   ]
  },
  {
   "cell_type": "code",
   "execution_count": 79,
   "metadata": {
    "collapsed": false,
    "deletable": true,
    "editable": true
   },
   "outputs": [
    {
     "name": "stdout",
     "output_type": "stream",
     "text": [
      "['loss', 'acc']\n",
      " 9800/10000 [============================>.] - ETA: 0s \b\b\b\b\b\b\b\b\b\b\b\b\b\b\b\b\b\b\b\b\b\b\b\b\b\b\b\b\b\b\b\b\b\b\b\b\b\b\b\b\b\b\b\b\b\b\b\b\b\b\b\b\b\b\b\b\b\b\b\b\b\b\b\b\b\b\b\b\b\b\b\b\b\b\b\b\b\b\b\b\b\b\b\b\b\b\b\b\b\b\b\b\b\b\b\b\b\b\b\b\b\b\b\b\b\b\b\b\b\b\b\b\b\b\b\b\b\b\b\b\b\b\b\b\b\b\b\b\b\b\b\b\b\b\b\b\b\b\b\b\b\b\b\b\b\b\b\b\b\b\b\b\b\b\b\b\b\b\b\b\b\b\b\b\b\b\b\b\b\b\b\b\b\b\b\b\b\b\b\b\b\b\b\b\b\b\b\b\b\b\b\b\b\b\b\b\b\b\b\b\b\b\b\b\b\b\b\b\b\b\b\b\b\b\b\b\b\b\b\b\b\b\b\b\b\b\b\b\b\b\b\b\b\b\b\b\b\b\b\b\b\b\b\b\b\b\b\b\b\b\b\b\b\b\b\b\b\b\b\b\b\b\b\b\b\b\b\b\b\b\b\b\b\b\b\b\b\b\b\b\b\b\b\b\b\b\b\b\b\b\b\b\b\b\b\b\b\b\b\b\b\b\b\b\b\b\b\b\b\b\b\b\b\b\b\b\b\b\b\b\b\b\b\b\b\b\b\b\b\b\b\b\b\b\b\b\b\b\b\b\b\b\b\b\b\b\b\b\b\b\b\b\b\b\b\b\b\b\b\b\b\b\b\b\b\b\b\b\b\b\b\b\b\b\b\b\b\b\b\b\b\b\b\b\b\b\b\b\b\b\b\b\b\b\b\b\b\b\b\b\b\b\b\b\b\b\b\b\b\b\b\b\b\b\b\b\b\b\b\b\b\b\b\b\b\b\b\b\b\b\b\b\b\b\b\b\b\b\b\b\b\b\b\b\b\b\b\b\b\b\b\b\b\b\b\b\b\b\b\b\b\b\b\b\b\b\b\b\b\b\b\b\b\b\b\b\b\b\b\b\b\b\b\b\b\b\b\b\b\b\b\b\b\b\b\b\b\b\b\b\b\b\b\b\b\b\b\b\b\b\b\b\b\b\b\b\b\b\b\b\b\b\b\b\b\b\b\b\b\b\b\b\b\b\b\b\b\b\b\b\b\b\b\b\b\b\b\b\b\b\b\b\b\b\b\b\b\b\b\b\b\b\b\b\b\b\b\b\b\b\b\b\b\b\b\b\b\b\b\b\b\b\b\b\b\b\b\b\b\b\b\b\b\b\b\b\b\b\b\b\b\b\b\b\b\b\b\b\b\b\b\b\b\b\b\b\b\b\b\b\b\b\b\b\b\b\b\b\b\b\b\b\b\b\b\b\b\b\b\b\b\b\b\b\b\b\b\b\b\b\b\b\b\b\b\b\b\b\b\b\b\b\b\b\b\b\b\b\b\b\b\b\b\b\b\b\b\b\b\b\b\b\b\b\b\b\b\b\b\b\b\b\b\b\b\b\b\b\b\b\b\b\b\b\b\b\b\b\b\b\b\b\b\b\b\b\b\b\b\b\b\b\b\b\b\b\b\b\b\b\b\b\b\b\b\b\b\b\b\b\b\b\b\b\b\b\b\b\b\b\b\b\b\b\b\b\b\b\b\b\b\b\b\b\b\b\b\b\b\b\b\b\b\b\b\b\b\b\b\b\b\b\b\b\b\b\b\b\b\b\b\b\b\b\b\b\b\b\b\b\b\b\b\b\b\b\b\b\b\b\b\b\b\b\b\b\b\b\b\b\b\b\b\b\b\b\b\b\b\b\b\b\b\b\b\b\b\b\b\b\b\b\b\b\b\b\b\b\b\b\b\b\b\b\b\b\b\b\b\b\b\b\b\b\b\b\b\b\b\b\b\b\b\b\b\b\b\b\b\b\b\b\b\b\b\b\b\b\b\b\b\b\b\b\b\b\b\b\b\b\b\b\b\b\b\b\b\b\b\b\b\b\b\b\b\b\b\b\b\b\b\b\b\b\b\b\b\b\b\b\b\b\b\b\b\b\b\b\b\b\b\b\b\b\b\b\b\b\b\b\b\b\b\b\b\b\b\b\b\b\b\b\b\b\b\b\b\b\b\b\b\b\b\b\b\b\b\b\b\b\b\b\b\b\b\b\b\b\b\b\b\b\b\b\b\b\b\b\b\b\b\b\b\b\b\b\b\b\b\b\b\b\b\b\b\b\b\b\b\b\b\b\b\b\b\b\b\b\b\b\b\b\b\b\b\b\b\b\b\b\b\b\b\b\b\b\b\b\b\b\b\b\b\b\b\b\b\b\b\b\b\b\b\b\b\b\b\b\b\b\b\b\b\b\b\b\b\b\b\b\b\b\b\b\b\b\b\b\b\b\b\b\b\b\b\b\b\b\b\b\b\b\b\b\b\b\b\b\b\b\b\b\b\b\b\b\b\b\b\b\b\b\b\b\b\b\b\b\b\b\b\b\b\b\b\b\b\b\b\b\b\b\b\b\b\b\b\b\b\b\b\b\b\b\b\b\b\b\b\b\b\b\b\b\b\b\b\b\b\b\b\b\b\b\b\b\b\b\b\b\b\b\b\b\b\b\b\b\b\b\b\b\b\b\b\b\b\b\b\b\b\b\b\b\b\b\b\b\b\b\b\b\b\b\b\b\b\b\b\b\b\b\b\b\b\b\b\b\b\b\b\b\b\b\b\b\b\b\b\b\b\b\b\b\b\b\b\b\b\b\b\b\b\b\b\b\b\b\b\b\b\b\b\b\b\b\b\b\b\b\b\b\b\b\b\b\b\b\b\b\b\b\b\b\b\b\b\b\b\b\b\b\b\b\b\b\b\b\b\b\b\b\b\b\b\b\b\b\b\b\b\b\b\b\b\b\b\b\b\b\b\b\b\b\b\b\b\b\b\b\b\b\b\b\b\b\b\b\b\b\b\b\b\b\b\b\b\b\b\b\b"
     ]
    },
    {
     "data": {
      "text/plain": [
       "[0.036339853547979147, 0.98736999988555907]"
      ]
     },
     "execution_count": 79,
     "metadata": {},
     "output_type": "execute_result"
    }
   ],
   "source": [
    "#模型的测试误差指标\n",
    "print(model.metrics_names)\n",
    "# 对测试数据进行测试\n",
    "model.evaluate(x_test_1, y_test_1,\n",
    "          verbose=1,\n",
    "          batch_size=100)"
   ]
  },
  {
   "cell_type": "markdown",
   "metadata": {
    "deletable": true,
    "editable": true
   },
   "source": [
    "--------------------\n",
    "\n",
    "根据上面，我们可以看出，深度越深，效果越好。\n",
    "\n",
    "但是，对于深层网络，sigmoid函数反向传播时，很容易就会出现梯度消失的情况从而无法完成深层网络的训练。在sigmoid接近饱和区时，变换非常缓慢，导数趋于0，减缓收敛速度。\n",
    "\n",
    "### 5. ReLu\n",
    "\n",
    "ReLu来自于对人脑神经细胞工作时的稀疏性的研究，在 Lennie,P.(2003)提出人脑神经元有95%－99%是闲置的，而更少工作的神经元意味着更小的计算复杂度，更不容易过拟合\n",
    "\n",
    "修正线性单元(Rectified linear unit,ReLU)公式：\n",
    "\n",
    "$$ReLU\\left(x\\right)=\n",
    "\\left\\lbrace\n",
    "\\begin{align}\n",
    "x, \\quad x \\gt 0 \\cr\n",
    "0, \\quad x \\le 0\n",
    "\\end{align}\n",
    "\\right .$$\n",
    "\n",
    "其图像：\n",
    "\n",
    "<img src='./img/relu-img.jpg'>\n",
    "\n",
    "ReLU具有线性、非饱和性，而其非饱和性使得网络可以自行引入稀疏性。\n",
    "\n",
    "ReLU的使用解决了sigmoid梯度下降慢，深层网络的信息丢失的问题。\n",
    "\n",
    "ReLU在训练时是非常脆弱的，并且可能会“死”。例如，经过ReLU神经元的一个大梯度可能导致权重更新后该神经元接收到任何数据点都不会再激活。如果发生这种情况，之后通过该单位点的梯度将永远是零。也就是说，ReLU可能会在训练过程中不可逆地死亡，并且破坏数据流形。如果学习率太高，大部分网络将会“死亡”（即，在整个训练过程中神经元都没有激活）。而设置一个适当的学习率，可以在一定程度上避免这一问题。\n",
    "\n",
    "### 6. 学习速率\n",
    "\n",
    "上面说梯度下降的时候，说过学习速率其实就是梯度下降的步伐。因此，为了到达山谷，需要控制步伐的大小，即学习速率。\n",
    "\n",
    "学习速率大小的调节一般取决于 loss 的变化幅度。\n"
   ]
  },
  {
   "cell_type": "code",
   "execution_count": 16,
   "metadata": {
    "collapsed": false,
    "deletable": true,
    "editable": true
   },
   "outputs": [
    {
     "name": "stdout",
     "output_type": "stream",
     "text": [
      "____________________________________________________________________________________________________\n",
      "Layer (type)                     Output Shape          Param #     Connected to                     \n",
      "====================================================================================================\n",
      "dense_16 (Dense)                 (None, 200)           157000      dense_input_4[0][0]              \n",
      "____________________________________________________________________________________________________\n",
      "activation_16 (Activation)       (None, 200)           0           dense_16[0][0]                   \n",
      "____________________________________________________________________________________________________\n",
      "dense_17 (Dense)                 (None, 100)           20100       activation_16[0][0]              \n",
      "____________________________________________________________________________________________________\n",
      "activation_17 (Activation)       (None, 100)           0           dense_17[0][0]                   \n",
      "____________________________________________________________________________________________________\n",
      "dense_18 (Dense)                 (None, 60)            6060        activation_17[0][0]              \n",
      "____________________________________________________________________________________________________\n",
      "activation_18 (Activation)       (None, 60)            0           dense_18[0][0]                   \n",
      "____________________________________________________________________________________________________\n",
      "dense_19 (Dense)                 (None, 30)            1830        activation_18[0][0]              \n",
      "____________________________________________________________________________________________________\n",
      "activation_19 (Activation)       (None, 30)            0           dense_19[0][0]                   \n",
      "____________________________________________________________________________________________________\n",
      "dense_20 (Dense)                 (None, 10)            310         activation_19[0][0]              \n",
      "____________________________________________________________________________________________________\n",
      "activation_20 (Activation)       (None, 10)            0           dense_20[0][0]                   \n",
      "====================================================================================================\n",
      "Total params: 185,300\n",
      "Trainable params: 185,300\n",
      "Non-trainable params: 0\n",
      "____________________________________________________________________________________________________\n"
     ]
    }
   ],
   "source": [
    "# neural network with 5 layers\n",
    "#\n",
    "# · · · · · · · · · ·       (input data, flattened pixels)       X [batch, 784]   # 784 = 28*28\n",
    "# \\x/x\\x/x\\x/x\\x/x\\x/    -- fully connected layer (relu)         W1 [784, 200]      B1[200]\n",
    "#  · · · · · · · · ·                                             Y1 [batch, 200]\n",
    "#   \\x/x\\x/x\\x/x\\x/      -- fully connected layer (relu)         W2 [200, 100]      B2[100]\n",
    "#    · · · · · · ·                                               Y2 [batch, 100]\n",
    "#    \\x/x\\x/x\\x/         -- fully connected layer (relu)         W3 [100, 60]       B3[60]\n",
    "#     · · · · ·                                                  Y3 [batch, 60]\n",
    "#     \\x/x\\x/            -- fully connected layer (relu)         W4 [60, 30]        B4[30]\n",
    "#      · · ·                                                     Y4 [batch, 30]\n",
    "#      \\x/               -- fully connected layer (softmax)      W5 [30, 10]        B5[10]\n",
    "#       ·                                                        Y5 [batch, 10]\n",
    "model = Sequential()\n",
    "model.add(Dense(200, input_shape=(784,)))#全连接，输入784维度, 输出10维度，需要和输入输出对应\n",
    "model.add(Activation('relu'))# 将激活函数sigmoid改为ReLU\n",
    "model.add(Dense(100))\n",
    "model.add(Activation('relu'))\n",
    "model.add(Dense(60))\n",
    "model.add(Activation('relu'))\n",
    "model.add(Dense(30))            \n",
    "model.add(Activation('relu'))\n",
    "model.add(Dense(10))\n",
    "model.add(Activation('softmax'))\n",
    "\n",
    "sgd = Adam(lr=0.001)\n",
    "model.compile(loss='binary_crossentropy',\n",
    "              optimizer=sgd,\n",
    "              metrics=['accuracy'])\n",
    "\n",
    "#model 概要\n",
    "model.summary()"
   ]
  },
  {
   "cell_type": "code",
   "execution_count": 17,
   "metadata": {
    "collapsed": false,
    "deletable": true,
    "editable": true
   },
   "outputs": [
    {
     "data": {
      "image/svg+xml": [
       "<svg height=\"786pt\" viewBox=\"0.00 0.00 170.00 786.00\" width=\"170pt\" xmlns=\"http://www.w3.org/2000/svg\" xmlns:xlink=\"http://www.w3.org/1999/xlink\">\n",
       "<g class=\"graph\" id=\"graph0\" transform=\"scale(1 1) rotate(0) translate(4 782)\">\n",
       "<title>G</title>\n",
       "<polygon fill=\"white\" points=\"-4,5 -4,-782 167,-782 167,5 -4,5\" stroke=\"white\"/>\n",
       "<!-- 183073104 -->\n",
       "<g class=\"node\" id=\"node1\"><title>183073104</title>\n",
       "<polygon fill=\"none\" points=\"-0.5,-741 -0.5,-777 162.5,-777 162.5,-741 -0.5,-741\" stroke=\"black\"/>\n",
       "<text font-family=\"Times,serif\" font-size=\"14.00\" text-anchor=\"middle\" x=\"81\" y=\"-755.3\">dense_input_4: InputLayer</text>\n",
       "</g>\n",
       "<!-- 125780432 -->\n",
       "<g class=\"node\" id=\"node2\"><title>125780432</title>\n",
       "<polygon fill=\"none\" points=\"26.5,-667 26.5,-703 135.5,-703 135.5,-667 26.5,-667\" stroke=\"black\"/>\n",
       "<text font-family=\"Times,serif\" font-size=\"14.00\" text-anchor=\"middle\" x=\"81\" y=\"-681.3\">dense_16: Dense</text>\n",
       "</g>\n",
       "<!-- 183073104&#45;&gt;125780432 -->\n",
       "<g class=\"edge\" id=\"edge1\"><title>183073104-&gt;125780432</title>\n",
       "<path d=\"M81,-740.937C81,-732.807 81,-722.876 81,-713.705\" fill=\"none\" stroke=\"black\"/>\n",
       "<polygon fill=\"black\" points=\"84.5001,-713.441 81,-703.441 77.5001,-713.441 84.5001,-713.441\" stroke=\"black\"/>\n",
       "</g>\n",
       "<!-- 182944272 -->\n",
       "<g class=\"node\" id=\"node3\"><title>182944272</title>\n",
       "<polygon fill=\"none\" points=\"3.5,-593 3.5,-629 158.5,-629 158.5,-593 3.5,-593\" stroke=\"black\"/>\n",
       "<text font-family=\"Times,serif\" font-size=\"14.00\" text-anchor=\"middle\" x=\"81\" y=\"-607.3\">activation_16: Activation</text>\n",
       "</g>\n",
       "<!-- 125780432&#45;&gt;182944272 -->\n",
       "<g class=\"edge\" id=\"edge2\"><title>125780432-&gt;182944272</title>\n",
       "<path d=\"M81,-666.937C81,-658.807 81,-648.876 81,-639.705\" fill=\"none\" stroke=\"black\"/>\n",
       "<polygon fill=\"black\" points=\"84.5001,-639.441 81,-629.441 77.5001,-639.441 84.5001,-639.441\" stroke=\"black\"/>\n",
       "</g>\n",
       "<!-- 182947216 -->\n",
       "<g class=\"node\" id=\"node4\"><title>182947216</title>\n",
       "<polygon fill=\"none\" points=\"26.5,-519 26.5,-555 135.5,-555 135.5,-519 26.5,-519\" stroke=\"black\"/>\n",
       "<text font-family=\"Times,serif\" font-size=\"14.00\" text-anchor=\"middle\" x=\"81\" y=\"-533.3\">dense_17: Dense</text>\n",
       "</g>\n",
       "<!-- 182944272&#45;&gt;182947216 -->\n",
       "<g class=\"edge\" id=\"edge3\"><title>182944272-&gt;182947216</title>\n",
       "<path d=\"M81,-592.937C81,-584.807 81,-574.876 81,-565.705\" fill=\"none\" stroke=\"black\"/>\n",
       "<polygon fill=\"black\" points=\"84.5001,-565.441 81,-555.441 77.5001,-565.441 84.5001,-565.441\" stroke=\"black\"/>\n",
       "</g>\n",
       "<!-- 183070864 -->\n",
       "<g class=\"node\" id=\"node5\"><title>183070864</title>\n",
       "<polygon fill=\"none\" points=\"3.5,-445 3.5,-481 158.5,-481 158.5,-445 3.5,-445\" stroke=\"black\"/>\n",
       "<text font-family=\"Times,serif\" font-size=\"14.00\" text-anchor=\"middle\" x=\"81\" y=\"-459.3\">activation_17: Activation</text>\n",
       "</g>\n",
       "<!-- 182947216&#45;&gt;183070864 -->\n",
       "<g class=\"edge\" id=\"edge4\"><title>182947216-&gt;183070864</title>\n",
       "<path d=\"M81,-518.937C81,-510.807 81,-500.876 81,-491.705\" fill=\"none\" stroke=\"black\"/>\n",
       "<polygon fill=\"black\" points=\"84.5001,-491.441 81,-481.441 77.5001,-491.441 84.5001,-491.441\" stroke=\"black\"/>\n",
       "</g>\n",
       "<!-- 196486800 -->\n",
       "<g class=\"node\" id=\"node6\"><title>196486800</title>\n",
       "<polygon fill=\"none\" points=\"26.5,-371 26.5,-407 135.5,-407 135.5,-371 26.5,-371\" stroke=\"black\"/>\n",
       "<text font-family=\"Times,serif\" font-size=\"14.00\" text-anchor=\"middle\" x=\"81\" y=\"-385.3\">dense_18: Dense</text>\n",
       "</g>\n",
       "<!-- 183070864&#45;&gt;196486800 -->\n",
       "<g class=\"edge\" id=\"edge5\"><title>183070864-&gt;196486800</title>\n",
       "<path d=\"M81,-444.937C81,-436.807 81,-426.876 81,-417.705\" fill=\"none\" stroke=\"black\"/>\n",
       "<polygon fill=\"black\" points=\"84.5001,-417.441 81,-407.441 77.5001,-417.441 84.5001,-417.441\" stroke=\"black\"/>\n",
       "</g>\n",
       "<!-- 196456336 -->\n",
       "<g class=\"node\" id=\"node7\"><title>196456336</title>\n",
       "<polygon fill=\"none\" points=\"3.5,-297 3.5,-333 158.5,-333 158.5,-297 3.5,-297\" stroke=\"black\"/>\n",
       "<text font-family=\"Times,serif\" font-size=\"14.00\" text-anchor=\"middle\" x=\"81\" y=\"-311.3\">activation_18: Activation</text>\n",
       "</g>\n",
       "<!-- 196486800&#45;&gt;196456336 -->\n",
       "<g class=\"edge\" id=\"edge6\"><title>196486800-&gt;196456336</title>\n",
       "<path d=\"M81,-370.937C81,-362.807 81,-352.876 81,-343.705\" fill=\"none\" stroke=\"black\"/>\n",
       "<polygon fill=\"black\" points=\"84.5001,-343.441 81,-333.441 77.5001,-343.441 84.5001,-343.441\" stroke=\"black\"/>\n",
       "</g>\n",
       "<!-- 184174992 -->\n",
       "<g class=\"node\" id=\"node8\"><title>184174992</title>\n",
       "<polygon fill=\"none\" points=\"26.5,-223 26.5,-259 135.5,-259 135.5,-223 26.5,-223\" stroke=\"black\"/>\n",
       "<text font-family=\"Times,serif\" font-size=\"14.00\" text-anchor=\"middle\" x=\"81\" y=\"-237.3\">dense_19: Dense</text>\n",
       "</g>\n",
       "<!-- 196456336&#45;&gt;184174992 -->\n",
       "<g class=\"edge\" id=\"edge7\"><title>196456336-&gt;184174992</title>\n",
       "<path d=\"M81,-296.937C81,-288.807 81,-278.876 81,-269.705\" fill=\"none\" stroke=\"black\"/>\n",
       "<polygon fill=\"black\" points=\"84.5001,-269.441 81,-259.441 77.5001,-269.441 84.5001,-269.441\" stroke=\"black\"/>\n",
       "</g>\n",
       "<!-- 184151632 -->\n",
       "<g class=\"node\" id=\"node9\"><title>184151632</title>\n",
       "<polygon fill=\"none\" points=\"3.5,-149 3.5,-185 158.5,-185 158.5,-149 3.5,-149\" stroke=\"black\"/>\n",
       "<text font-family=\"Times,serif\" font-size=\"14.00\" text-anchor=\"middle\" x=\"81\" y=\"-163.3\">activation_19: Activation</text>\n",
       "</g>\n",
       "<!-- 184174992&#45;&gt;184151632 -->\n",
       "<g class=\"edge\" id=\"edge8\"><title>184174992-&gt;184151632</title>\n",
       "<path d=\"M81,-222.937C81,-214.807 81,-204.876 81,-195.705\" fill=\"none\" stroke=\"black\"/>\n",
       "<polygon fill=\"black\" points=\"84.5001,-195.441 81,-185.441 77.5001,-195.441 84.5001,-195.441\" stroke=\"black\"/>\n",
       "</g>\n",
       "<!-- 137061968 -->\n",
       "<g class=\"node\" id=\"node10\"><title>137061968</title>\n",
       "<polygon fill=\"none\" points=\"26.5,-75 26.5,-111 135.5,-111 135.5,-75 26.5,-75\" stroke=\"black\"/>\n",
       "<text font-family=\"Times,serif\" font-size=\"14.00\" text-anchor=\"middle\" x=\"81\" y=\"-89.3\">dense_20: Dense</text>\n",
       "</g>\n",
       "<!-- 184151632&#45;&gt;137061968 -->\n",
       "<g class=\"edge\" id=\"edge9\"><title>184151632-&gt;137061968</title>\n",
       "<path d=\"M81,-148.937C81,-140.807 81,-130.876 81,-121.705\" fill=\"none\" stroke=\"black\"/>\n",
       "<polygon fill=\"black\" points=\"84.5001,-121.441 81,-111.441 77.5001,-121.441 84.5001,-121.441\" stroke=\"black\"/>\n",
       "</g>\n",
       "<!-- 184192784 -->\n",
       "<g class=\"node\" id=\"node11\"><title>184192784</title>\n",
       "<polygon fill=\"none\" points=\"3.5,-1 3.5,-37 158.5,-37 158.5,-1 3.5,-1\" stroke=\"black\"/>\n",
       "<text font-family=\"Times,serif\" font-size=\"14.00\" text-anchor=\"middle\" x=\"81\" y=\"-15.3\">activation_20: Activation</text>\n",
       "</g>\n",
       "<!-- 137061968&#45;&gt;184192784 -->\n",
       "<g class=\"edge\" id=\"edge10\"><title>137061968-&gt;184192784</title>\n",
       "<path d=\"M81,-74.937C81,-66.8072 81,-56.8761 81,-47.7047\" fill=\"none\" stroke=\"black\"/>\n",
       "<polygon fill=\"black\" points=\"84.5001,-47.4406 81,-37.4407 77.5001,-47.4407 84.5001,-47.4406\" stroke=\"black\"/>\n",
       "</g>\n",
       "</g>\n",
       "</svg>"
      ],
      "text/plain": [
       "<IPython.core.display.SVG object>"
      ]
     },
     "execution_count": 17,
     "metadata": {},
     "output_type": "execute_result"
    }
   ],
   "source": [
    "SVG(model_to_dot(model).create(prog='dot', format='svg'))"
   ]
  },
  {
   "cell_type": "code",
   "execution_count": 18,
   "metadata": {
    "collapsed": false,
    "deletable": true,
    "editable": true
   },
   "outputs": [
    {
     "data": {
      "text/plain": [
       "<keras.callbacks.History at 0xe3c6d50>"
      ]
     },
     "execution_count": 18,
     "metadata": {},
     "output_type": "execute_result"
    }
   ],
   "source": [
    "tensorboard3 = TensorBoard(log_dir='/home/tensorflow/log/five_layer_relu/epoch', histogram_freq=0)\n",
    "my_tensorboard3 = BatchTensorBoard(log_dir='/home/tensorflow/log/five_layer_relu/batch')\n",
    "model.fit(x_train_1, y_train_1,\n",
    "          nb_epoch=30,\n",
    "          verbose=0,\n",
    "          batch_size=100,\n",
    "          callbacks=[my_tensorboard3, tensorboard3])"
   ]
  },
  {
   "cell_type": "code",
   "execution_count": 19,
   "metadata": {
    "collapsed": false,
    "deletable": true,
    "editable": true
   },
   "outputs": [
    {
     "name": "stdout",
     "output_type": "stream",
     "text": [
      "['loss', 'acc']\n",
      " 9600/10000 [===========================>..] - ETA: 0s\b\b\b\b\b\b\b\b\b\b\b\b\b\b\b\b\b\b\b\b\b\b\b\b\b\b\b\b\b\b\b\b\b\b\b\b\b\b\b\b\b\b\b\b\b\b\b\b\b\b\b\b\b\b\b\b\b\b\b\b\b\b\b\b\b\b\b\b\b\b\b\b\b\b\b\b\b\b\b\b\b\b\b\b\b\b\b\b\b\b\b\b\b\b\b\b\b\b\b\b\b\b\b\b\b\b\b\b\b\b\b\b\b\b\b\b\b\b\b\b\b\b\b\b\b\b\b\b\b\b\b\b\b\b\b\b\b\b\b\b\b\b\b\b\b\b\b\b\b\b\b\b\b\b\b\b\b\b\b\b\b\b\b\b\b\b\b\b\b\b\b\b\b\b\b\b\b\b\b\b\b\b\b\b\b\b\b\b\b\b\b\b\b\b\b\b\b\b\b\b\b\b\b\b\b\b\b\b\b\b\b\b\b\b\b\b\b\b\b\b\b\b\b\b\b\b\b\b\b\b\b\b\b\b\b\b\b\b\b\b\b\b\b\b\b\b\b\b\b\b\b\b\b\b\b\b\b\b\b\b\b\b\b\b\b\b\b\b\b\b\b\b\b\b\b\b\b\b\b\b\b\b\b\b\b\b\b\b\b\b\b\b\b\b\b\b\b\b\b\b\b\b\b\b\b\b\b\b\b\b\b\b\b\b\b\b\b\b\b\b\b\b\b\b\b\b\b\b\b\b\b\b\b\b\b\b\b\b\b\b\b\b\b\b\b\b\b\b\b\b\b\b\b\b\b\b\b\b\b\b\b\b\b\b\b\b\b\b\b\b\b\b\b\b\b\b\b\b\b\b\b\b\b\b\b\b\b\b\b\b\b\b\b\b\b\b\b\b\b\b\b\b\b\b\b\b\b\b\b\b\b\b\b\b\b\b\b\b\b\b\b\b\b\b\b\b\b\b\b\b\b\b\b\b\b\b\b\b\b\b\b\b\b\b\b\b\b\b\b\b\b\b\b\b\b\b\b\b\b\b\b\b\b\b\b\b\b\b\b\b\b\b\b\b\b\b\b\b\b\b\b\b\b\b\b\b\b\b\b\b\b\b\b\b\b\b\b\b\b\b\b\b\b\b\b\b\b\b\b\b\b\b\b\b\b\b\b\b\b\b\b\b\b\b\b\b\b\b\b\b\b\b\b\b\b\b\b\b\b\b\b\b\b\b\b\b\b\b\b\b\b\b\b\b\b\b\b\b\b\b\b\b\b\b\b\b\b\b\b\b\b\b\b\b\b\b\b\b\b\b\b\b\b\b\b\b\b\b\b\b\b\b\b\b\b\b\b\b\b\b\b\b\b\b\b\b\b\b\b\b\b\b\b\b\b\b\b\b\b\b\b\b\b\b\b\b\b\b\b\b\b\b\b\b\b\b\b\b\b\b\b\b\b\b\b\b\b\b\b\b\b\b\b\b\b\b\b\b\b\b\b\b\b\b\b\b\b\b\b\b\b\b\b\b\b\b\b\b\b\b\b\b\b\b\b\b\b\b\b\b\b\b\b\b\b\b\b\b\b\b\b\b\b\b\b\b\b\b\b\b\b\b\b\b\b\b\b\b\b\b\b\b\b\b\b\b\b\b\b\b\b\b\b\b\b\b\b\b\b\b\b\b\b\b\b\b\b\b\b\b\b\b\b\b\b\b\b\b\b\b\b\b\b\b\b\b\b\b\b\b\b\b\b\b\b\b\b\b\b\b\b\b\b\b\b\b\b\b\b\b\b\b\b\b\b\b\b\b\b\b\b\b\b\b\b\b\b\b\b\b\b\b\b\b\b\b\b\b\b\b\b\b\b\b\b\b\b\b\b\b\b\b\b\b\b\b\b\b\b\b\b\b\b\b\b\b\b\b\b\b\b\b\b\b\b\b\b\b\b\b\b\b\b\b\b\b\b\b\b\b\b\b\b\b\b\b\b\b\b\b\b\b\b\b\b\b\b\b\b\b\b\b\b\b\b\b\b\b\b\b\b\b\b\b\b\b\b\b\b\b\b\b\b\b\b\b\b\b\b\b\b\b\b\b\b\b\b\b\b\b\b\b\b\b\b\b\b\b\b\b\b\b\b\b\b\b\b\b\b\b\b\b\b\b\b\b\b\b\b\b\b\b\b\b\b\b\b\b\b\b\b\b\b\b\b\b\b\b\b\b\b\b\b\b\b\b\b\b\b\b\b\b\b\b\b\b\b\b\b\b\b\b\b\b\b\b\b\b\b\b\b\b\b\b\b\b\b\b\b\b\b\b\b\b\b\b\b\b\b\b\b\b\b\b\b\b\b\b\b\b\b\b\b\b\b\b\b\b\b\b\b\b\b\b\b\b\b\b\b\b\b\b\b\b\b\b\b\b\b\b\b\b\b\b\b\b\b\b\b\b"
     ]
    },
    {
     "data": {
      "text/plain": [
       "[0.017244604945910281, 0.99598000288009647]"
      ]
     },
     "execution_count": 19,
     "metadata": {},
     "output_type": "execute_result"
    }
   ],
   "source": [
    "#模型的测试误差指标\n",
    "print(model.metrics_names)\n",
    "# 对测试数据进行测试\n",
    "model.evaluate(x_test_1, y_test_1,\n",
    "          verbose=1,\n",
    "          batch_size=100)"
   ]
  },
  {
   "cell_type": "markdown",
   "metadata": {
    "deletable": true,
    "editable": true
   },
   "source": [
    "### 7.Dropout\n",
    "\n",
    "--------------------\n",
    "\n",
    "运行目录下的[mnist_2.1_five_layers_relu_lrdecay.py](!https://github.com/martin-gorner/tensorflow-mnist-tutorial/blob/master/mnist_2.1_five_layers_relu_lrdecay.py)\n",
    "\n",
    "<img src='./img/big-gap.png' style='width: 50%'>\n",
    "\n",
    "随着迭代次数的增加，我们可以发现测试数据的loss值和训练数据的loss存在着巨大的差距， 随着迭代次数增加，train loss 越来越好，但test loss 的结果确越来越差，test loss 和 train loss 差距越来越大，模型开始过拟合。\n",
    "\n",
    "Dropout是指对于神经网络单元按照一定的概率将其暂时从网络中丢弃,从而解决过拟合问题。\n",
    "\n",
    "<img src='./img/dropout-1.png' style='width: 50%'>\n",
    "\n",
    "\n",
    "可以对比[mnist_2.1_five_layers_relu_lrdecay.py](!https://github.com/martin-gorner/tensorflow-mnist-tutorial/blob/master/mnist_2.1_five_layers_relu_lrdecay.py) 和 加了dropout的[/mnist_2.2_five_layers_relu_lrdecay_dropout.py](!https://github.com/martin-gorner/tensorflow-mnist-tutorial/blob/master/mnist_2.2_five_layers_relu_lrdecay_dropout.py)的结果"
   ]
  },
  {
   "cell_type": "code",
   "execution_count": 111,
   "metadata": {
    "collapsed": false,
    "deletable": true,
    "editable": true
   },
   "outputs": [
    {
     "name": "stdout",
     "output_type": "stream",
     "text": [
      "____________________________________________________________________________________________________\n",
      "Layer (type)                     Output Shape          Param #     Connected to                     \n",
      "====================================================================================================\n",
      "dense_171 (Dense)                (None, 200)           157000      dense_input_35[0][0]             \n",
      "____________________________________________________________________________________________________\n",
      "activation_171 (Activation)      (None, 200)           0           dense_171[0][0]                  \n",
      "____________________________________________________________________________________________________\n",
      "dense_172 (Dense)                (None, 100)           20100       activation_171[0][0]             \n",
      "____________________________________________________________________________________________________\n",
      "activation_172 (Activation)      (None, 100)           0           dense_172[0][0]                  \n",
      "____________________________________________________________________________________________________\n",
      "dropout_100 (Dropout)            (None, 100)           0           activation_172[0][0]             \n",
      "____________________________________________________________________________________________________\n",
      "dense_173 (Dense)                (None, 60)            6060        dropout_100[0][0]                \n",
      "____________________________________________________________________________________________________\n",
      "activation_173 (Activation)      (None, 60)            0           dense_173[0][0]                  \n",
      "____________________________________________________________________________________________________\n",
      "dropout_101 (Dropout)            (None, 60)            0           activation_173[0][0]             \n",
      "____________________________________________________________________________________________________\n",
      "dense_174 (Dense)                (None, 30)            1830        dropout_101[0][0]                \n",
      "____________________________________________________________________________________________________\n",
      "activation_174 (Activation)      (None, 30)            0           dense_174[0][0]                  \n",
      "____________________________________________________________________________________________________\n",
      "dropout_102 (Dropout)            (None, 30)            0           activation_174[0][0]             \n",
      "____________________________________________________________________________________________________\n",
      "dense_175 (Dense)                (None, 10)            310         dropout_102[0][0]                \n",
      "____________________________________________________________________________________________________\n",
      "activation_175 (Activation)      (None, 10)            0           dense_175[0][0]                  \n",
      "====================================================================================================\n",
      "Total params: 185,300\n",
      "Trainable params: 185,300\n",
      "Non-trainable params: 0\n",
      "____________________________________________________________________________________________________\n"
     ]
    }
   ],
   "source": [
    "# neural network with 5 layers\n",
    "#\n",
    "# · · · · · · · · · ·       (input data, flattened pixels)       X [batch, 784]   # 784 = 28*28\n",
    "# \\x/x\\x/x\\x/x\\x/x\\x/ ✞  -- fully connected layer (relu+dropout) W1 [784, 200]      B1[200]\n",
    "#  · · · · · · · · ·                                             Y1 [batch, 200]\n",
    "#   \\x/x\\x/x\\x/x\\x/ ✞    -- fully connected layer (relu+dropout) W2 [200, 100]      B2[100]\n",
    "#    · · · · · · ·                                               Y2 [batch, 100]\n",
    "#    \\x/x\\x/x\\x/ ✞       -- fully connected layer (relu+dropout) W3 [100, 60]       B3[60]\n",
    "#     · · · · ·                                                  Y3 [batch, 60]\n",
    "#     \\x/x\\x/ ✞          -- fully connected layer (relu+dropout) W4 [60, 30]        B4[30]\n",
    "#      · · ·                                                     Y4 [batch, 30]\n",
    "#      \\x/               -- fully connected layer (softmax)      W5 [30, 10]        B5[10]\n",
    "#       ·                                                        Y5 [batch, 10]\n",
    "model = Sequential()\n",
    "model.add(Dense(200, input_shape=(784,)))#全连接，输入784维度, 输出10维度，需要和输入输出对应\n",
    "model.add(Activation('relu'))# 将激活函数sigmoid改为ReLU\n",
    "model.add(Dense(100))\n",
    "model.add(Activation('relu'))\n",
    "model.add(Dropout(0.25))# 添加一个dropout层, 随机移除25%的单元\n",
    "model.add(Dense(60))\n",
    "model.add(Activation('relu'))\n",
    "model.add(Dropout(0.25))\n",
    "model.add(Dense(30))            \n",
    "model.add(Activation('relu'))\n",
    "model.add(Dropout(0.25))\n",
    "model.add(Dense(10))\n",
    "model.add(Activation('softmax'))\n",
    "\n",
    "sgd = Adam(lr=0.001)\n",
    "model.compile(loss='binary_crossentropy',\n",
    "              optimizer=sgd,\n",
    "              metrics=['accuracy'])\n",
    "\n",
    "#model 概要\n",
    "model.summary()"
   ]
  },
  {
   "cell_type": "code",
   "execution_count": 112,
   "metadata": {
    "collapsed": false,
    "deletable": true,
    "editable": true
   },
   "outputs": [
    {
     "data": {
      "image/svg+xml": [
       "<svg height=\"1008pt\" viewBox=\"0.00 0.00 178.00 1008.00\" width=\"178pt\" xmlns=\"http://www.w3.org/2000/svg\" xmlns:xlink=\"http://www.w3.org/1999/xlink\">\n",
       "<g class=\"graph\" id=\"graph0\" transform=\"scale(1 1) rotate(0) translate(4 1004)\">\n",
       "<title>G</title>\n",
       "<polygon fill=\"white\" points=\"-4,5 -4,-1004 175,-1004 175,5 -4,5\" stroke=\"white\"/>\n",
       "<!-- 728735312 -->\n",
       "<g class=\"node\" id=\"node1\"><title>728735312</title>\n",
       "<polygon fill=\"none\" points=\"0,-963 0,-999 170,-999 170,-963 0,-963\" stroke=\"black\"/>\n",
       "<text font-family=\"Times,serif\" font-size=\"14.00\" text-anchor=\"middle\" x=\"85\" y=\"-977.3\">dense_input_35: InputLayer</text>\n",
       "</g>\n",
       "<!-- 1071689168 -->\n",
       "<g class=\"node\" id=\"node2\"><title>1071689168</title>\n",
       "<polygon fill=\"none\" points=\"27,-889 27,-925 143,-925 143,-889 27,-889\" stroke=\"black\"/>\n",
       "<text font-family=\"Times,serif\" font-size=\"14.00\" text-anchor=\"middle\" x=\"85\" y=\"-903.3\">dense_171: Dense</text>\n",
       "</g>\n",
       "<!-- 728735312&#45;&gt;1071689168 -->\n",
       "<g class=\"edge\" id=\"edge1\"><title>728735312-&gt;1071689168</title>\n",
       "<path d=\"M85,-962.937C85,-954.807 85,-944.876 85,-935.705\" fill=\"none\" stroke=\"black\"/>\n",
       "<polygon fill=\"black\" points=\"88.5001,-935.441 85,-925.441 81.5001,-935.441 88.5001,-935.441\" stroke=\"black\"/>\n",
       "</g>\n",
       "<!-- 1071688400 -->\n",
       "<g class=\"node\" id=\"node3\"><title>1071688400</title>\n",
       "<polygon fill=\"none\" points=\"4.5,-815 4.5,-851 165.5,-851 165.5,-815 4.5,-815\" stroke=\"black\"/>\n",
       "<text font-family=\"Times,serif\" font-size=\"14.00\" text-anchor=\"middle\" x=\"85\" y=\"-829.3\">activation_171: Activation</text>\n",
       "</g>\n",
       "<!-- 1071689168&#45;&gt;1071688400 -->\n",
       "<g class=\"edge\" id=\"edge2\"><title>1071689168-&gt;1071688400</title>\n",
       "<path d=\"M85,-888.937C85,-880.807 85,-870.876 85,-861.705\" fill=\"none\" stroke=\"black\"/>\n",
       "<polygon fill=\"black\" points=\"88.5001,-861.441 85,-851.441 81.5001,-861.441 88.5001,-861.441\" stroke=\"black\"/>\n",
       "</g>\n",
       "<!-- 709479568 -->\n",
       "<g class=\"node\" id=\"node4\"><title>709479568</title>\n",
       "<polygon fill=\"none\" points=\"27,-741 27,-777 143,-777 143,-741 27,-741\" stroke=\"black\"/>\n",
       "<text font-family=\"Times,serif\" font-size=\"14.00\" text-anchor=\"middle\" x=\"85\" y=\"-755.3\">dense_172: Dense</text>\n",
       "</g>\n",
       "<!-- 1071688400&#45;&gt;709479568 -->\n",
       "<g class=\"edge\" id=\"edge3\"><title>1071688400-&gt;709479568</title>\n",
       "<path d=\"M85,-814.937C85,-806.807 85,-796.876 85,-787.705\" fill=\"none\" stroke=\"black\"/>\n",
       "<polygon fill=\"black\" points=\"88.5001,-787.441 85,-777.441 81.5001,-787.441 88.5001,-787.441\" stroke=\"black\"/>\n",
       "</g>\n",
       "<!-- 728733712 -->\n",
       "<g class=\"node\" id=\"node5\"><title>728733712</title>\n",
       "<polygon fill=\"none\" points=\"4.5,-667 4.5,-703 165.5,-703 165.5,-667 4.5,-667\" stroke=\"black\"/>\n",
       "<text font-family=\"Times,serif\" font-size=\"14.00\" text-anchor=\"middle\" x=\"85\" y=\"-681.3\">activation_172: Activation</text>\n",
       "</g>\n",
       "<!-- 709479568&#45;&gt;728733712 -->\n",
       "<g class=\"edge\" id=\"edge4\"><title>709479568-&gt;728733712</title>\n",
       "<path d=\"M85,-740.937C85,-732.807 85,-722.876 85,-713.705\" fill=\"none\" stroke=\"black\"/>\n",
       "<polygon fill=\"black\" points=\"88.5001,-713.441 85,-703.441 81.5001,-713.441 88.5001,-713.441\" stroke=\"black\"/>\n",
       "</g>\n",
       "<!-- 495570064 -->\n",
       "<g class=\"node\" id=\"node6\"><title>495570064</title>\n",
       "<polygon fill=\"none\" points=\"16,-593 16,-629 154,-629 154,-593 16,-593\" stroke=\"black\"/>\n",
       "<text font-family=\"Times,serif\" font-size=\"14.00\" text-anchor=\"middle\" x=\"85\" y=\"-607.3\">dropout_100: Dropout</text>\n",
       "</g>\n",
       "<!-- 728733712&#45;&gt;495570064 -->\n",
       "<g class=\"edge\" id=\"edge5\"><title>728733712-&gt;495570064</title>\n",
       "<path d=\"M85,-666.937C85,-658.807 85,-648.876 85,-639.705\" fill=\"none\" stroke=\"black\"/>\n",
       "<polygon fill=\"black\" points=\"88.5001,-639.441 85,-629.441 81.5001,-639.441 88.5001,-639.441\" stroke=\"black\"/>\n",
       "</g>\n",
       "<!-- 495606480 -->\n",
       "<g class=\"node\" id=\"node7\"><title>495606480</title>\n",
       "<polygon fill=\"none\" points=\"27,-519 27,-555 143,-555 143,-519 27,-519\" stroke=\"black\"/>\n",
       "<text font-family=\"Times,serif\" font-size=\"14.00\" text-anchor=\"middle\" x=\"85\" y=\"-533.3\">dense_173: Dense</text>\n",
       "</g>\n",
       "<!-- 495570064&#45;&gt;495606480 -->\n",
       "<g class=\"edge\" id=\"edge6\"><title>495570064-&gt;495606480</title>\n",
       "<path d=\"M85,-592.937C85,-584.807 85,-574.876 85,-565.705\" fill=\"none\" stroke=\"black\"/>\n",
       "<polygon fill=\"black\" points=\"88.5001,-565.441 85,-555.441 81.5001,-565.441 88.5001,-565.441\" stroke=\"black\"/>\n",
       "</g>\n",
       "<!-- 495631568 -->\n",
       "<g class=\"node\" id=\"node8\"><title>495631568</title>\n",
       "<polygon fill=\"none\" points=\"4.5,-445 4.5,-481 165.5,-481 165.5,-445 4.5,-445\" stroke=\"black\"/>\n",
       "<text font-family=\"Times,serif\" font-size=\"14.00\" text-anchor=\"middle\" x=\"85\" y=\"-459.3\">activation_173: Activation</text>\n",
       "</g>\n",
       "<!-- 495606480&#45;&gt;495631568 -->\n",
       "<g class=\"edge\" id=\"edge7\"><title>495606480-&gt;495631568</title>\n",
       "<path d=\"M85,-518.937C85,-510.807 85,-500.876 85,-491.705\" fill=\"none\" stroke=\"black\"/>\n",
       "<polygon fill=\"black\" points=\"88.5001,-491.441 85,-481.441 81.5001,-491.441 88.5001,-491.441\" stroke=\"black\"/>\n",
       "</g>\n",
       "<!-- 1120534096 -->\n",
       "<g class=\"node\" id=\"node9\"><title>1120534096</title>\n",
       "<polygon fill=\"none\" points=\"16,-371 16,-407 154,-407 154,-371 16,-371\" stroke=\"black\"/>\n",
       "<text font-family=\"Times,serif\" font-size=\"14.00\" text-anchor=\"middle\" x=\"85\" y=\"-385.3\">dropout_101: Dropout</text>\n",
       "</g>\n",
       "<!-- 495631568&#45;&gt;1120534096 -->\n",
       "<g class=\"edge\" id=\"edge8\"><title>495631568-&gt;1120534096</title>\n",
       "<path d=\"M85,-444.937C85,-436.807 85,-426.876 85,-417.705\" fill=\"none\" stroke=\"black\"/>\n",
       "<polygon fill=\"black\" points=\"88.5001,-417.441 85,-407.441 81.5001,-417.441 88.5001,-417.441\" stroke=\"black\"/>\n",
       "</g>\n",
       "<!-- 1120508240 -->\n",
       "<g class=\"node\" id=\"node10\"><title>1120508240</title>\n",
       "<polygon fill=\"none\" points=\"27,-297 27,-333 143,-333 143,-297 27,-297\" stroke=\"black\"/>\n",
       "<text font-family=\"Times,serif\" font-size=\"14.00\" text-anchor=\"middle\" x=\"85\" y=\"-311.3\">dense_174: Dense</text>\n",
       "</g>\n",
       "<!-- 1120534096&#45;&gt;1120508240 -->\n",
       "<g class=\"edge\" id=\"edge9\"><title>1120534096-&gt;1120508240</title>\n",
       "<path d=\"M85,-370.937C85,-362.807 85,-352.876 85,-343.705\" fill=\"none\" stroke=\"black\"/>\n",
       "<polygon fill=\"black\" points=\"88.5001,-343.441 85,-333.441 81.5001,-343.441 88.5001,-343.441\" stroke=\"black\"/>\n",
       "</g>\n",
       "<!-- 878261712 -->\n",
       "<g class=\"node\" id=\"node11\"><title>878261712</title>\n",
       "<polygon fill=\"none\" points=\"4.5,-223 4.5,-259 165.5,-259 165.5,-223 4.5,-223\" stroke=\"black\"/>\n",
       "<text font-family=\"Times,serif\" font-size=\"14.00\" text-anchor=\"middle\" x=\"85\" y=\"-237.3\">activation_174: Activation</text>\n",
       "</g>\n",
       "<!-- 1120508240&#45;&gt;878261712 -->\n",
       "<g class=\"edge\" id=\"edge10\"><title>1120508240-&gt;878261712</title>\n",
       "<path d=\"M85,-296.937C85,-288.807 85,-278.876 85,-269.705\" fill=\"none\" stroke=\"black\"/>\n",
       "<polygon fill=\"black\" points=\"88.5001,-269.441 85,-259.441 81.5001,-269.441 88.5001,-269.441\" stroke=\"black\"/>\n",
       "</g>\n",
       "<!-- 878384848 -->\n",
       "<g class=\"node\" id=\"node12\"><title>878384848</title>\n",
       "<polygon fill=\"none\" points=\"16,-149 16,-185 154,-185 154,-149 16,-149\" stroke=\"black\"/>\n",
       "<text font-family=\"Times,serif\" font-size=\"14.00\" text-anchor=\"middle\" x=\"85\" y=\"-163.3\">dropout_102: Dropout</text>\n",
       "</g>\n",
       "<!-- 878261712&#45;&gt;878384848 -->\n",
       "<g class=\"edge\" id=\"edge11\"><title>878261712-&gt;878384848</title>\n",
       "<path d=\"M85,-222.937C85,-214.807 85,-204.876 85,-195.705\" fill=\"none\" stroke=\"black\"/>\n",
       "<polygon fill=\"black\" points=\"88.5001,-195.441 85,-185.441 81.5001,-195.441 88.5001,-195.441\" stroke=\"black\"/>\n",
       "</g>\n",
       "<!-- 878415632 -->\n",
       "<g class=\"node\" id=\"node13\"><title>878415632</title>\n",
       "<polygon fill=\"none\" points=\"27,-75 27,-111 143,-111 143,-75 27,-75\" stroke=\"black\"/>\n",
       "<text font-family=\"Times,serif\" font-size=\"14.00\" text-anchor=\"middle\" x=\"85\" y=\"-89.3\">dense_175: Dense</text>\n",
       "</g>\n",
       "<!-- 878384848&#45;&gt;878415632 -->\n",
       "<g class=\"edge\" id=\"edge12\"><title>878384848-&gt;878415632</title>\n",
       "<path d=\"M85,-148.937C85,-140.807 85,-130.876 85,-121.705\" fill=\"none\" stroke=\"black\"/>\n",
       "<polygon fill=\"black\" points=\"88.5001,-121.441 85,-111.441 81.5001,-121.441 88.5001,-121.441\" stroke=\"black\"/>\n",
       "</g>\n",
       "<!-- 1280682512 -->\n",
       "<g class=\"node\" id=\"node14\"><title>1280682512</title>\n",
       "<polygon fill=\"none\" points=\"4.5,-1 4.5,-37 165.5,-37 165.5,-1 4.5,-1\" stroke=\"black\"/>\n",
       "<text font-family=\"Times,serif\" font-size=\"14.00\" text-anchor=\"middle\" x=\"85\" y=\"-15.3\">activation_175: Activation</text>\n",
       "</g>\n",
       "<!-- 878415632&#45;&gt;1280682512 -->\n",
       "<g class=\"edge\" id=\"edge13\"><title>878415632-&gt;1280682512</title>\n",
       "<path d=\"M85,-74.937C85,-66.8072 85,-56.8761 85,-47.7047\" fill=\"none\" stroke=\"black\"/>\n",
       "<polygon fill=\"black\" points=\"88.5001,-47.4406 85,-37.4407 81.5001,-47.4407 88.5001,-47.4406\" stroke=\"black\"/>\n",
       "</g>\n",
       "</g>\n",
       "</svg>"
      ],
      "text/plain": [
       "<IPython.core.display.SVG object>"
      ]
     },
     "execution_count": 112,
     "metadata": {},
     "output_type": "execute_result"
    }
   ],
   "source": [
    "SVG(model_to_dot(model).create(prog='dot', format='svg'))"
   ]
  },
  {
   "cell_type": "code",
   "execution_count": 113,
   "metadata": {
    "collapsed": false,
    "deletable": true,
    "editable": true
   },
   "outputs": [
    {
     "data": {
      "text/plain": [
       "<keras.callbacks.History at 0x27819610>"
      ]
     },
     "execution_count": 113,
     "metadata": {},
     "output_type": "execute_result"
    }
   ],
   "source": [
    "tensorboard4 = TensorBoard(log_dir='/home/tensorflow/log/five_layer_relu_dropout/epoch')\n",
    "my_tensorboard4 = BatchTensorBoard(log_dir='/home/tensorflow/log/five_layer_relu_dropout/batch')\n",
    "\n",
    "model.fit(x_train_1, y_train_1,\n",
    "          nb_epoch=30,\n",
    "          verbose=0,\n",
    "          batch_size=100,\n",
    "          callbacks=[tensorboard4, my_tensorboard4])"
   ]
  },
  {
   "cell_type": "code",
   "execution_count": 114,
   "metadata": {
    "collapsed": false,
    "deletable": true,
    "editable": true
   },
   "outputs": [
    {
     "name": "stdout",
     "output_type": "stream",
     "text": [
      "['loss', 'acc']\n",
      " 9900/10000 [============================>.] - ETA: 0s \b\b\b\b\b\b\b\b\b\b\b\b\b\b\b\b\b\b\b\b\b\b\b\b\b\b\b\b\b\b\b\b\b\b\b\b\b\b\b\b\b\b\b\b\b\b\b\b\b\b\b\b\b\b\b\b\b\b\b\b\b\b\b\b\b\b\b\b\b\b\b\b\b\b\b\b\b\b\b\b\b\b\b\b\b\b\b\b\b\b\b\b\b\b\b\b\b\b\b\b\b\b\b\b\b\b\b\b\b\b\b\b\b\b\b\b\b\b\b\b\b\b\b\b\b\b\b\b\b\b\b\b\b\b\b\b\b\b\b\b\b\b\b\b\b\b\b\b\b\b\b\b\b\b\b\b\b\b\b\b\b\b\b\b\b\b\b\b\b\b\b\b\b\b\b\b\b\b\b\b\b\b\b\b\b\b\b\b\b\b\b\b\b\b\b\b\b\b\b\b\b\b\b\b\b\b\b\b\b\b\b\b\b\b\b\b\b\b\b\b\b\b\b\b\b\b\b\b\b\b\b\b\b\b\b\b\b\b\b\b\b\b\b\b\b\b\b\b\b\b\b\b\b\b\b\b\b\b\b\b\b\b\b\b\b\b\b\b\b\b\b\b\b\b\b\b\b\b\b\b\b\b\b\b\b\b\b\b\b\b\b\b\b\b\b\b\b\b\b\b\b\b\b\b\b\b\b\b\b\b\b\b\b\b\b\b\b\b\b\b\b\b\b\b\b\b\b\b\b\b\b\b\b\b\b\b\b\b\b\b\b\b\b\b\b\b\b\b\b\b\b\b\b\b\b\b\b\b\b\b\b\b\b\b\b\b\b\b\b\b\b\b\b\b\b\b\b\b\b\b\b\b\b\b\b\b\b\b\b\b\b\b\b\b\b\b\b\b\b\b\b\b\b\b\b\b\b\b\b\b\b\b\b\b\b\b\b\b\b\b\b\b\b\b\b\b\b\b\b\b\b\b\b\b\b\b\b\b\b\b\b\b\b\b\b\b\b\b\b\b\b\b\b\b\b\b\b\b\b\b\b\b\b\b\b\b\b\b\b\b\b\b\b\b\b\b\b\b\b\b\b\b\b\b\b\b\b\b\b\b\b\b\b\b\b\b\b\b\b\b\b\b\b\b\b\b\b\b\b\b\b\b\b\b\b\b\b\b\b\b\b\b\b\b\b\b\b\b\b\b\b\b\b\b\b\b\b\b\b\b\b\b\b\b\b\b\b\b\b\b\b\b\b\b\b\b\b\b\b\b\b\b\b\b\b\b\b\b\b\b\b\b\b\b\b\b\b\b\b\b\b\b\b\b\b\b\b\b\b\b\b\b\b\b\b\b\b\b\b\b\b\b\b\b\b\b\b\b\b\b\b\b\b\b\b\b\b\b\b\b\b\b\b\b\b\b\b\b\b\b\b\b\b\b\b\b\b\b\b\b\b\b\b\b\b\b\b\b\b\b\b\b\b\b\b\b\b\b\b\b\b\b\b\b\b\b\b\b\b\b\b\b\b\b\b\b\b\b\b\b\b\b\b\b\b\b\b\b\b\b\b\b\b\b\b\b\b\b\b\b\b\b\b\b\b\b\b\b\b\b\b\b\b\b\b\b\b\b\b\b\b\b\b\b\b\b\b\b\b\b\b\b\b\b\b\b\b\b\b\b\b\b\b\b\b\b\b\b\b\b\b\b\b\b\b\b\b\b\b\b\b\b\b\b\b\b\b\b\b\b\b\b\b\b\b\b\b\b\b\b\b\b\b\b\b\b\b\b\b\b\b\b\b\b\b\b\b\b\b\b\b\b\b\b\b\b\b\b\b\b\b\b\b\b\b\b\b\b\b\b\b\b\b\b\b\b\b\b\b\b\b\b\b\b\b\b\b\b\b\b\b\b\b\b\b\b\b\b\b\b\b\b\b\b\b\b\b\b\b\b\b\b\b\b\b\b\b\b\b\b\b\b\b\b\b\b\b\b\b\b\b\b\b\b\b\b\b\b\b\b\b\b\b\b\b\b\b\b\b\b\b\b\b\b\b\b\b\b\b\b\b\b\b\b\b\b\b\b\b\b\b\b\b\b\b\b\b\b\b\b\b\b\b\b\b\b\b\b\b\b\b\b\b\b\b\b\b\b\b\b\b\b\b\b\b\b\b\b\b\b\b\b\b\b\b\b\b\b\b\b\b\b\b\b\b\b\b\b\b\b\b\b\b\b\b\b\b\b\b\b\b\b\b\b\b\b\b\b\b\b\b\b\b\b\b\b\b\b\b\b\b\b\b\b\b\b\b\b\b\b\b\b\b\b\b\b\b\b\b\b\b\b\b\b\b\b\b\b\b\b\b\b\b\b\b\b\b\b\b\b\b\b\b\b\b\b\b\b\b\b\b\b\b\b\b\b\b\b\b\b\b\b\b\b\b\b\b\b\b\b\b\b\b\b\b\b\b\b\b\b\b\b\b\b\b\b\b\b\b\b\b\b\b\b\b\b\b\b\b\b\b\b\b\b\b\b\b\b\b\b\b\b\b\b\b\b\b\b\b\b\b\b\b\b\b\b\b\b\b\b\b\b\b\b\b\b\b\b\b\b\b\b\b\b\b\b\b\b\b\b\b\b\b\b\b\b\b\b\b\b\b\b\b\b\b\b\b\b\b\b\b\b\b\b\b\b\b\b\b\b\b\b\b\b\b\b\b\b\b\b\b\b\b\b\b\b\b\b\b\b\b\b\b\b\b\b\b\b\b\b\b\b\b\b\b\b\b\b\b\b\b\b\b\b\b\b\b\b\b\b\b\b\b\b\b\b\b\b\b\b\b\b\b\b\b\b\b\b\b\b\b\b\b\b\b\b\b\b\b\b\b\b\b\b\b\b\b\b\b\b\b\b\b\b\b\b\b\b\b\b\b\b\b\b\b\b\b\b\b\b\b\b\b\b\b\b\b\b\b\b\b\b\b\b\b\b\b\b\b\b\b\b\b\b\b\b\b\b\b\b\b\b\b\b\b\b\b\b\b\b\b\b\b\b\b\b\b\b\b\b\b\b\b\b\b\b\b\b\b\b\b\b\b\b\b\b\b\b\b\b\b\b\b\b\b\b\b\b\b\b\b\b\b\b\b\b\b\b\b\b\b\b\b\b\b\b\b\b\b\b\b\b\b\b\b\b\b"
     ]
    },
    {
     "data": {
      "text/plain": [
       "[0.025450729207368569, 0.99462999999523161]"
      ]
     },
     "execution_count": 114,
     "metadata": {},
     "output_type": "execute_result"
    }
   ],
   "source": [
    "#模型的测试误差指标\n",
    "print(model.metrics_names)\n",
    "# 对测试数据进行测试\n",
    "model.evaluate(x_test_1, y_test_1,\n",
    "          verbose=1,\n",
    "          batch_size=100)"
   ]
  }
 ],
 "metadata": {
  "kernelspec": {
   "display_name": "Python 2",
   "language": "python",
   "name": "python2"
  },
  "language_info": {
   "codemirror_mode": {
    "name": "ipython",
    "version": 2
   },
   "file_extension": ".py",
   "mimetype": "text/x-python",
   "name": "python",
   "nbconvert_exporter": "python",
   "pygments_lexer": "ipython2",
   "version": "2.7.5"
  }
 },
 "nbformat": 4,
 "nbformat_minor": 2
}
